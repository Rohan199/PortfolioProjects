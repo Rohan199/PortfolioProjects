{
  "nbformat": 4,
  "nbformat_minor": 0,
  "metadata": {
    "colab": {
      "provenance": [],
      "authorship_tag": "ABX9TyO+2/W/G1cKi23Kju2c7ukV",
      "include_colab_link": true
    },
    "kernelspec": {
      "name": "python3",
      "display_name": "Python 3"
    },
    "language_info": {
      "name": "python"
    }
  },
  "cells": [
    {
      "cell_type": "markdown",
      "metadata": {
        "id": "view-in-github",
        "colab_type": "text"
      },
      "source": [
        "<a href=\"https://colab.research.google.com/github/Rohan199/PortfolioProjects/blob/main/BTC_prediction.ipynb\" target=\"_parent\"><img src=\"https://colab.research.google.com/assets/colab-badge.svg\" alt=\"Open In Colab\"/></a>"
      ]
    },
    {
      "cell_type": "markdown",
      "source": [
        "#Bitcoin Price Prediction with LSTM Long-Short-Term-Memory (TensorFlow )"
      ],
      "metadata": {
        "id": "huxDuZVwkiR6"
      }
    },
    {
      "cell_type": "code",
      "execution_count": 1,
      "metadata": {
        "colab": {
          "base_uri": "https://localhost:8080/"
        },
        "id": "uYkp-QHa4kUD",
        "outputId": "0418770f-969c-4f7c-cd43-37739b7e0167"
      },
      "outputs": [
        {
          "output_type": "stream",
          "name": "stdout",
          "text": [
            "Requirement already satisfied: Historic-Crypto in /usr/local/lib/python3.10/dist-packages (0.1.6)\n",
            "Requirement already satisfied: numpy in /usr/local/lib/python3.10/dist-packages (from Historic-Crypto) (1.23.5)\n",
            "Requirement already satisfied: requests in /usr/local/lib/python3.10/dist-packages (from Historic-Crypto) (2.31.0)\n",
            "Requirement already satisfied: charset-normalizer<4,>=2 in /usr/local/lib/python3.10/dist-packages (from requests->Historic-Crypto) (3.3.2)\n",
            "Requirement already satisfied: idna<4,>=2.5 in /usr/local/lib/python3.10/dist-packages (from requests->Historic-Crypto) (3.6)\n",
            "Requirement already satisfied: urllib3<3,>=1.21.1 in /usr/local/lib/python3.10/dist-packages (from requests->Historic-Crypto) (2.0.7)\n",
            "Requirement already satisfied: certifi>=2017.4.17 in /usr/local/lib/python3.10/dist-packages (from requests->Historic-Crypto) (2024.2.2)\n"
          ]
        }
      ],
      "source": [
        "!pip install Historic-Crypto"
      ]
    },
    {
      "cell_type": "code",
      "source": [
        "!pip install tensorflow"
      ],
      "metadata": {
        "colab": {
          "base_uri": "https://localhost:8080/"
        },
        "id": "iCznP42NQHBr",
        "outputId": "42a1afa1-34b3-454d-c2c8-a3bd6f80e128"
      },
      "execution_count": 2,
      "outputs": [
        {
          "output_type": "stream",
          "name": "stdout",
          "text": [
            "Requirement already satisfied: tensorflow in /usr/local/lib/python3.10/dist-packages (2.15.0)\n",
            "Requirement already satisfied: absl-py>=1.0.0 in /usr/local/lib/python3.10/dist-packages (from tensorflow) (1.4.0)\n",
            "Requirement already satisfied: astunparse>=1.6.0 in /usr/local/lib/python3.10/dist-packages (from tensorflow) (1.6.3)\n",
            "Requirement already satisfied: flatbuffers>=23.5.26 in /usr/local/lib/python3.10/dist-packages (from tensorflow) (23.5.26)\n",
            "Requirement already satisfied: gast!=0.5.0,!=0.5.1,!=0.5.2,>=0.2.1 in /usr/local/lib/python3.10/dist-packages (from tensorflow) (0.5.4)\n",
            "Requirement already satisfied: google-pasta>=0.1.1 in /usr/local/lib/python3.10/dist-packages (from tensorflow) (0.2.0)\n",
            "Requirement already satisfied: h5py>=2.9.0 in /usr/local/lib/python3.10/dist-packages (from tensorflow) (3.9.0)\n",
            "Requirement already satisfied: libclang>=13.0.0 in /usr/local/lib/python3.10/dist-packages (from tensorflow) (16.0.6)\n",
            "Requirement already satisfied: ml-dtypes~=0.2.0 in /usr/local/lib/python3.10/dist-packages (from tensorflow) (0.2.0)\n",
            "Requirement already satisfied: numpy<2.0.0,>=1.23.5 in /usr/local/lib/python3.10/dist-packages (from tensorflow) (1.23.5)\n",
            "Requirement already satisfied: opt-einsum>=2.3.2 in /usr/local/lib/python3.10/dist-packages (from tensorflow) (3.3.0)\n",
            "Requirement already satisfied: packaging in /usr/local/lib/python3.10/dist-packages (from tensorflow) (23.2)\n",
            "Requirement already satisfied: protobuf!=4.21.0,!=4.21.1,!=4.21.2,!=4.21.3,!=4.21.4,!=4.21.5,<5.0.0dev,>=3.20.3 in /usr/local/lib/python3.10/dist-packages (from tensorflow) (3.20.3)\n",
            "Requirement already satisfied: setuptools in /usr/local/lib/python3.10/dist-packages (from tensorflow) (67.7.2)\n",
            "Requirement already satisfied: six>=1.12.0 in /usr/local/lib/python3.10/dist-packages (from tensorflow) (1.16.0)\n",
            "Requirement already satisfied: termcolor>=1.1.0 in /usr/local/lib/python3.10/dist-packages (from tensorflow) (2.4.0)\n",
            "Requirement already satisfied: typing-extensions>=3.6.6 in /usr/local/lib/python3.10/dist-packages (from tensorflow) (4.9.0)\n",
            "Requirement already satisfied: wrapt<1.15,>=1.11.0 in /usr/local/lib/python3.10/dist-packages (from tensorflow) (1.14.1)\n",
            "Requirement already satisfied: tensorflow-io-gcs-filesystem>=0.23.1 in /usr/local/lib/python3.10/dist-packages (from tensorflow) (0.35.0)\n",
            "Requirement already satisfied: grpcio<2.0,>=1.24.3 in /usr/local/lib/python3.10/dist-packages (from tensorflow) (1.60.1)\n",
            "Requirement already satisfied: tensorboard<2.16,>=2.15 in /usr/local/lib/python3.10/dist-packages (from tensorflow) (2.15.1)\n",
            "Requirement already satisfied: tensorflow-estimator<2.16,>=2.15.0 in /usr/local/lib/python3.10/dist-packages (from tensorflow) (2.15.0)\n",
            "Requirement already satisfied: keras<2.16,>=2.15.0 in /usr/local/lib/python3.10/dist-packages (from tensorflow) (2.15.0)\n",
            "Requirement already satisfied: wheel<1.0,>=0.23.0 in /usr/local/lib/python3.10/dist-packages (from astunparse>=1.6.0->tensorflow) (0.42.0)\n",
            "Requirement already satisfied: google-auth<3,>=1.6.3 in /usr/local/lib/python3.10/dist-packages (from tensorboard<2.16,>=2.15->tensorflow) (2.17.3)\n",
            "Requirement already satisfied: google-auth-oauthlib<2,>=0.5 in /usr/local/lib/python3.10/dist-packages (from tensorboard<2.16,>=2.15->tensorflow) (1.2.0)\n",
            "Requirement already satisfied: markdown>=2.6.8 in /usr/local/lib/python3.10/dist-packages (from tensorboard<2.16,>=2.15->tensorflow) (3.5.2)\n",
            "Requirement already satisfied: requests<3,>=2.21.0 in /usr/local/lib/python3.10/dist-packages (from tensorboard<2.16,>=2.15->tensorflow) (2.31.0)\n",
            "Requirement already satisfied: tensorboard-data-server<0.8.0,>=0.7.0 in /usr/local/lib/python3.10/dist-packages (from tensorboard<2.16,>=2.15->tensorflow) (0.7.2)\n",
            "Requirement already satisfied: werkzeug>=1.0.1 in /usr/local/lib/python3.10/dist-packages (from tensorboard<2.16,>=2.15->tensorflow) (3.0.1)\n",
            "Requirement already satisfied: cachetools<6.0,>=2.0.0 in /usr/local/lib/python3.10/dist-packages (from google-auth<3,>=1.6.3->tensorboard<2.16,>=2.15->tensorflow) (5.3.2)\n",
            "Requirement already satisfied: pyasn1-modules>=0.2.1 in /usr/local/lib/python3.10/dist-packages (from google-auth<3,>=1.6.3->tensorboard<2.16,>=2.15->tensorflow) (0.3.0)\n",
            "Requirement already satisfied: rsa<5,>=3.1.4 in /usr/local/lib/python3.10/dist-packages (from google-auth<3,>=1.6.3->tensorboard<2.16,>=2.15->tensorflow) (4.9)\n",
            "Requirement already satisfied: requests-oauthlib>=0.7.0 in /usr/local/lib/python3.10/dist-packages (from google-auth-oauthlib<2,>=0.5->tensorboard<2.16,>=2.15->tensorflow) (1.3.1)\n",
            "Requirement already satisfied: charset-normalizer<4,>=2 in /usr/local/lib/python3.10/dist-packages (from requests<3,>=2.21.0->tensorboard<2.16,>=2.15->tensorflow) (3.3.2)\n",
            "Requirement already satisfied: idna<4,>=2.5 in /usr/local/lib/python3.10/dist-packages (from requests<3,>=2.21.0->tensorboard<2.16,>=2.15->tensorflow) (3.6)\n",
            "Requirement already satisfied: urllib3<3,>=1.21.1 in /usr/local/lib/python3.10/dist-packages (from requests<3,>=2.21.0->tensorboard<2.16,>=2.15->tensorflow) (2.0.7)\n",
            "Requirement already satisfied: certifi>=2017.4.17 in /usr/local/lib/python3.10/dist-packages (from requests<3,>=2.21.0->tensorboard<2.16,>=2.15->tensorflow) (2024.2.2)\n",
            "Requirement already satisfied: MarkupSafe>=2.1.1 in /usr/local/lib/python3.10/dist-packages (from werkzeug>=1.0.1->tensorboard<2.16,>=2.15->tensorflow) (2.1.5)\n",
            "Requirement already satisfied: pyasn1<0.6.0,>=0.4.6 in /usr/local/lib/python3.10/dist-packages (from pyasn1-modules>=0.2.1->google-auth<3,>=1.6.3->tensorboard<2.16,>=2.15->tensorflow) (0.5.1)\n",
            "Requirement already satisfied: oauthlib>=3.0.0 in /usr/local/lib/python3.10/dist-packages (from requests-oauthlib>=0.7.0->google-auth-oauthlib<2,>=0.5->tensorboard<2.16,>=2.15->tensorflow) (3.2.2)\n"
          ]
        }
      ]
    },
    {
      "cell_type": "code",
      "source": [
        "from Historic_Crypto import HistoricalData"
      ],
      "metadata": {
        "id": "3hHsqog24vHz"
      },
      "execution_count": 3,
      "outputs": []
    },
    {
      "cell_type": "code",
      "source": [
        "btc_historical= HistoricalData('BTC-USD', 60*60, '2018-01-01-00-00','2024-01-31-00-00').retrieve_data()  #daily data"
      ],
      "metadata": {
        "colab": {
          "base_uri": "https://localhost:8080/"
        },
        "id": "SzFuerCA4-qK",
        "outputId": "e86eafa2-eaa1-4da1-c8ca-2bd8eeb4e580"
      },
      "execution_count": 4,
      "outputs": [
        {
          "output_type": "stream",
          "name": "stdout",
          "text": [
            "Checking input parameters are in the correct format.\n",
            "Formatting Dates.\n",
            "Checking if user supplied is available on the CoinBase Pro API.\n",
            "Connected to the CoinBase Pro API.\n",
            "Ticker 'BTC-USD' found at the CoinBase Pro API, continuing to extraction.\n",
            "Provisional Start: 2018-01-01T00:00:00\n",
            "Provisional End: 2018-01-13T12:00:00\n",
            "Data for chunk 1 of 178 extracted\n"
          ]
        },
        {
          "output_type": "stream",
          "name": "stderr",
          "text": [
            "/usr/local/lib/python3.10/dist-packages/Historic_Crypto/HistoricalData.py:176: FutureWarning: The frame.append method is deprecated and will be removed from pandas in a future version. Use pandas.concat instead.\n",
            "  data = data.append(dataset)\n"
          ]
        },
        {
          "output_type": "stream",
          "name": "stdout",
          "text": [
            "Provisional Start: 2018-01-13T12:00:00\n",
            "Provisional End: 2018-01-26T00:00:00\n",
            "Data for chunk 2 of 178 extracted\n",
            "Provisional Start: 2018-01-26T00:00:00\n",
            "Provisional End: 2018-02-07T12:00:00\n",
            "Data for chunk 3 of 178 extracted\n",
            "Provisional Start: 2018-02-07T12:00:00\n",
            "Provisional End: 2018-02-20T00:00:00\n",
            "Data for chunk 4 of 178 extracted\n"
          ]
        },
        {
          "output_type": "stream",
          "name": "stderr",
          "text": [
            "/usr/local/lib/python3.10/dist-packages/Historic_Crypto/HistoricalData.py:176: FutureWarning: The frame.append method is deprecated and will be removed from pandas in a future version. Use pandas.concat instead.\n",
            "  data = data.append(dataset)\n"
          ]
        },
        {
          "output_type": "stream",
          "name": "stdout",
          "text": [
            "Provisional Start: 2018-02-20T00:00:00\n",
            "Provisional End: 2018-03-04T12:00:00\n",
            "Data for chunk 5 of 178 extracted\n"
          ]
        },
        {
          "output_type": "stream",
          "name": "stderr",
          "text": [
            "/usr/local/lib/python3.10/dist-packages/Historic_Crypto/HistoricalData.py:176: FutureWarning: The frame.append method is deprecated and will be removed from pandas in a future version. Use pandas.concat instead.\n",
            "  data = data.append(dataset)\n"
          ]
        },
        {
          "output_type": "stream",
          "name": "stdout",
          "text": [
            "Provisional Start: 2018-03-04T12:00:00\n",
            "Provisional End: 2018-03-17T00:00:00\n",
            "Data for chunk 6 of 178 extracted\n"
          ]
        },
        {
          "output_type": "stream",
          "name": "stderr",
          "text": [
            "/usr/local/lib/python3.10/dist-packages/Historic_Crypto/HistoricalData.py:176: FutureWarning: The frame.append method is deprecated and will be removed from pandas in a future version. Use pandas.concat instead.\n",
            "  data = data.append(dataset)\n"
          ]
        },
        {
          "output_type": "stream",
          "name": "stdout",
          "text": [
            "Provisional Start: 2018-03-17T00:00:00\n",
            "Provisional End: 2018-03-29T12:00:00\n",
            "Data for chunk 7 of 178 extracted\n"
          ]
        },
        {
          "output_type": "stream",
          "name": "stderr",
          "text": [
            "/usr/local/lib/python3.10/dist-packages/Historic_Crypto/HistoricalData.py:176: FutureWarning: The frame.append method is deprecated and will be removed from pandas in a future version. Use pandas.concat instead.\n",
            "  data = data.append(dataset)\n"
          ]
        },
        {
          "output_type": "stream",
          "name": "stdout",
          "text": [
            "Provisional Start: 2018-03-29T12:00:00\n",
            "Provisional End: 2018-04-11T00:00:00\n",
            "Data for chunk 8 of 178 extracted\n"
          ]
        },
        {
          "output_type": "stream",
          "name": "stderr",
          "text": [
            "/usr/local/lib/python3.10/dist-packages/Historic_Crypto/HistoricalData.py:176: FutureWarning: The frame.append method is deprecated and will be removed from pandas in a future version. Use pandas.concat instead.\n",
            "  data = data.append(dataset)\n"
          ]
        },
        {
          "output_type": "stream",
          "name": "stdout",
          "text": [
            "Provisional Start: 2018-04-11T00:00:00\n",
            "Provisional End: 2018-04-23T12:00:00\n",
            "Data for chunk 9 of 178 extracted\n",
            "Provisional Start: 2018-04-23T12:00:00\n",
            "Provisional End: 2018-05-06T00:00:00\n"
          ]
        },
        {
          "output_type": "stream",
          "name": "stderr",
          "text": [
            "/usr/local/lib/python3.10/dist-packages/Historic_Crypto/HistoricalData.py:176: FutureWarning: The frame.append method is deprecated and will be removed from pandas in a future version. Use pandas.concat instead.\n",
            "  data = data.append(dataset)\n"
          ]
        },
        {
          "output_type": "stream",
          "name": "stdout",
          "text": [
            "Data for chunk 10 of 178 extracted\n"
          ]
        },
        {
          "output_type": "stream",
          "name": "stderr",
          "text": [
            "/usr/local/lib/python3.10/dist-packages/Historic_Crypto/HistoricalData.py:176: FutureWarning: The frame.append method is deprecated and will be removed from pandas in a future version. Use pandas.concat instead.\n",
            "  data = data.append(dataset)\n"
          ]
        },
        {
          "output_type": "stream",
          "name": "stdout",
          "text": [
            "Provisional Start: 2018-05-06T00:00:00\n",
            "Provisional End: 2018-05-18T12:00:00\n",
            "Data for chunk 11 of 178 extracted\n"
          ]
        },
        {
          "output_type": "stream",
          "name": "stderr",
          "text": [
            "/usr/local/lib/python3.10/dist-packages/Historic_Crypto/HistoricalData.py:176: FutureWarning: The frame.append method is deprecated and will be removed from pandas in a future version. Use pandas.concat instead.\n",
            "  data = data.append(dataset)\n"
          ]
        },
        {
          "output_type": "stream",
          "name": "stdout",
          "text": [
            "Provisional Start: 2018-05-18T12:00:00\n",
            "Provisional End: 2018-05-31T00:00:00\n",
            "Data for chunk 12 of 178 extracted\n"
          ]
        },
        {
          "output_type": "stream",
          "name": "stderr",
          "text": [
            "/usr/local/lib/python3.10/dist-packages/Historic_Crypto/HistoricalData.py:176: FutureWarning: The frame.append method is deprecated and will be removed from pandas in a future version. Use pandas.concat instead.\n",
            "  data = data.append(dataset)\n"
          ]
        },
        {
          "output_type": "stream",
          "name": "stdout",
          "text": [
            "Provisional Start: 2018-05-31T00:00:00\n",
            "Provisional End: 2018-06-12T12:00:00\n",
            "Data for chunk 13 of 178 extracted\n",
            "Provisional Start: 2018-06-12T12:00:00\n",
            "Provisional End: 2018-06-25T00:00:00\n"
          ]
        },
        {
          "output_type": "stream",
          "name": "stderr",
          "text": [
            "/usr/local/lib/python3.10/dist-packages/Historic_Crypto/HistoricalData.py:176: FutureWarning: The frame.append method is deprecated and will be removed from pandas in a future version. Use pandas.concat instead.\n",
            "  data = data.append(dataset)\n"
          ]
        },
        {
          "output_type": "stream",
          "name": "stdout",
          "text": [
            "Data for chunk 14 of 178 extracted\n",
            "Provisional Start: 2018-06-25T00:00:00\n",
            "Provisional End: 2018-07-07T12:00:00\n"
          ]
        },
        {
          "output_type": "stream",
          "name": "stderr",
          "text": [
            "/usr/local/lib/python3.10/dist-packages/Historic_Crypto/HistoricalData.py:176: FutureWarning: The frame.append method is deprecated and will be removed from pandas in a future version. Use pandas.concat instead.\n",
            "  data = data.append(dataset)\n"
          ]
        },
        {
          "output_type": "stream",
          "name": "stdout",
          "text": [
            "Data for chunk 15 of 178 extracted\n",
            "Provisional Start: 2018-07-07T12:00:00\n",
            "Provisional End: 2018-07-20T00:00:00\n"
          ]
        },
        {
          "output_type": "stream",
          "name": "stderr",
          "text": [
            "/usr/local/lib/python3.10/dist-packages/Historic_Crypto/HistoricalData.py:176: FutureWarning: The frame.append method is deprecated and will be removed from pandas in a future version. Use pandas.concat instead.\n",
            "  data = data.append(dataset)\n"
          ]
        },
        {
          "output_type": "stream",
          "name": "stdout",
          "text": [
            "Data for chunk 16 of 178 extracted\n"
          ]
        },
        {
          "output_type": "stream",
          "name": "stderr",
          "text": [
            "/usr/local/lib/python3.10/dist-packages/Historic_Crypto/HistoricalData.py:176: FutureWarning: The frame.append method is deprecated and will be removed from pandas in a future version. Use pandas.concat instead.\n",
            "  data = data.append(dataset)\n"
          ]
        },
        {
          "output_type": "stream",
          "name": "stdout",
          "text": [
            "Provisional Start: 2018-07-20T00:00:00\n",
            "Provisional End: 2018-08-01T12:00:00\n",
            "Data for chunk 17 of 178 extracted\n"
          ]
        },
        {
          "output_type": "stream",
          "name": "stderr",
          "text": [
            "/usr/local/lib/python3.10/dist-packages/Historic_Crypto/HistoricalData.py:176: FutureWarning: The frame.append method is deprecated and will be removed from pandas in a future version. Use pandas.concat instead.\n",
            "  data = data.append(dataset)\n"
          ]
        },
        {
          "output_type": "stream",
          "name": "stdout",
          "text": [
            "Provisional Start: 2018-08-01T12:00:00\n",
            "Provisional End: 2018-08-14T00:00:00\n",
            "Data for chunk 18 of 178 extracted\n"
          ]
        },
        {
          "output_type": "stream",
          "name": "stderr",
          "text": [
            "/usr/local/lib/python3.10/dist-packages/Historic_Crypto/HistoricalData.py:176: FutureWarning: The frame.append method is deprecated and will be removed from pandas in a future version. Use pandas.concat instead.\n",
            "  data = data.append(dataset)\n"
          ]
        },
        {
          "output_type": "stream",
          "name": "stdout",
          "text": [
            "Provisional Start: 2018-08-14T00:00:00\n",
            "Provisional End: 2018-08-26T12:00:00\n",
            "Data for chunk 19 of 178 extracted\n"
          ]
        },
        {
          "output_type": "stream",
          "name": "stderr",
          "text": [
            "/usr/local/lib/python3.10/dist-packages/Historic_Crypto/HistoricalData.py:176: FutureWarning: The frame.append method is deprecated and will be removed from pandas in a future version. Use pandas.concat instead.\n",
            "  data = data.append(dataset)\n"
          ]
        },
        {
          "output_type": "stream",
          "name": "stdout",
          "text": [
            "Provisional Start: 2018-08-26T12:00:00\n",
            "Provisional End: 2018-09-08T00:00:00\n",
            "Data for chunk 20 of 178 extracted\n"
          ]
        },
        {
          "output_type": "stream",
          "name": "stderr",
          "text": [
            "/usr/local/lib/python3.10/dist-packages/Historic_Crypto/HistoricalData.py:176: FutureWarning: The frame.append method is deprecated and will be removed from pandas in a future version. Use pandas.concat instead.\n",
            "  data = data.append(dataset)\n"
          ]
        },
        {
          "output_type": "stream",
          "name": "stdout",
          "text": [
            "Provisional Start: 2018-09-08T00:00:00\n",
            "Provisional End: 2018-09-20T12:00:00\n",
            "Data for chunk 21 of 178 extracted\n"
          ]
        },
        {
          "output_type": "stream",
          "name": "stderr",
          "text": [
            "/usr/local/lib/python3.10/dist-packages/Historic_Crypto/HistoricalData.py:176: FutureWarning: The frame.append method is deprecated and will be removed from pandas in a future version. Use pandas.concat instead.\n",
            "  data = data.append(dataset)\n"
          ]
        },
        {
          "output_type": "stream",
          "name": "stdout",
          "text": [
            "Provisional Start: 2018-09-20T12:00:00\n",
            "Provisional End: 2018-10-03T00:00:00\n",
            "Data for chunk 22 of 178 extracted\n"
          ]
        },
        {
          "output_type": "stream",
          "name": "stderr",
          "text": [
            "/usr/local/lib/python3.10/dist-packages/Historic_Crypto/HistoricalData.py:176: FutureWarning: The frame.append method is deprecated and will be removed from pandas in a future version. Use pandas.concat instead.\n",
            "  data = data.append(dataset)\n"
          ]
        },
        {
          "output_type": "stream",
          "name": "stdout",
          "text": [
            "Provisional Start: 2018-10-03T00:00:00\n",
            "Provisional End: 2018-10-15T12:00:00\n",
            "Data for chunk 23 of 178 extracted\n"
          ]
        },
        {
          "output_type": "stream",
          "name": "stderr",
          "text": [
            "/usr/local/lib/python3.10/dist-packages/Historic_Crypto/HistoricalData.py:176: FutureWarning: The frame.append method is deprecated and will be removed from pandas in a future version. Use pandas.concat instead.\n",
            "  data = data.append(dataset)\n"
          ]
        },
        {
          "output_type": "stream",
          "name": "stdout",
          "text": [
            "Provisional Start: 2018-10-15T12:00:00\n",
            "Provisional End: 2018-10-28T00:00:00\n",
            "Data for chunk 24 of 178 extracted\n"
          ]
        },
        {
          "output_type": "stream",
          "name": "stderr",
          "text": [
            "/usr/local/lib/python3.10/dist-packages/Historic_Crypto/HistoricalData.py:176: FutureWarning: The frame.append method is deprecated and will be removed from pandas in a future version. Use pandas.concat instead.\n",
            "  data = data.append(dataset)\n"
          ]
        },
        {
          "output_type": "stream",
          "name": "stdout",
          "text": [
            "Provisional Start: 2018-10-28T00:00:00\n",
            "Provisional End: 2018-11-09T12:00:00\n",
            "Data for chunk 25 of 178 extracted\n"
          ]
        },
        {
          "output_type": "stream",
          "name": "stderr",
          "text": [
            "/usr/local/lib/python3.10/dist-packages/Historic_Crypto/HistoricalData.py:176: FutureWarning: The frame.append method is deprecated and will be removed from pandas in a future version. Use pandas.concat instead.\n",
            "  data = data.append(dataset)\n"
          ]
        },
        {
          "output_type": "stream",
          "name": "stdout",
          "text": [
            "Provisional Start: 2018-11-09T12:00:00\n",
            "Provisional End: 2018-11-22T00:00:00\n",
            "Data for chunk 26 of 178 extracted\n"
          ]
        },
        {
          "output_type": "stream",
          "name": "stderr",
          "text": [
            "/usr/local/lib/python3.10/dist-packages/Historic_Crypto/HistoricalData.py:176: FutureWarning: The frame.append method is deprecated and will be removed from pandas in a future version. Use pandas.concat instead.\n",
            "  data = data.append(dataset)\n"
          ]
        },
        {
          "output_type": "stream",
          "name": "stdout",
          "text": [
            "Provisional Start: 2018-11-22T00:00:00\n",
            "Provisional End: 2018-12-04T12:00:00\n",
            "Data for chunk 27 of 178 extracted\n"
          ]
        },
        {
          "output_type": "stream",
          "name": "stderr",
          "text": [
            "/usr/local/lib/python3.10/dist-packages/Historic_Crypto/HistoricalData.py:176: FutureWarning: The frame.append method is deprecated and will be removed from pandas in a future version. Use pandas.concat instead.\n",
            "  data = data.append(dataset)\n"
          ]
        },
        {
          "output_type": "stream",
          "name": "stdout",
          "text": [
            "Provisional Start: 2018-12-04T12:00:00\n",
            "Provisional End: 2018-12-17T00:00:00\n",
            "Data for chunk 28 of 178 extracted\n",
            "Provisional Start: 2018-12-17T00:00:00\n",
            "Provisional End: 2018-12-29T12:00:00\n"
          ]
        },
        {
          "output_type": "stream",
          "name": "stderr",
          "text": [
            "/usr/local/lib/python3.10/dist-packages/Historic_Crypto/HistoricalData.py:176: FutureWarning: The frame.append method is deprecated and will be removed from pandas in a future version. Use pandas.concat instead.\n",
            "  data = data.append(dataset)\n",
            "/usr/local/lib/python3.10/dist-packages/Historic_Crypto/HistoricalData.py:176: FutureWarning: The frame.append method is deprecated and will be removed from pandas in a future version. Use pandas.concat instead.\n",
            "  data = data.append(dataset)\n"
          ]
        },
        {
          "output_type": "stream",
          "name": "stdout",
          "text": [
            "Data for chunk 29 of 178 extracted\n",
            "Provisional Start: 2018-12-29T12:00:00\n",
            "Provisional End: 2019-01-11T00:00:00\n",
            "Data for chunk 30 of 178 extracted\n",
            "Provisional Start: 2019-01-11T00:00:00\n",
            "Provisional End: 2019-01-23T12:00:00\n"
          ]
        },
        {
          "output_type": "stream",
          "name": "stderr",
          "text": [
            "/usr/local/lib/python3.10/dist-packages/Historic_Crypto/HistoricalData.py:176: FutureWarning: The frame.append method is deprecated and will be removed from pandas in a future version. Use pandas.concat instead.\n",
            "  data = data.append(dataset)\n"
          ]
        },
        {
          "output_type": "stream",
          "name": "stdout",
          "text": [
            "Data for chunk 31 of 178 extracted\n"
          ]
        },
        {
          "output_type": "stream",
          "name": "stderr",
          "text": [
            "/usr/local/lib/python3.10/dist-packages/Historic_Crypto/HistoricalData.py:176: FutureWarning: The frame.append method is deprecated and will be removed from pandas in a future version. Use pandas.concat instead.\n",
            "  data = data.append(dataset)\n"
          ]
        },
        {
          "output_type": "stream",
          "name": "stdout",
          "text": [
            "Provisional Start: 2019-01-23T12:00:00\n",
            "Provisional End: 2019-02-05T00:00:00\n",
            "Data for chunk 32 of 178 extracted\n",
            "Provisional Start: 2019-02-05T00:00:00\n",
            "Provisional End: 2019-02-17T12:00:00\n"
          ]
        },
        {
          "output_type": "stream",
          "name": "stderr",
          "text": [
            "/usr/local/lib/python3.10/dist-packages/Historic_Crypto/HistoricalData.py:176: FutureWarning: The frame.append method is deprecated and will be removed from pandas in a future version. Use pandas.concat instead.\n",
            "  data = data.append(dataset)\n"
          ]
        },
        {
          "output_type": "stream",
          "name": "stdout",
          "text": [
            "Data for chunk 33 of 178 extracted\n"
          ]
        },
        {
          "output_type": "stream",
          "name": "stderr",
          "text": [
            "/usr/local/lib/python3.10/dist-packages/Historic_Crypto/HistoricalData.py:176: FutureWarning: The frame.append method is deprecated and will be removed from pandas in a future version. Use pandas.concat instead.\n",
            "  data = data.append(dataset)\n"
          ]
        },
        {
          "output_type": "stream",
          "name": "stdout",
          "text": [
            "Provisional Start: 2019-02-17T12:00:00\n",
            "Provisional End: 2019-03-02T00:00:00\n",
            "Data for chunk 34 of 178 extracted\n",
            "Provisional Start: 2019-03-02T00:00:00\n",
            "Provisional End: 2019-03-14T12:00:00\n",
            "Data for chunk 35 of 178 extracted\n"
          ]
        },
        {
          "output_type": "stream",
          "name": "stderr",
          "text": [
            "/usr/local/lib/python3.10/dist-packages/Historic_Crypto/HistoricalData.py:176: FutureWarning: The frame.append method is deprecated and will be removed from pandas in a future version. Use pandas.concat instead.\n",
            "  data = data.append(dataset)\n",
            "/usr/local/lib/python3.10/dist-packages/Historic_Crypto/HistoricalData.py:176: FutureWarning: The frame.append method is deprecated and will be removed from pandas in a future version. Use pandas.concat instead.\n",
            "  data = data.append(dataset)\n"
          ]
        },
        {
          "output_type": "stream",
          "name": "stdout",
          "text": [
            "Provisional Start: 2019-03-14T12:00:00\n",
            "Provisional End: 2019-03-27T00:00:00\n",
            "Data for chunk 36 of 178 extracted\n"
          ]
        },
        {
          "output_type": "stream",
          "name": "stderr",
          "text": [
            "/usr/local/lib/python3.10/dist-packages/Historic_Crypto/HistoricalData.py:176: FutureWarning: The frame.append method is deprecated and will be removed from pandas in a future version. Use pandas.concat instead.\n",
            "  data = data.append(dataset)\n"
          ]
        },
        {
          "output_type": "stream",
          "name": "stdout",
          "text": [
            "Provisional Start: 2019-03-27T00:00:00\n",
            "Provisional End: 2019-04-08T12:00:00\n",
            "Data for chunk 37 of 178 extracted\n"
          ]
        },
        {
          "output_type": "stream",
          "name": "stderr",
          "text": [
            "/usr/local/lib/python3.10/dist-packages/Historic_Crypto/HistoricalData.py:176: FutureWarning: The frame.append method is deprecated and will be removed from pandas in a future version. Use pandas.concat instead.\n",
            "  data = data.append(dataset)\n"
          ]
        },
        {
          "output_type": "stream",
          "name": "stdout",
          "text": [
            "Provisional Start: 2019-04-08T12:00:00\n",
            "Provisional End: 2019-04-21T00:00:00\n",
            "Data for chunk 38 of 178 extracted\n",
            "Provisional Start: 2019-04-21T00:00:00\n",
            "Provisional End: 2019-05-03T12:00:00\n"
          ]
        },
        {
          "output_type": "stream",
          "name": "stderr",
          "text": [
            "/usr/local/lib/python3.10/dist-packages/Historic_Crypto/HistoricalData.py:176: FutureWarning: The frame.append method is deprecated and will be removed from pandas in a future version. Use pandas.concat instead.\n",
            "  data = data.append(dataset)\n"
          ]
        },
        {
          "output_type": "stream",
          "name": "stdout",
          "text": [
            "Data for chunk 39 of 178 extracted\n"
          ]
        },
        {
          "output_type": "stream",
          "name": "stderr",
          "text": [
            "/usr/local/lib/python3.10/dist-packages/Historic_Crypto/HistoricalData.py:176: FutureWarning: The frame.append method is deprecated and will be removed from pandas in a future version. Use pandas.concat instead.\n",
            "  data = data.append(dataset)\n"
          ]
        },
        {
          "output_type": "stream",
          "name": "stdout",
          "text": [
            "Provisional Start: 2019-05-03T12:00:00\n",
            "Provisional End: 2019-05-16T00:00:00\n",
            "Data for chunk 40 of 178 extracted\n"
          ]
        },
        {
          "output_type": "stream",
          "name": "stderr",
          "text": [
            "/usr/local/lib/python3.10/dist-packages/Historic_Crypto/HistoricalData.py:176: FutureWarning: The frame.append method is deprecated and will be removed from pandas in a future version. Use pandas.concat instead.\n",
            "  data = data.append(dataset)\n"
          ]
        },
        {
          "output_type": "stream",
          "name": "stdout",
          "text": [
            "Provisional Start: 2019-05-16T00:00:00\n",
            "Provisional End: 2019-05-28T12:00:00\n",
            "Data for chunk 41 of 178 extracted\n"
          ]
        },
        {
          "output_type": "stream",
          "name": "stderr",
          "text": [
            "/usr/local/lib/python3.10/dist-packages/Historic_Crypto/HistoricalData.py:176: FutureWarning: The frame.append method is deprecated and will be removed from pandas in a future version. Use pandas.concat instead.\n",
            "  data = data.append(dataset)\n"
          ]
        },
        {
          "output_type": "stream",
          "name": "stdout",
          "text": [
            "Provisional Start: 2019-05-28T12:00:00\n",
            "Provisional End: 2019-06-10T00:00:00\n",
            "Data for chunk 42 of 178 extracted\n",
            "Provisional Start: 2019-06-10T00:00:00\n",
            "Provisional End: 2019-06-22T12:00:00\n"
          ]
        },
        {
          "output_type": "stream",
          "name": "stderr",
          "text": [
            "/usr/local/lib/python3.10/dist-packages/Historic_Crypto/HistoricalData.py:176: FutureWarning: The frame.append method is deprecated and will be removed from pandas in a future version. Use pandas.concat instead.\n",
            "  data = data.append(dataset)\n"
          ]
        },
        {
          "output_type": "stream",
          "name": "stdout",
          "text": [
            "Data for chunk 43 of 178 extracted\n"
          ]
        },
        {
          "output_type": "stream",
          "name": "stderr",
          "text": [
            "/usr/local/lib/python3.10/dist-packages/Historic_Crypto/HistoricalData.py:176: FutureWarning: The frame.append method is deprecated and will be removed from pandas in a future version. Use pandas.concat instead.\n",
            "  data = data.append(dataset)\n"
          ]
        },
        {
          "output_type": "stream",
          "name": "stdout",
          "text": [
            "Provisional Start: 2019-06-22T12:00:00\n",
            "Provisional End: 2019-07-05T00:00:00\n",
            "Data for chunk 44 of 178 extracted\n"
          ]
        },
        {
          "output_type": "stream",
          "name": "stderr",
          "text": [
            "/usr/local/lib/python3.10/dist-packages/Historic_Crypto/HistoricalData.py:176: FutureWarning: The frame.append method is deprecated and will be removed from pandas in a future version. Use pandas.concat instead.\n",
            "  data = data.append(dataset)\n"
          ]
        },
        {
          "output_type": "stream",
          "name": "stdout",
          "text": [
            "Provisional Start: 2019-07-05T00:00:00\n",
            "Provisional End: 2019-07-17T12:00:00\n",
            "Data for chunk 45 of 178 extracted\n",
            "Provisional Start: 2019-07-17T12:00:00\n",
            "Provisional End: 2019-07-30T00:00:00\n"
          ]
        },
        {
          "output_type": "stream",
          "name": "stderr",
          "text": [
            "/usr/local/lib/python3.10/dist-packages/Historic_Crypto/HistoricalData.py:176: FutureWarning: The frame.append method is deprecated and will be removed from pandas in a future version. Use pandas.concat instead.\n",
            "  data = data.append(dataset)\n",
            "/usr/local/lib/python3.10/dist-packages/Historic_Crypto/HistoricalData.py:176: FutureWarning: The frame.append method is deprecated and will be removed from pandas in a future version. Use pandas.concat instead.\n",
            "  data = data.append(dataset)\n"
          ]
        },
        {
          "output_type": "stream",
          "name": "stdout",
          "text": [
            "Data for chunk 46 of 178 extracted\n",
            "Provisional Start: 2019-07-30T00:00:00\n",
            "Provisional End: 2019-08-11T12:00:00\n",
            "Data for chunk 47 of 178 extracted\n",
            "Provisional Start: 2019-08-11T12:00:00\n",
            "Provisional End: 2019-08-24T00:00:00\n"
          ]
        },
        {
          "output_type": "stream",
          "name": "stderr",
          "text": [
            "/usr/local/lib/python3.10/dist-packages/Historic_Crypto/HistoricalData.py:176: FutureWarning: The frame.append method is deprecated and will be removed from pandas in a future version. Use pandas.concat instead.\n",
            "  data = data.append(dataset)\n"
          ]
        },
        {
          "output_type": "stream",
          "name": "stdout",
          "text": [
            "Data for chunk 48 of 178 extracted\n",
            "Provisional Start: 2019-08-24T00:00:00\n",
            "Provisional End: 2019-09-05T12:00:00\n"
          ]
        },
        {
          "output_type": "stream",
          "name": "stderr",
          "text": [
            "/usr/local/lib/python3.10/dist-packages/Historic_Crypto/HistoricalData.py:176: FutureWarning: The frame.append method is deprecated and will be removed from pandas in a future version. Use pandas.concat instead.\n",
            "  data = data.append(dataset)\n"
          ]
        },
        {
          "output_type": "stream",
          "name": "stdout",
          "text": [
            "Data for chunk 49 of 178 extracted\n",
            "Provisional Start: 2019-09-05T12:00:00\n",
            "Provisional End: 2019-09-18T00:00:00\n"
          ]
        },
        {
          "output_type": "stream",
          "name": "stderr",
          "text": [
            "/usr/local/lib/python3.10/dist-packages/Historic_Crypto/HistoricalData.py:176: FutureWarning: The frame.append method is deprecated and will be removed from pandas in a future version. Use pandas.concat instead.\n",
            "  data = data.append(dataset)\n"
          ]
        },
        {
          "output_type": "stream",
          "name": "stdout",
          "text": [
            "Data for chunk 50 of 178 extracted\n"
          ]
        },
        {
          "output_type": "stream",
          "name": "stderr",
          "text": [
            "/usr/local/lib/python3.10/dist-packages/Historic_Crypto/HistoricalData.py:176: FutureWarning: The frame.append method is deprecated and will be removed from pandas in a future version. Use pandas.concat instead.\n",
            "  data = data.append(dataset)\n"
          ]
        },
        {
          "output_type": "stream",
          "name": "stdout",
          "text": [
            "Provisional Start: 2019-09-18T00:00:00\n",
            "Provisional End: 2019-09-30T12:00:00\n",
            "Data for chunk 51 of 178 extracted\n",
            "Provisional Start: 2019-09-30T12:00:00\n",
            "Provisional End: 2019-10-13T00:00:00\n"
          ]
        },
        {
          "output_type": "stream",
          "name": "stderr",
          "text": [
            "/usr/local/lib/python3.10/dist-packages/Historic_Crypto/HistoricalData.py:176: FutureWarning: The frame.append method is deprecated and will be removed from pandas in a future version. Use pandas.concat instead.\n",
            "  data = data.append(dataset)\n",
            "/usr/local/lib/python3.10/dist-packages/Historic_Crypto/HistoricalData.py:176: FutureWarning: The frame.append method is deprecated and will be removed from pandas in a future version. Use pandas.concat instead.\n",
            "  data = data.append(dataset)\n"
          ]
        },
        {
          "output_type": "stream",
          "name": "stdout",
          "text": [
            "Data for chunk 52 of 178 extracted\n",
            "Provisional Start: 2019-10-13T00:00:00\n",
            "Provisional End: 2019-10-25T12:00:00\n",
            "Data for chunk 53 of 178 extracted\n"
          ]
        },
        {
          "output_type": "stream",
          "name": "stderr",
          "text": [
            "/usr/local/lib/python3.10/dist-packages/Historic_Crypto/HistoricalData.py:176: FutureWarning: The frame.append method is deprecated and will be removed from pandas in a future version. Use pandas.concat instead.\n",
            "  data = data.append(dataset)\n"
          ]
        },
        {
          "output_type": "stream",
          "name": "stdout",
          "text": [
            "Provisional Start: 2019-10-25T12:00:00\n",
            "Provisional End: 2019-11-07T00:00:00\n",
            "Data for chunk 54 of 178 extracted\n",
            "Provisional Start: 2019-11-07T00:00:00\n",
            "Provisional End: 2019-11-19T12:00:00\n"
          ]
        },
        {
          "output_type": "stream",
          "name": "stderr",
          "text": [
            "/usr/local/lib/python3.10/dist-packages/Historic_Crypto/HistoricalData.py:176: FutureWarning: The frame.append method is deprecated and will be removed from pandas in a future version. Use pandas.concat instead.\n",
            "  data = data.append(dataset)\n"
          ]
        },
        {
          "output_type": "stream",
          "name": "stdout",
          "text": [
            "Data for chunk 55 of 178 extracted\n",
            "Provisional Start: 2019-11-19T12:00:00\n",
            "Provisional End: 2019-12-02T00:00:00\n",
            "Data for chunk 56 of 178 extracted\n"
          ]
        },
        {
          "output_type": "stream",
          "name": "stderr",
          "text": [
            "/usr/local/lib/python3.10/dist-packages/Historic_Crypto/HistoricalData.py:176: FutureWarning: The frame.append method is deprecated and will be removed from pandas in a future version. Use pandas.concat instead.\n",
            "  data = data.append(dataset)\n",
            "/usr/local/lib/python3.10/dist-packages/Historic_Crypto/HistoricalData.py:176: FutureWarning: The frame.append method is deprecated and will be removed from pandas in a future version. Use pandas.concat instead.\n",
            "  data = data.append(dataset)\n"
          ]
        },
        {
          "output_type": "stream",
          "name": "stdout",
          "text": [
            "Provisional Start: 2019-12-02T00:00:00\n",
            "Provisional End: 2019-12-14T12:00:00\n",
            "Data for chunk 57 of 178 extracted\n"
          ]
        },
        {
          "output_type": "stream",
          "name": "stderr",
          "text": [
            "/usr/local/lib/python3.10/dist-packages/Historic_Crypto/HistoricalData.py:176: FutureWarning: The frame.append method is deprecated and will be removed from pandas in a future version. Use pandas.concat instead.\n",
            "  data = data.append(dataset)\n"
          ]
        },
        {
          "output_type": "stream",
          "name": "stdout",
          "text": [
            "Provisional Start: 2019-12-14T12:00:00\n",
            "Provisional End: 2019-12-27T00:00:00\n",
            "Data for chunk 58 of 178 extracted\n",
            "Provisional Start: 2019-12-27T00:00:00\n",
            "Provisional End: 2020-01-08T12:00:00\n"
          ]
        },
        {
          "output_type": "stream",
          "name": "stderr",
          "text": [
            "/usr/local/lib/python3.10/dist-packages/Historic_Crypto/HistoricalData.py:176: FutureWarning: The frame.append method is deprecated and will be removed from pandas in a future version. Use pandas.concat instead.\n",
            "  data = data.append(dataset)\n",
            "/usr/local/lib/python3.10/dist-packages/Historic_Crypto/HistoricalData.py:176: FutureWarning: The frame.append method is deprecated and will be removed from pandas in a future version. Use pandas.concat instead.\n",
            "  data = data.append(dataset)\n"
          ]
        },
        {
          "output_type": "stream",
          "name": "stdout",
          "text": [
            "Data for chunk 59 of 178 extracted\n",
            "Provisional Start: 2020-01-08T12:00:00\n",
            "Provisional End: 2020-01-21T00:00:00\n",
            "Data for chunk 60 of 178 extracted\n"
          ]
        },
        {
          "output_type": "stream",
          "name": "stderr",
          "text": [
            "/usr/local/lib/python3.10/dist-packages/Historic_Crypto/HistoricalData.py:176: FutureWarning: The frame.append method is deprecated and will be removed from pandas in a future version. Use pandas.concat instead.\n",
            "  data = data.append(dataset)\n"
          ]
        },
        {
          "output_type": "stream",
          "name": "stdout",
          "text": [
            "Provisional Start: 2020-01-21T00:00:00\n",
            "Provisional End: 2020-02-02T12:00:00\n",
            "Data for chunk 61 of 178 extracted\n"
          ]
        },
        {
          "output_type": "stream",
          "name": "stderr",
          "text": [
            "/usr/local/lib/python3.10/dist-packages/Historic_Crypto/HistoricalData.py:176: FutureWarning: The frame.append method is deprecated and will be removed from pandas in a future version. Use pandas.concat instead.\n",
            "  data = data.append(dataset)\n"
          ]
        },
        {
          "output_type": "stream",
          "name": "stdout",
          "text": [
            "Provisional Start: 2020-02-02T12:00:00\n",
            "Provisional End: 2020-02-15T00:00:00\n",
            "Data for chunk 62 of 178 extracted\n",
            "Provisional Start: 2020-02-15T00:00:00\n",
            "Provisional End: 2020-02-27T12:00:00\n"
          ]
        },
        {
          "output_type": "stream",
          "name": "stderr",
          "text": [
            "/usr/local/lib/python3.10/dist-packages/Historic_Crypto/HistoricalData.py:176: FutureWarning: The frame.append method is deprecated and will be removed from pandas in a future version. Use pandas.concat instead.\n",
            "  data = data.append(dataset)\n"
          ]
        },
        {
          "output_type": "stream",
          "name": "stdout",
          "text": [
            "Data for chunk 63 of 178 extracted\n"
          ]
        },
        {
          "output_type": "stream",
          "name": "stderr",
          "text": [
            "/usr/local/lib/python3.10/dist-packages/Historic_Crypto/HistoricalData.py:176: FutureWarning: The frame.append method is deprecated and will be removed from pandas in a future version. Use pandas.concat instead.\n",
            "  data = data.append(dataset)\n"
          ]
        },
        {
          "output_type": "stream",
          "name": "stdout",
          "text": [
            "Provisional Start: 2020-02-27T12:00:00\n",
            "Provisional End: 2020-03-11T00:00:00\n",
            "Data for chunk 64 of 178 extracted\n"
          ]
        },
        {
          "output_type": "stream",
          "name": "stderr",
          "text": [
            "/usr/local/lib/python3.10/dist-packages/Historic_Crypto/HistoricalData.py:176: FutureWarning: The frame.append method is deprecated and will be removed from pandas in a future version. Use pandas.concat instead.\n",
            "  data = data.append(dataset)\n"
          ]
        },
        {
          "output_type": "stream",
          "name": "stdout",
          "text": [
            "Provisional Start: 2020-03-11T00:00:00\n",
            "Provisional End: 2020-03-23T12:00:00\n",
            "Data for chunk 65 of 178 extracted\n"
          ]
        },
        {
          "output_type": "stream",
          "name": "stderr",
          "text": [
            "/usr/local/lib/python3.10/dist-packages/Historic_Crypto/HistoricalData.py:176: FutureWarning: The frame.append method is deprecated and will be removed from pandas in a future version. Use pandas.concat instead.\n",
            "  data = data.append(dataset)\n"
          ]
        },
        {
          "output_type": "stream",
          "name": "stdout",
          "text": [
            "Provisional Start: 2020-03-23T12:00:00\n",
            "Provisional End: 2020-04-05T00:00:00\n",
            "Data for chunk 66 of 178 extracted\n"
          ]
        },
        {
          "output_type": "stream",
          "name": "stderr",
          "text": [
            "/usr/local/lib/python3.10/dist-packages/Historic_Crypto/HistoricalData.py:176: FutureWarning: The frame.append method is deprecated and will be removed from pandas in a future version. Use pandas.concat instead.\n",
            "  data = data.append(dataset)\n"
          ]
        },
        {
          "output_type": "stream",
          "name": "stdout",
          "text": [
            "Provisional Start: 2020-04-05T00:00:00\n",
            "Provisional End: 2020-04-17T12:00:00\n",
            "Data for chunk 67 of 178 extracted\n",
            "Provisional Start: 2020-04-17T12:00:00\n",
            "Provisional End: 2020-04-30T00:00:00\n",
            "Data for chunk 68 of 178 extracted\n",
            "Provisional Start: 2020-04-30T00:00:00\n",
            "Provisional End: 2020-05-12T12:00:00\n"
          ]
        },
        {
          "output_type": "stream",
          "name": "stderr",
          "text": [
            "/usr/local/lib/python3.10/dist-packages/Historic_Crypto/HistoricalData.py:176: FutureWarning: The frame.append method is deprecated and will be removed from pandas in a future version. Use pandas.concat instead.\n",
            "  data = data.append(dataset)\n",
            "/usr/local/lib/python3.10/dist-packages/Historic_Crypto/HistoricalData.py:176: FutureWarning: The frame.append method is deprecated and will be removed from pandas in a future version. Use pandas.concat instead.\n",
            "  data = data.append(dataset)\n"
          ]
        },
        {
          "output_type": "stream",
          "name": "stdout",
          "text": [
            "Data for chunk 69 of 178 extracted\n",
            "Provisional Start: 2020-05-12T12:00:00\n",
            "Provisional End: 2020-05-25T00:00:00\n",
            "Data for chunk 70 of 178 extracted\n"
          ]
        },
        {
          "output_type": "stream",
          "name": "stderr",
          "text": [
            "/usr/local/lib/python3.10/dist-packages/Historic_Crypto/HistoricalData.py:176: FutureWarning: The frame.append method is deprecated and will be removed from pandas in a future version. Use pandas.concat instead.\n",
            "  data = data.append(dataset)\n",
            "/usr/local/lib/python3.10/dist-packages/Historic_Crypto/HistoricalData.py:176: FutureWarning: The frame.append method is deprecated and will be removed from pandas in a future version. Use pandas.concat instead.\n",
            "  data = data.append(dataset)\n"
          ]
        },
        {
          "output_type": "stream",
          "name": "stdout",
          "text": [
            "Provisional Start: 2020-05-25T00:00:00\n",
            "Provisional End: 2020-06-06T12:00:00\n",
            "Data for chunk 71 of 178 extracted\n"
          ]
        },
        {
          "output_type": "stream",
          "name": "stderr",
          "text": [
            "/usr/local/lib/python3.10/dist-packages/Historic_Crypto/HistoricalData.py:176: FutureWarning: The frame.append method is deprecated and will be removed from pandas in a future version. Use pandas.concat instead.\n",
            "  data = data.append(dataset)\n"
          ]
        },
        {
          "output_type": "stream",
          "name": "stdout",
          "text": [
            "Provisional Start: 2020-06-06T12:00:00\n",
            "Provisional End: 2020-06-19T00:00:00\n",
            "Data for chunk 72 of 178 extracted\n",
            "Provisional Start: 2020-06-19T00:00:00\n",
            "Provisional End: 2020-07-01T12:00:00\n"
          ]
        },
        {
          "output_type": "stream",
          "name": "stderr",
          "text": [
            "/usr/local/lib/python3.10/dist-packages/Historic_Crypto/HistoricalData.py:176: FutureWarning: The frame.append method is deprecated and will be removed from pandas in a future version. Use pandas.concat instead.\n",
            "  data = data.append(dataset)\n",
            "/usr/local/lib/python3.10/dist-packages/Historic_Crypto/HistoricalData.py:176: FutureWarning: The frame.append method is deprecated and will be removed from pandas in a future version. Use pandas.concat instead.\n",
            "  data = data.append(dataset)\n"
          ]
        },
        {
          "output_type": "stream",
          "name": "stdout",
          "text": [
            "Data for chunk 73 of 178 extracted\n",
            "Provisional Start: 2020-07-01T12:00:00\n",
            "Provisional End: 2020-07-14T00:00:00\n",
            "Data for chunk 74 of 178 extracted\n",
            "Provisional Start: 2020-07-14T00:00:00\n",
            "Provisional End: 2020-07-26T12:00:00\n"
          ]
        },
        {
          "output_type": "stream",
          "name": "stderr",
          "text": [
            "/usr/local/lib/python3.10/dist-packages/Historic_Crypto/HistoricalData.py:176: FutureWarning: The frame.append method is deprecated and will be removed from pandas in a future version. Use pandas.concat instead.\n",
            "  data = data.append(dataset)\n"
          ]
        },
        {
          "output_type": "stream",
          "name": "stdout",
          "text": [
            "Data for chunk 75 of 178 extracted\n"
          ]
        },
        {
          "output_type": "stream",
          "name": "stderr",
          "text": [
            "/usr/local/lib/python3.10/dist-packages/Historic_Crypto/HistoricalData.py:176: FutureWarning: The frame.append method is deprecated and will be removed from pandas in a future version. Use pandas.concat instead.\n",
            "  data = data.append(dataset)\n"
          ]
        },
        {
          "output_type": "stream",
          "name": "stdout",
          "text": [
            "Provisional Start: 2020-07-26T12:00:00\n",
            "Provisional End: 2020-08-08T00:00:00\n",
            "Data for chunk 76 of 178 extracted\n",
            "Provisional Start: 2020-08-08T00:00:00\n",
            "Provisional End: 2020-08-20T12:00:00\n"
          ]
        },
        {
          "output_type": "stream",
          "name": "stderr",
          "text": [
            "/usr/local/lib/python3.10/dist-packages/Historic_Crypto/HistoricalData.py:176: FutureWarning: The frame.append method is deprecated and will be removed from pandas in a future version. Use pandas.concat instead.\n",
            "  data = data.append(dataset)\n"
          ]
        },
        {
          "output_type": "stream",
          "name": "stdout",
          "text": [
            "Data for chunk 77 of 178 extracted\n",
            "Provisional Start: 2020-08-20T12:00:00\n",
            "Provisional End: 2020-09-02T00:00:00\n",
            "Data for chunk 78 of 178 extracted\n"
          ]
        },
        {
          "output_type": "stream",
          "name": "stderr",
          "text": [
            "/usr/local/lib/python3.10/dist-packages/Historic_Crypto/HistoricalData.py:176: FutureWarning: The frame.append method is deprecated and will be removed from pandas in a future version. Use pandas.concat instead.\n",
            "  data = data.append(dataset)\n",
            "/usr/local/lib/python3.10/dist-packages/Historic_Crypto/HistoricalData.py:176: FutureWarning: The frame.append method is deprecated and will be removed from pandas in a future version. Use pandas.concat instead.\n",
            "  data = data.append(dataset)\n"
          ]
        },
        {
          "output_type": "stream",
          "name": "stdout",
          "text": [
            "Provisional Start: 2020-09-02T00:00:00\n",
            "Provisional End: 2020-09-14T12:00:00\n",
            "Data for chunk 79 of 178 extracted\n"
          ]
        },
        {
          "output_type": "stream",
          "name": "stderr",
          "text": [
            "/usr/local/lib/python3.10/dist-packages/Historic_Crypto/HistoricalData.py:176: FutureWarning: The frame.append method is deprecated and will be removed from pandas in a future version. Use pandas.concat instead.\n",
            "  data = data.append(dataset)\n"
          ]
        },
        {
          "output_type": "stream",
          "name": "stdout",
          "text": [
            "Provisional Start: 2020-09-14T12:00:00\n",
            "Provisional End: 2020-09-27T00:00:00\n",
            "Data for chunk 80 of 178 extracted\n"
          ]
        },
        {
          "output_type": "stream",
          "name": "stderr",
          "text": [
            "/usr/local/lib/python3.10/dist-packages/Historic_Crypto/HistoricalData.py:176: FutureWarning: The frame.append method is deprecated and will be removed from pandas in a future version. Use pandas.concat instead.\n",
            "  data = data.append(dataset)\n"
          ]
        },
        {
          "output_type": "stream",
          "name": "stdout",
          "text": [
            "Provisional Start: 2020-09-27T00:00:00\n",
            "Provisional End: 2020-10-09T12:00:00\n",
            "Data for chunk 81 of 178 extracted\n"
          ]
        },
        {
          "output_type": "stream",
          "name": "stderr",
          "text": [
            "/usr/local/lib/python3.10/dist-packages/Historic_Crypto/HistoricalData.py:176: FutureWarning: The frame.append method is deprecated and will be removed from pandas in a future version. Use pandas.concat instead.\n",
            "  data = data.append(dataset)\n"
          ]
        },
        {
          "output_type": "stream",
          "name": "stdout",
          "text": [
            "Provisional Start: 2020-10-09T12:00:00\n",
            "Provisional End: 2020-10-22T00:00:00\n",
            "Data for chunk 82 of 178 extracted\n"
          ]
        },
        {
          "output_type": "stream",
          "name": "stderr",
          "text": [
            "/usr/local/lib/python3.10/dist-packages/Historic_Crypto/HistoricalData.py:176: FutureWarning: The frame.append method is deprecated and will be removed from pandas in a future version. Use pandas.concat instead.\n",
            "  data = data.append(dataset)\n"
          ]
        },
        {
          "output_type": "stream",
          "name": "stdout",
          "text": [
            "Provisional Start: 2020-10-22T00:00:00\n",
            "Provisional End: 2020-11-03T12:00:00\n",
            "Data for chunk 83 of 178 extracted\n"
          ]
        },
        {
          "output_type": "stream",
          "name": "stderr",
          "text": [
            "/usr/local/lib/python3.10/dist-packages/Historic_Crypto/HistoricalData.py:176: FutureWarning: The frame.append method is deprecated and will be removed from pandas in a future version. Use pandas.concat instead.\n",
            "  data = data.append(dataset)\n"
          ]
        },
        {
          "output_type": "stream",
          "name": "stdout",
          "text": [
            "Provisional Start: 2020-11-03T12:00:00\n",
            "Provisional End: 2020-11-16T00:00:00\n",
            "Data for chunk 84 of 178 extracted\n"
          ]
        },
        {
          "output_type": "stream",
          "name": "stderr",
          "text": [
            "/usr/local/lib/python3.10/dist-packages/Historic_Crypto/HistoricalData.py:176: FutureWarning: The frame.append method is deprecated and will be removed from pandas in a future version. Use pandas.concat instead.\n",
            "  data = data.append(dataset)\n"
          ]
        },
        {
          "output_type": "stream",
          "name": "stdout",
          "text": [
            "Provisional Start: 2020-11-16T00:00:00\n",
            "Provisional End: 2020-11-28T12:00:00\n",
            "Data for chunk 85 of 178 extracted\n",
            "Provisional Start: 2020-11-28T12:00:00\n",
            "Provisional End: 2020-12-11T00:00:00\n",
            "Data for chunk 86 of 178 extracted\n",
            "Provisional Start: 2020-12-11T00:00:00\n",
            "Provisional End: 2020-12-23T12:00:00\n"
          ]
        },
        {
          "output_type": "stream",
          "name": "stderr",
          "text": [
            "/usr/local/lib/python3.10/dist-packages/Historic_Crypto/HistoricalData.py:176: FutureWarning: The frame.append method is deprecated and will be removed from pandas in a future version. Use pandas.concat instead.\n",
            "  data = data.append(dataset)\n",
            "/usr/local/lib/python3.10/dist-packages/Historic_Crypto/HistoricalData.py:176: FutureWarning: The frame.append method is deprecated and will be removed from pandas in a future version. Use pandas.concat instead.\n",
            "  data = data.append(dataset)\n"
          ]
        },
        {
          "output_type": "stream",
          "name": "stdout",
          "text": [
            "Data for chunk 87 of 178 extracted\n"
          ]
        },
        {
          "output_type": "stream",
          "name": "stderr",
          "text": [
            "/usr/local/lib/python3.10/dist-packages/Historic_Crypto/HistoricalData.py:176: FutureWarning: The frame.append method is deprecated and will be removed from pandas in a future version. Use pandas.concat instead.\n",
            "  data = data.append(dataset)\n"
          ]
        },
        {
          "output_type": "stream",
          "name": "stdout",
          "text": [
            "Provisional Start: 2020-12-23T12:00:00\n",
            "Provisional End: 2021-01-05T00:00:00\n",
            "Data for chunk 88 of 178 extracted\n"
          ]
        },
        {
          "output_type": "stream",
          "name": "stderr",
          "text": [
            "/usr/local/lib/python3.10/dist-packages/Historic_Crypto/HistoricalData.py:176: FutureWarning: The frame.append method is deprecated and will be removed from pandas in a future version. Use pandas.concat instead.\n",
            "  data = data.append(dataset)\n"
          ]
        },
        {
          "output_type": "stream",
          "name": "stdout",
          "text": [
            "Provisional Start: 2021-01-05T00:00:00\n",
            "Provisional End: 2021-01-17T12:00:00\n",
            "Data for chunk 89 of 178 extracted\n",
            "Provisional Start: 2021-01-17T12:00:00\n",
            "Provisional End: 2021-01-30T00:00:00\n"
          ]
        },
        {
          "output_type": "stream",
          "name": "stderr",
          "text": [
            "/usr/local/lib/python3.10/dist-packages/Historic_Crypto/HistoricalData.py:176: FutureWarning: The frame.append method is deprecated and will be removed from pandas in a future version. Use pandas.concat instead.\n",
            "  data = data.append(dataset)\n"
          ]
        },
        {
          "output_type": "stream",
          "name": "stdout",
          "text": [
            "Data for chunk 90 of 178 extracted\n"
          ]
        },
        {
          "output_type": "stream",
          "name": "stderr",
          "text": [
            "/usr/local/lib/python3.10/dist-packages/Historic_Crypto/HistoricalData.py:176: FutureWarning: The frame.append method is deprecated and will be removed from pandas in a future version. Use pandas.concat instead.\n",
            "  data = data.append(dataset)\n"
          ]
        },
        {
          "output_type": "stream",
          "name": "stdout",
          "text": [
            "Provisional Start: 2021-01-30T00:00:00\n",
            "Provisional End: 2021-02-11T12:00:00\n",
            "Data for chunk 91 of 178 extracted\n"
          ]
        },
        {
          "output_type": "stream",
          "name": "stderr",
          "text": [
            "/usr/local/lib/python3.10/dist-packages/Historic_Crypto/HistoricalData.py:176: FutureWarning: The frame.append method is deprecated and will be removed from pandas in a future version. Use pandas.concat instead.\n",
            "  data = data.append(dataset)\n"
          ]
        },
        {
          "output_type": "stream",
          "name": "stdout",
          "text": [
            "Provisional Start: 2021-02-11T12:00:00\n",
            "Provisional End: 2021-02-24T00:00:00\n",
            "Data for chunk 92 of 178 extracted\n",
            "Provisional Start: 2021-02-24T00:00:00\n",
            "Provisional End: 2021-03-08T12:00:00\n"
          ]
        },
        {
          "output_type": "stream",
          "name": "stderr",
          "text": [
            "/usr/local/lib/python3.10/dist-packages/Historic_Crypto/HistoricalData.py:176: FutureWarning: The frame.append method is deprecated and will be removed from pandas in a future version. Use pandas.concat instead.\n",
            "  data = data.append(dataset)\n",
            "/usr/local/lib/python3.10/dist-packages/Historic_Crypto/HistoricalData.py:176: FutureWarning: The frame.append method is deprecated and will be removed from pandas in a future version. Use pandas.concat instead.\n",
            "  data = data.append(dataset)\n"
          ]
        },
        {
          "output_type": "stream",
          "name": "stdout",
          "text": [
            "Data for chunk 93 of 178 extracted\n",
            "Provisional Start: 2021-03-08T12:00:00\n",
            "Provisional End: 2021-03-21T00:00:00\n",
            "Data for chunk 94 of 178 extracted\n"
          ]
        },
        {
          "output_type": "stream",
          "name": "stderr",
          "text": [
            "/usr/local/lib/python3.10/dist-packages/Historic_Crypto/HistoricalData.py:176: FutureWarning: The frame.append method is deprecated and will be removed from pandas in a future version. Use pandas.concat instead.\n",
            "  data = data.append(dataset)\n"
          ]
        },
        {
          "output_type": "stream",
          "name": "stdout",
          "text": [
            "Provisional Start: 2021-03-21T00:00:00\n",
            "Provisional End: 2021-04-02T12:00:00\n",
            "Data for chunk 95 of 178 extracted\n",
            "Provisional Start: 2021-04-02T12:00:00\n",
            "Provisional End: 2021-04-15T00:00:00\n",
            "Data for chunk 96 of 178 extracted\n"
          ]
        },
        {
          "output_type": "stream",
          "name": "stderr",
          "text": [
            "/usr/local/lib/python3.10/dist-packages/Historic_Crypto/HistoricalData.py:176: FutureWarning: The frame.append method is deprecated and will be removed from pandas in a future version. Use pandas.concat instead.\n",
            "  data = data.append(dataset)\n",
            "/usr/local/lib/python3.10/dist-packages/Historic_Crypto/HistoricalData.py:176: FutureWarning: The frame.append method is deprecated and will be removed from pandas in a future version. Use pandas.concat instead.\n",
            "  data = data.append(dataset)\n"
          ]
        },
        {
          "output_type": "stream",
          "name": "stdout",
          "text": [
            "Provisional Start: 2021-04-15T00:00:00\n",
            "Provisional End: 2021-04-27T12:00:00\n",
            "Data for chunk 97 of 178 extracted\n"
          ]
        },
        {
          "output_type": "stream",
          "name": "stderr",
          "text": [
            "/usr/local/lib/python3.10/dist-packages/Historic_Crypto/HistoricalData.py:176: FutureWarning: The frame.append method is deprecated and will be removed from pandas in a future version. Use pandas.concat instead.\n",
            "  data = data.append(dataset)\n"
          ]
        },
        {
          "output_type": "stream",
          "name": "stdout",
          "text": [
            "Provisional Start: 2021-04-27T12:00:00\n",
            "Provisional End: 2021-05-10T00:00:00\n",
            "Data for chunk 98 of 178 extracted\n"
          ]
        },
        {
          "output_type": "stream",
          "name": "stderr",
          "text": [
            "/usr/local/lib/python3.10/dist-packages/Historic_Crypto/HistoricalData.py:176: FutureWarning: The frame.append method is deprecated and will be removed from pandas in a future version. Use pandas.concat instead.\n",
            "  data = data.append(dataset)\n"
          ]
        },
        {
          "output_type": "stream",
          "name": "stdout",
          "text": [
            "Provisional Start: 2021-05-10T00:00:00\n",
            "Provisional End: 2021-05-22T12:00:00\n",
            "Data for chunk 99 of 178 extracted\n",
            "Provisional Start: 2021-05-22T12:00:00\n",
            "Provisional End: 2021-06-04T00:00:00\n",
            "Data for chunk 100 of 178 extracted\n"
          ]
        },
        {
          "output_type": "stream",
          "name": "stderr",
          "text": [
            "/usr/local/lib/python3.10/dist-packages/Historic_Crypto/HistoricalData.py:176: FutureWarning: The frame.append method is deprecated and will be removed from pandas in a future version. Use pandas.concat instead.\n",
            "  data = data.append(dataset)\n",
            "/usr/local/lib/python3.10/dist-packages/Historic_Crypto/HistoricalData.py:176: FutureWarning: The frame.append method is deprecated and will be removed from pandas in a future version. Use pandas.concat instead.\n",
            "  data = data.append(dataset)\n"
          ]
        },
        {
          "output_type": "stream",
          "name": "stdout",
          "text": [
            "Provisional Start: 2021-06-04T00:00:00\n",
            "Provisional End: 2021-06-16T12:00:00\n",
            "Data for chunk 101 of 178 extracted\n"
          ]
        },
        {
          "output_type": "stream",
          "name": "stderr",
          "text": [
            "/usr/local/lib/python3.10/dist-packages/Historic_Crypto/HistoricalData.py:176: FutureWarning: The frame.append method is deprecated and will be removed from pandas in a future version. Use pandas.concat instead.\n",
            "  data = data.append(dataset)\n"
          ]
        },
        {
          "output_type": "stream",
          "name": "stdout",
          "text": [
            "Provisional Start: 2021-06-16T12:00:00\n",
            "Provisional End: 2021-06-29T00:00:00\n",
            "Data for chunk 102 of 178 extracted\n",
            "Provisional Start: 2021-06-29T00:00:00\n",
            "Provisional End: 2021-07-11T12:00:00\n"
          ]
        },
        {
          "output_type": "stream",
          "name": "stderr",
          "text": [
            "/usr/local/lib/python3.10/dist-packages/Historic_Crypto/HistoricalData.py:176: FutureWarning: The frame.append method is deprecated and will be removed from pandas in a future version. Use pandas.concat instead.\n",
            "  data = data.append(dataset)\n"
          ]
        },
        {
          "output_type": "stream",
          "name": "stdout",
          "text": [
            "Data for chunk 103 of 178 extracted\n"
          ]
        },
        {
          "output_type": "stream",
          "name": "stderr",
          "text": [
            "/usr/local/lib/python3.10/dist-packages/Historic_Crypto/HistoricalData.py:176: FutureWarning: The frame.append method is deprecated and will be removed from pandas in a future version. Use pandas.concat instead.\n",
            "  data = data.append(dataset)\n"
          ]
        },
        {
          "output_type": "stream",
          "name": "stdout",
          "text": [
            "Provisional Start: 2021-07-11T12:00:00\n",
            "Provisional End: 2021-07-24T00:00:00\n",
            "Data for chunk 104 of 178 extracted\n",
            "Provisional Start: 2021-07-24T00:00:00\n",
            "Provisional End: 2021-08-05T12:00:00\n"
          ]
        },
        {
          "output_type": "stream",
          "name": "stderr",
          "text": [
            "/usr/local/lib/python3.10/dist-packages/Historic_Crypto/HistoricalData.py:176: FutureWarning: The frame.append method is deprecated and will be removed from pandas in a future version. Use pandas.concat instead.\n",
            "  data = data.append(dataset)\n",
            "/usr/local/lib/python3.10/dist-packages/Historic_Crypto/HistoricalData.py:176: FutureWarning: The frame.append method is deprecated and will be removed from pandas in a future version. Use pandas.concat instead.\n",
            "  data = data.append(dataset)\n"
          ]
        },
        {
          "output_type": "stream",
          "name": "stdout",
          "text": [
            "Data for chunk 105 of 178 extracted\n",
            "Provisional Start: 2021-08-05T12:00:00\n",
            "Provisional End: 2021-08-18T00:00:00\n",
            "Data for chunk 106 of 178 extracted\n"
          ]
        },
        {
          "output_type": "stream",
          "name": "stderr",
          "text": [
            "/usr/local/lib/python3.10/dist-packages/Historic_Crypto/HistoricalData.py:176: FutureWarning: The frame.append method is deprecated and will be removed from pandas in a future version. Use pandas.concat instead.\n",
            "  data = data.append(dataset)\n"
          ]
        },
        {
          "output_type": "stream",
          "name": "stdout",
          "text": [
            "Provisional Start: 2021-08-18T00:00:00\n",
            "Provisional End: 2021-08-30T12:00:00\n",
            "Data for chunk 107 of 178 extracted\n"
          ]
        },
        {
          "output_type": "stream",
          "name": "stderr",
          "text": [
            "/usr/local/lib/python3.10/dist-packages/Historic_Crypto/HistoricalData.py:176: FutureWarning: The frame.append method is deprecated and will be removed from pandas in a future version. Use pandas.concat instead.\n",
            "  data = data.append(dataset)\n"
          ]
        },
        {
          "output_type": "stream",
          "name": "stdout",
          "text": [
            "Provisional Start: 2021-08-30T12:00:00\n",
            "Provisional End: 2021-09-12T00:00:00\n",
            "Data for chunk 108 of 178 extracted\n",
            "Provisional Start: 2021-09-12T00:00:00\n",
            "Provisional End: 2021-09-24T12:00:00\n"
          ]
        },
        {
          "output_type": "stream",
          "name": "stderr",
          "text": [
            "/usr/local/lib/python3.10/dist-packages/Historic_Crypto/HistoricalData.py:176: FutureWarning: The frame.append method is deprecated and will be removed from pandas in a future version. Use pandas.concat instead.\n",
            "  data = data.append(dataset)\n",
            "/usr/local/lib/python3.10/dist-packages/Historic_Crypto/HistoricalData.py:176: FutureWarning: The frame.append method is deprecated and will be removed from pandas in a future version. Use pandas.concat instead.\n",
            "  data = data.append(dataset)\n"
          ]
        },
        {
          "output_type": "stream",
          "name": "stdout",
          "text": [
            "Data for chunk 109 of 178 extracted\n",
            "Provisional Start: 2021-09-24T12:00:00\n",
            "Provisional End: 2021-10-07T00:00:00\n",
            "Data for chunk 110 of 178 extracted\n",
            "Provisional Start: 2021-10-07T00:00:00\n",
            "Provisional End: 2021-10-19T12:00:00\n"
          ]
        },
        {
          "output_type": "stream",
          "name": "stderr",
          "text": [
            "/usr/local/lib/python3.10/dist-packages/Historic_Crypto/HistoricalData.py:176: FutureWarning: The frame.append method is deprecated and will be removed from pandas in a future version. Use pandas.concat instead.\n",
            "  data = data.append(dataset)\n"
          ]
        },
        {
          "output_type": "stream",
          "name": "stdout",
          "text": [
            "Data for chunk 111 of 178 extracted\n",
            "Provisional Start: 2021-10-19T12:00:00\n",
            "Provisional End: 2021-11-01T00:00:00\n"
          ]
        },
        {
          "output_type": "stream",
          "name": "stderr",
          "text": [
            "/usr/local/lib/python3.10/dist-packages/Historic_Crypto/HistoricalData.py:176: FutureWarning: The frame.append method is deprecated and will be removed from pandas in a future version. Use pandas.concat instead.\n",
            "  data = data.append(dataset)\n"
          ]
        },
        {
          "output_type": "stream",
          "name": "stdout",
          "text": [
            "Data for chunk 112 of 178 extracted\n"
          ]
        },
        {
          "output_type": "stream",
          "name": "stderr",
          "text": [
            "/usr/local/lib/python3.10/dist-packages/Historic_Crypto/HistoricalData.py:176: FutureWarning: The frame.append method is deprecated and will be removed from pandas in a future version. Use pandas.concat instead.\n",
            "  data = data.append(dataset)\n"
          ]
        },
        {
          "output_type": "stream",
          "name": "stdout",
          "text": [
            "Provisional Start: 2021-11-01T00:00:00\n",
            "Provisional End: 2021-11-13T12:00:00\n",
            "Data for chunk 113 of 178 extracted\n"
          ]
        },
        {
          "output_type": "stream",
          "name": "stderr",
          "text": [
            "/usr/local/lib/python3.10/dist-packages/Historic_Crypto/HistoricalData.py:176: FutureWarning: The frame.append method is deprecated and will be removed from pandas in a future version. Use pandas.concat instead.\n",
            "  data = data.append(dataset)\n"
          ]
        },
        {
          "output_type": "stream",
          "name": "stdout",
          "text": [
            "Provisional Start: 2021-11-13T12:00:00\n",
            "Provisional End: 2021-11-26T00:00:00\n",
            "Data for chunk 114 of 178 extracted\n"
          ]
        },
        {
          "output_type": "stream",
          "name": "stderr",
          "text": [
            "/usr/local/lib/python3.10/dist-packages/Historic_Crypto/HistoricalData.py:176: FutureWarning: The frame.append method is deprecated and will be removed from pandas in a future version. Use pandas.concat instead.\n",
            "  data = data.append(dataset)\n"
          ]
        },
        {
          "output_type": "stream",
          "name": "stdout",
          "text": [
            "Provisional Start: 2021-11-26T00:00:00\n",
            "Provisional End: 2021-12-08T12:00:00\n",
            "Data for chunk 115 of 178 extracted\n",
            "Provisional Start: 2021-12-08T12:00:00\n",
            "Provisional End: 2021-12-21T00:00:00\n"
          ]
        },
        {
          "output_type": "stream",
          "name": "stderr",
          "text": [
            "/usr/local/lib/python3.10/dist-packages/Historic_Crypto/HistoricalData.py:176: FutureWarning: The frame.append method is deprecated and will be removed from pandas in a future version. Use pandas.concat instead.\n",
            "  data = data.append(dataset)\n",
            "/usr/local/lib/python3.10/dist-packages/Historic_Crypto/HistoricalData.py:176: FutureWarning: The frame.append method is deprecated and will be removed from pandas in a future version. Use pandas.concat instead.\n",
            "  data = data.append(dataset)\n"
          ]
        },
        {
          "output_type": "stream",
          "name": "stdout",
          "text": [
            "Data for chunk 116 of 178 extracted\n",
            "Provisional Start: 2021-12-21T00:00:00\n",
            "Provisional End: 2022-01-02T12:00:00\n",
            "Data for chunk 117 of 178 extracted\n"
          ]
        },
        {
          "output_type": "stream",
          "name": "stderr",
          "text": [
            "/usr/local/lib/python3.10/dist-packages/Historic_Crypto/HistoricalData.py:176: FutureWarning: The frame.append method is deprecated and will be removed from pandas in a future version. Use pandas.concat instead.\n",
            "  data = data.append(dataset)\n"
          ]
        },
        {
          "output_type": "stream",
          "name": "stdout",
          "text": [
            "Provisional Start: 2022-01-02T12:00:00\n",
            "Provisional End: 2022-01-15T00:00:00\n",
            "Data for chunk 118 of 178 extracted\n"
          ]
        },
        {
          "output_type": "stream",
          "name": "stderr",
          "text": [
            "/usr/local/lib/python3.10/dist-packages/Historic_Crypto/HistoricalData.py:176: FutureWarning: The frame.append method is deprecated and will be removed from pandas in a future version. Use pandas.concat instead.\n",
            "  data = data.append(dataset)\n"
          ]
        },
        {
          "output_type": "stream",
          "name": "stdout",
          "text": [
            "Provisional Start: 2022-01-15T00:00:00\n",
            "Provisional End: 2022-01-27T12:00:00\n",
            "Data for chunk 119 of 178 extracted\n"
          ]
        },
        {
          "output_type": "stream",
          "name": "stderr",
          "text": [
            "/usr/local/lib/python3.10/dist-packages/Historic_Crypto/HistoricalData.py:176: FutureWarning: The frame.append method is deprecated and will be removed from pandas in a future version. Use pandas.concat instead.\n",
            "  data = data.append(dataset)\n"
          ]
        },
        {
          "output_type": "stream",
          "name": "stdout",
          "text": [
            "Provisional Start: 2022-01-27T12:00:00\n",
            "Provisional End: 2022-02-09T00:00:00\n",
            "Data for chunk 120 of 178 extracted\n",
            "Provisional Start: 2022-02-09T00:00:00\n",
            "Provisional End: 2022-02-21T12:00:00\n"
          ]
        },
        {
          "output_type": "stream",
          "name": "stderr",
          "text": [
            "/usr/local/lib/python3.10/dist-packages/Historic_Crypto/HistoricalData.py:176: FutureWarning: The frame.append method is deprecated and will be removed from pandas in a future version. Use pandas.concat instead.\n",
            "  data = data.append(dataset)\n",
            "/usr/local/lib/python3.10/dist-packages/Historic_Crypto/HistoricalData.py:176: FutureWarning: The frame.append method is deprecated and will be removed from pandas in a future version. Use pandas.concat instead.\n",
            "  data = data.append(dataset)\n"
          ]
        },
        {
          "output_type": "stream",
          "name": "stdout",
          "text": [
            "Data for chunk 121 of 178 extracted\n",
            "Provisional Start: 2022-02-21T12:00:00\n",
            "Provisional End: 2022-03-06T00:00:00\n",
            "Data for chunk 122 of 178 extracted\n"
          ]
        },
        {
          "output_type": "stream",
          "name": "stderr",
          "text": [
            "/usr/local/lib/python3.10/dist-packages/Historic_Crypto/HistoricalData.py:176: FutureWarning: The frame.append method is deprecated and will be removed from pandas in a future version. Use pandas.concat instead.\n",
            "  data = data.append(dataset)\n"
          ]
        },
        {
          "output_type": "stream",
          "name": "stdout",
          "text": [
            "Provisional Start: 2022-03-06T00:00:00\n",
            "Provisional End: 2022-03-18T12:00:00\n",
            "Data for chunk 123 of 178 extracted\n"
          ]
        },
        {
          "output_type": "stream",
          "name": "stderr",
          "text": [
            "/usr/local/lib/python3.10/dist-packages/Historic_Crypto/HistoricalData.py:176: FutureWarning: The frame.append method is deprecated and will be removed from pandas in a future version. Use pandas.concat instead.\n",
            "  data = data.append(dataset)\n"
          ]
        },
        {
          "output_type": "stream",
          "name": "stdout",
          "text": [
            "Provisional Start: 2022-03-18T12:00:00\n",
            "Provisional End: 2022-03-31T00:00:00\n",
            "Data for chunk 124 of 178 extracted\n"
          ]
        },
        {
          "output_type": "stream",
          "name": "stderr",
          "text": [
            "/usr/local/lib/python3.10/dist-packages/Historic_Crypto/HistoricalData.py:176: FutureWarning: The frame.append method is deprecated and will be removed from pandas in a future version. Use pandas.concat instead.\n",
            "  data = data.append(dataset)\n"
          ]
        },
        {
          "output_type": "stream",
          "name": "stdout",
          "text": [
            "Provisional Start: 2022-03-31T00:00:00\n",
            "Provisional End: 2022-04-12T12:00:00\n",
            "Data for chunk 125 of 178 extracted\n",
            "Provisional Start: 2022-04-12T12:00:00\n",
            "Provisional End: 2022-04-25T00:00:00\n"
          ]
        },
        {
          "output_type": "stream",
          "name": "stderr",
          "text": [
            "/usr/local/lib/python3.10/dist-packages/Historic_Crypto/HistoricalData.py:176: FutureWarning: The frame.append method is deprecated and will be removed from pandas in a future version. Use pandas.concat instead.\n",
            "  data = data.append(dataset)\n"
          ]
        },
        {
          "output_type": "stream",
          "name": "stdout",
          "text": [
            "Data for chunk 126 of 178 extracted\n",
            "Provisional Start: 2022-04-25T00:00:00\n",
            "Provisional End: 2022-05-07T12:00:00\n"
          ]
        },
        {
          "output_type": "stream",
          "name": "stderr",
          "text": [
            "/usr/local/lib/python3.10/dist-packages/Historic_Crypto/HistoricalData.py:176: FutureWarning: The frame.append method is deprecated and will be removed from pandas in a future version. Use pandas.concat instead.\n",
            "  data = data.append(dataset)\n"
          ]
        },
        {
          "output_type": "stream",
          "name": "stdout",
          "text": [
            "Data for chunk 127 of 178 extracted\n"
          ]
        },
        {
          "output_type": "stream",
          "name": "stderr",
          "text": [
            "/usr/local/lib/python3.10/dist-packages/Historic_Crypto/HistoricalData.py:176: FutureWarning: The frame.append method is deprecated and will be removed from pandas in a future version. Use pandas.concat instead.\n",
            "  data = data.append(dataset)\n"
          ]
        },
        {
          "output_type": "stream",
          "name": "stdout",
          "text": [
            "Provisional Start: 2022-05-07T12:00:00\n",
            "Provisional End: 2022-05-20T00:00:00\n",
            "Data for chunk 128 of 178 extracted\n"
          ]
        },
        {
          "output_type": "stream",
          "name": "stderr",
          "text": [
            "/usr/local/lib/python3.10/dist-packages/Historic_Crypto/HistoricalData.py:176: FutureWarning: The frame.append method is deprecated and will be removed from pandas in a future version. Use pandas.concat instead.\n",
            "  data = data.append(dataset)\n"
          ]
        },
        {
          "output_type": "stream",
          "name": "stdout",
          "text": [
            "Provisional Start: 2022-05-20T00:00:00\n",
            "Provisional End: 2022-06-01T12:00:00\n",
            "Data for chunk 129 of 178 extracted\n"
          ]
        },
        {
          "output_type": "stream",
          "name": "stderr",
          "text": [
            "/usr/local/lib/python3.10/dist-packages/Historic_Crypto/HistoricalData.py:176: FutureWarning: The frame.append method is deprecated and will be removed from pandas in a future version. Use pandas.concat instead.\n",
            "  data = data.append(dataset)\n"
          ]
        },
        {
          "output_type": "stream",
          "name": "stdout",
          "text": [
            "Provisional Start: 2022-06-01T12:00:00\n",
            "Provisional End: 2022-06-14T00:00:00\n",
            "Data for chunk 130 of 178 extracted\n"
          ]
        },
        {
          "output_type": "stream",
          "name": "stderr",
          "text": [
            "/usr/local/lib/python3.10/dist-packages/Historic_Crypto/HistoricalData.py:176: FutureWarning: The frame.append method is deprecated and will be removed from pandas in a future version. Use pandas.concat instead.\n",
            "  data = data.append(dataset)\n"
          ]
        },
        {
          "output_type": "stream",
          "name": "stdout",
          "text": [
            "Provisional Start: 2022-06-14T00:00:00\n",
            "Provisional End: 2022-06-26T12:00:00\n",
            "Data for chunk 131 of 178 extracted\n"
          ]
        },
        {
          "output_type": "stream",
          "name": "stderr",
          "text": [
            "/usr/local/lib/python3.10/dist-packages/Historic_Crypto/HistoricalData.py:176: FutureWarning: The frame.append method is deprecated and will be removed from pandas in a future version. Use pandas.concat instead.\n",
            "  data = data.append(dataset)\n"
          ]
        },
        {
          "output_type": "stream",
          "name": "stdout",
          "text": [
            "Provisional Start: 2022-06-26T12:00:00\n",
            "Provisional End: 2022-07-09T00:00:00\n",
            "Data for chunk 132 of 178 extracted\n"
          ]
        },
        {
          "output_type": "stream",
          "name": "stderr",
          "text": [
            "/usr/local/lib/python3.10/dist-packages/Historic_Crypto/HistoricalData.py:176: FutureWarning: The frame.append method is deprecated and will be removed from pandas in a future version. Use pandas.concat instead.\n",
            "  data = data.append(dataset)\n"
          ]
        },
        {
          "output_type": "stream",
          "name": "stdout",
          "text": [
            "Provisional Start: 2022-07-09T00:00:00\n",
            "Provisional End: 2022-07-21T12:00:00\n",
            "Data for chunk 133 of 178 extracted\n"
          ]
        },
        {
          "output_type": "stream",
          "name": "stderr",
          "text": [
            "/usr/local/lib/python3.10/dist-packages/Historic_Crypto/HistoricalData.py:176: FutureWarning: The frame.append method is deprecated and will be removed from pandas in a future version. Use pandas.concat instead.\n",
            "  data = data.append(dataset)\n"
          ]
        },
        {
          "output_type": "stream",
          "name": "stdout",
          "text": [
            "Provisional Start: 2022-07-21T12:00:00\n",
            "Provisional End: 2022-08-03T00:00:00\n",
            "Data for chunk 134 of 178 extracted\n"
          ]
        },
        {
          "output_type": "stream",
          "name": "stderr",
          "text": [
            "/usr/local/lib/python3.10/dist-packages/Historic_Crypto/HistoricalData.py:176: FutureWarning: The frame.append method is deprecated and will be removed from pandas in a future version. Use pandas.concat instead.\n",
            "  data = data.append(dataset)\n"
          ]
        },
        {
          "output_type": "stream",
          "name": "stdout",
          "text": [
            "Provisional Start: 2022-08-03T00:00:00\n",
            "Provisional End: 2022-08-15T12:00:00\n",
            "Data for chunk 135 of 178 extracted\n",
            "Provisional Start: 2022-08-15T12:00:00\n",
            "Provisional End: 2022-08-28T00:00:00\n",
            "Data for chunk 136 of 178 extracted\n"
          ]
        },
        {
          "output_type": "stream",
          "name": "stderr",
          "text": [
            "/usr/local/lib/python3.10/dist-packages/Historic_Crypto/HistoricalData.py:176: FutureWarning: The frame.append method is deprecated and will be removed from pandas in a future version. Use pandas.concat instead.\n",
            "  data = data.append(dataset)\n",
            "/usr/local/lib/python3.10/dist-packages/Historic_Crypto/HistoricalData.py:176: FutureWarning: The frame.append method is deprecated and will be removed from pandas in a future version. Use pandas.concat instead.\n",
            "  data = data.append(dataset)\n"
          ]
        },
        {
          "output_type": "stream",
          "name": "stdout",
          "text": [
            "Provisional Start: 2022-08-28T00:00:00\n",
            "Provisional End: 2022-09-09T12:00:00\n",
            "Data for chunk 137 of 178 extracted\n"
          ]
        },
        {
          "output_type": "stream",
          "name": "stderr",
          "text": [
            "/usr/local/lib/python3.10/dist-packages/Historic_Crypto/HistoricalData.py:176: FutureWarning: The frame.append method is deprecated and will be removed from pandas in a future version. Use pandas.concat instead.\n",
            "  data = data.append(dataset)\n"
          ]
        },
        {
          "output_type": "stream",
          "name": "stdout",
          "text": [
            "Provisional Start: 2022-09-09T12:00:00\n",
            "Provisional End: 2022-09-22T00:00:00\n",
            "Data for chunk 138 of 178 extracted\n"
          ]
        },
        {
          "output_type": "stream",
          "name": "stderr",
          "text": [
            "/usr/local/lib/python3.10/dist-packages/Historic_Crypto/HistoricalData.py:176: FutureWarning: The frame.append method is deprecated and will be removed from pandas in a future version. Use pandas.concat instead.\n",
            "  data = data.append(dataset)\n"
          ]
        },
        {
          "output_type": "stream",
          "name": "stdout",
          "text": [
            "Provisional Start: 2022-09-22T00:00:00\n",
            "Provisional End: 2022-10-04T12:00:00\n",
            "Data for chunk 139 of 178 extracted\n"
          ]
        },
        {
          "output_type": "stream",
          "name": "stderr",
          "text": [
            "/usr/local/lib/python3.10/dist-packages/Historic_Crypto/HistoricalData.py:176: FutureWarning: The frame.append method is deprecated and will be removed from pandas in a future version. Use pandas.concat instead.\n",
            "  data = data.append(dataset)\n"
          ]
        },
        {
          "output_type": "stream",
          "name": "stdout",
          "text": [
            "Provisional Start: 2022-10-04T12:00:00\n",
            "Provisional End: 2022-10-17T00:00:00\n",
            "Data for chunk 140 of 178 extracted\n",
            "Provisional Start: 2022-10-17T00:00:00\n",
            "Provisional End: 2022-10-29T12:00:00\n",
            "Data for chunk 141 of 178 extracted\n",
            "Provisional Start: 2022-10-29T12:00:00\n",
            "Provisional End: 2022-11-11T00:00:00\n"
          ]
        },
        {
          "output_type": "stream",
          "name": "stderr",
          "text": [
            "/usr/local/lib/python3.10/dist-packages/Historic_Crypto/HistoricalData.py:176: FutureWarning: The frame.append method is deprecated and will be removed from pandas in a future version. Use pandas.concat instead.\n",
            "  data = data.append(dataset)\n",
            "/usr/local/lib/python3.10/dist-packages/Historic_Crypto/HistoricalData.py:176: FutureWarning: The frame.append method is deprecated and will be removed from pandas in a future version. Use pandas.concat instead.\n",
            "  data = data.append(dataset)\n"
          ]
        },
        {
          "output_type": "stream",
          "name": "stdout",
          "text": [
            "Data for chunk 142 of 178 extracted\n",
            "Provisional Start: 2022-11-11T00:00:00\n",
            "Provisional End: 2022-11-23T12:00:00\n",
            "Data for chunk 143 of 178 extracted\n"
          ]
        },
        {
          "output_type": "stream",
          "name": "stderr",
          "text": [
            "/usr/local/lib/python3.10/dist-packages/Historic_Crypto/HistoricalData.py:176: FutureWarning: The frame.append method is deprecated and will be removed from pandas in a future version. Use pandas.concat instead.\n",
            "  data = data.append(dataset)\n",
            "/usr/local/lib/python3.10/dist-packages/Historic_Crypto/HistoricalData.py:176: FutureWarning: The frame.append method is deprecated and will be removed from pandas in a future version. Use pandas.concat instead.\n",
            "  data = data.append(dataset)\n"
          ]
        },
        {
          "output_type": "stream",
          "name": "stdout",
          "text": [
            "Provisional Start: 2022-11-23T12:00:00\n",
            "Provisional End: 2022-12-06T00:00:00\n",
            "Data for chunk 144 of 178 extracted\n"
          ]
        },
        {
          "output_type": "stream",
          "name": "stderr",
          "text": [
            "/usr/local/lib/python3.10/dist-packages/Historic_Crypto/HistoricalData.py:176: FutureWarning: The frame.append method is deprecated and will be removed from pandas in a future version. Use pandas.concat instead.\n",
            "  data = data.append(dataset)\n"
          ]
        },
        {
          "output_type": "stream",
          "name": "stdout",
          "text": [
            "Provisional Start: 2022-12-06T00:00:00\n",
            "Provisional End: 2022-12-18T12:00:00\n",
            "Data for chunk 145 of 178 extracted\n"
          ]
        },
        {
          "output_type": "stream",
          "name": "stderr",
          "text": [
            "/usr/local/lib/python3.10/dist-packages/Historic_Crypto/HistoricalData.py:176: FutureWarning: The frame.append method is deprecated and will be removed from pandas in a future version. Use pandas.concat instead.\n",
            "  data = data.append(dataset)\n"
          ]
        },
        {
          "output_type": "stream",
          "name": "stdout",
          "text": [
            "Provisional Start: 2022-12-18T12:00:00\n",
            "Provisional End: 2022-12-31T00:00:00\n",
            "Data for chunk 146 of 178 extracted\n"
          ]
        },
        {
          "output_type": "stream",
          "name": "stderr",
          "text": [
            "/usr/local/lib/python3.10/dist-packages/Historic_Crypto/HistoricalData.py:176: FutureWarning: The frame.append method is deprecated and will be removed from pandas in a future version. Use pandas.concat instead.\n",
            "  data = data.append(dataset)\n"
          ]
        },
        {
          "output_type": "stream",
          "name": "stdout",
          "text": [
            "Provisional Start: 2022-12-31T00:00:00\n",
            "Provisional End: 2023-01-12T12:00:00\n",
            "Data for chunk 147 of 178 extracted\n",
            "Provisional Start: 2023-01-12T12:00:00\n",
            "Provisional End: 2023-01-25T00:00:00\n"
          ]
        },
        {
          "output_type": "stream",
          "name": "stderr",
          "text": [
            "/usr/local/lib/python3.10/dist-packages/Historic_Crypto/HistoricalData.py:176: FutureWarning: The frame.append method is deprecated and will be removed from pandas in a future version. Use pandas.concat instead.\n",
            "  data = data.append(dataset)\n"
          ]
        },
        {
          "output_type": "stream",
          "name": "stdout",
          "text": [
            "Data for chunk 148 of 178 extracted\n"
          ]
        },
        {
          "output_type": "stream",
          "name": "stderr",
          "text": [
            "/usr/local/lib/python3.10/dist-packages/Historic_Crypto/HistoricalData.py:176: FutureWarning: The frame.append method is deprecated and will be removed from pandas in a future version. Use pandas.concat instead.\n",
            "  data = data.append(dataset)\n"
          ]
        },
        {
          "output_type": "stream",
          "name": "stdout",
          "text": [
            "Provisional Start: 2023-01-25T00:00:00\n",
            "Provisional End: 2023-02-06T12:00:00\n",
            "Data for chunk 149 of 178 extracted\n",
            "Provisional Start: 2023-02-06T12:00:00\n",
            "Provisional End: 2023-02-19T00:00:00\n"
          ]
        },
        {
          "output_type": "stream",
          "name": "stderr",
          "text": [
            "/usr/local/lib/python3.10/dist-packages/Historic_Crypto/HistoricalData.py:176: FutureWarning: The frame.append method is deprecated and will be removed from pandas in a future version. Use pandas.concat instead.\n",
            "  data = data.append(dataset)\n",
            "/usr/local/lib/python3.10/dist-packages/Historic_Crypto/HistoricalData.py:176: FutureWarning: The frame.append method is deprecated and will be removed from pandas in a future version. Use pandas.concat instead.\n",
            "  data = data.append(dataset)\n"
          ]
        },
        {
          "output_type": "stream",
          "name": "stdout",
          "text": [
            "Data for chunk 150 of 178 extracted\n",
            "Provisional Start: 2023-02-19T00:00:00\n",
            "Provisional End: 2023-03-03T12:00:00\n",
            "Data for chunk 151 of 178 extracted\n"
          ]
        },
        {
          "output_type": "stream",
          "name": "stderr",
          "text": [
            "/usr/local/lib/python3.10/dist-packages/Historic_Crypto/HistoricalData.py:176: FutureWarning: The frame.append method is deprecated and will be removed from pandas in a future version. Use pandas.concat instead.\n",
            "  data = data.append(dataset)\n"
          ]
        },
        {
          "output_type": "stream",
          "name": "stdout",
          "text": [
            "Provisional Start: 2023-03-03T12:00:00\n",
            "Provisional End: 2023-03-16T00:00:00\n",
            "Data for chunk 152 of 178 extracted\n"
          ]
        },
        {
          "output_type": "stream",
          "name": "stderr",
          "text": [
            "/usr/local/lib/python3.10/dist-packages/Historic_Crypto/HistoricalData.py:176: FutureWarning: The frame.append method is deprecated and will be removed from pandas in a future version. Use pandas.concat instead.\n",
            "  data = data.append(dataset)\n"
          ]
        },
        {
          "output_type": "stream",
          "name": "stdout",
          "text": [
            "Provisional Start: 2023-03-16T00:00:00\n",
            "Provisional End: 2023-03-28T12:00:00\n",
            "Data for chunk 153 of 178 extracted\n",
            "Provisional Start: 2023-03-28T12:00:00\n",
            "Provisional End: 2023-04-10T00:00:00\n"
          ]
        },
        {
          "output_type": "stream",
          "name": "stderr",
          "text": [
            "/usr/local/lib/python3.10/dist-packages/Historic_Crypto/HistoricalData.py:176: FutureWarning: The frame.append method is deprecated and will be removed from pandas in a future version. Use pandas.concat instead.\n",
            "  data = data.append(dataset)\n"
          ]
        },
        {
          "output_type": "stream",
          "name": "stdout",
          "text": [
            "Data for chunk 154 of 178 extracted\n",
            "Provisional Start: 2023-04-10T00:00:00\n",
            "Provisional End: 2023-04-22T12:00:00\n",
            "Data for chunk 155 of 178 extracted\n"
          ]
        },
        {
          "output_type": "stream",
          "name": "stderr",
          "text": [
            "/usr/local/lib/python3.10/dist-packages/Historic_Crypto/HistoricalData.py:176: FutureWarning: The frame.append method is deprecated and will be removed from pandas in a future version. Use pandas.concat instead.\n",
            "  data = data.append(dataset)\n",
            "/usr/local/lib/python3.10/dist-packages/Historic_Crypto/HistoricalData.py:176: FutureWarning: The frame.append method is deprecated and will be removed from pandas in a future version. Use pandas.concat instead.\n",
            "  data = data.append(dataset)\n"
          ]
        },
        {
          "output_type": "stream",
          "name": "stdout",
          "text": [
            "Provisional Start: 2023-04-22T12:00:00\n",
            "Provisional End: 2023-05-05T00:00:00\n",
            "Data for chunk 156 of 178 extracted\n",
            "Provisional Start: 2023-05-05T00:00:00\n",
            "Provisional End: 2023-05-17T12:00:00\n",
            "Data for chunk 157 of 178 extracted\n"
          ]
        },
        {
          "output_type": "stream",
          "name": "stderr",
          "text": [
            "/usr/local/lib/python3.10/dist-packages/Historic_Crypto/HistoricalData.py:176: FutureWarning: The frame.append method is deprecated and will be removed from pandas in a future version. Use pandas.concat instead.\n",
            "  data = data.append(dataset)\n",
            "/usr/local/lib/python3.10/dist-packages/Historic_Crypto/HistoricalData.py:176: FutureWarning: The frame.append method is deprecated and will be removed from pandas in a future version. Use pandas.concat instead.\n",
            "  data = data.append(dataset)\n"
          ]
        },
        {
          "output_type": "stream",
          "name": "stdout",
          "text": [
            "Provisional Start: 2023-05-17T12:00:00\n",
            "Provisional End: 2023-05-30T00:00:00\n",
            "Data for chunk 158 of 178 extracted\n"
          ]
        },
        {
          "output_type": "stream",
          "name": "stderr",
          "text": [
            "/usr/local/lib/python3.10/dist-packages/Historic_Crypto/HistoricalData.py:176: FutureWarning: The frame.append method is deprecated and will be removed from pandas in a future version. Use pandas.concat instead.\n",
            "  data = data.append(dataset)\n"
          ]
        },
        {
          "output_type": "stream",
          "name": "stdout",
          "text": [
            "Provisional Start: 2023-05-30T00:00:00\n",
            "Provisional End: 2023-06-11T12:00:00\n",
            "Data for chunk 159 of 178 extracted\n"
          ]
        },
        {
          "output_type": "stream",
          "name": "stderr",
          "text": [
            "/usr/local/lib/python3.10/dist-packages/Historic_Crypto/HistoricalData.py:176: FutureWarning: The frame.append method is deprecated and will be removed from pandas in a future version. Use pandas.concat instead.\n",
            "  data = data.append(dataset)\n"
          ]
        },
        {
          "output_type": "stream",
          "name": "stdout",
          "text": [
            "Provisional Start: 2023-06-11T12:00:00\n",
            "Provisional End: 2023-06-24T00:00:00\n",
            "Data for chunk 160 of 178 extracted\n"
          ]
        },
        {
          "output_type": "stream",
          "name": "stderr",
          "text": [
            "/usr/local/lib/python3.10/dist-packages/Historic_Crypto/HistoricalData.py:176: FutureWarning: The frame.append method is deprecated and will be removed from pandas in a future version. Use pandas.concat instead.\n",
            "  data = data.append(dataset)\n"
          ]
        },
        {
          "output_type": "stream",
          "name": "stdout",
          "text": [
            "Provisional Start: 2023-06-24T00:00:00\n",
            "Provisional End: 2023-07-06T12:00:00\n",
            "Data for chunk 161 of 178 extracted\n"
          ]
        },
        {
          "output_type": "stream",
          "name": "stderr",
          "text": [
            "/usr/local/lib/python3.10/dist-packages/Historic_Crypto/HistoricalData.py:176: FutureWarning: The frame.append method is deprecated and will be removed from pandas in a future version. Use pandas.concat instead.\n",
            "  data = data.append(dataset)\n"
          ]
        },
        {
          "output_type": "stream",
          "name": "stdout",
          "text": [
            "Provisional Start: 2023-07-06T12:00:00\n",
            "Provisional End: 2023-07-19T00:00:00\n",
            "Data for chunk 162 of 178 extracted\n"
          ]
        },
        {
          "output_type": "stream",
          "name": "stderr",
          "text": [
            "/usr/local/lib/python3.10/dist-packages/Historic_Crypto/HistoricalData.py:176: FutureWarning: The frame.append method is deprecated and will be removed from pandas in a future version. Use pandas.concat instead.\n",
            "  data = data.append(dataset)\n"
          ]
        },
        {
          "output_type": "stream",
          "name": "stdout",
          "text": [
            "Provisional Start: 2023-07-19T00:00:00\n",
            "Provisional End: 2023-07-31T12:00:00\n",
            "Data for chunk 163 of 178 extracted\n"
          ]
        },
        {
          "output_type": "stream",
          "name": "stderr",
          "text": [
            "/usr/local/lib/python3.10/dist-packages/Historic_Crypto/HistoricalData.py:176: FutureWarning: The frame.append method is deprecated and will be removed from pandas in a future version. Use pandas.concat instead.\n",
            "  data = data.append(dataset)\n",
            "/usr/local/lib/python3.10/dist-packages/Historic_Crypto/HistoricalData.py:176: FutureWarning: The frame.append method is deprecated and will be removed from pandas in a future version. Use pandas.concat instead.\n",
            "  data = data.append(dataset)\n"
          ]
        },
        {
          "output_type": "stream",
          "name": "stdout",
          "text": [
            "Provisional Start: 2023-07-31T12:00:00\n",
            "Provisional End: 2023-08-13T00:00:00\n",
            "Data for chunk 164 of 178 extracted\n",
            "Provisional Start: 2023-08-13T00:00:00\n",
            "Provisional End: 2023-08-25T12:00:00\n",
            "Data for chunk 165 of 178 extracted\n"
          ]
        },
        {
          "output_type": "stream",
          "name": "stderr",
          "text": [
            "/usr/local/lib/python3.10/dist-packages/Historic_Crypto/HistoricalData.py:176: FutureWarning: The frame.append method is deprecated and will be removed from pandas in a future version. Use pandas.concat instead.\n",
            "  data = data.append(dataset)\n"
          ]
        },
        {
          "output_type": "stream",
          "name": "stdout",
          "text": [
            "Provisional Start: 2023-08-25T12:00:00\n",
            "Provisional End: 2023-09-07T00:00:00\n",
            "Data for chunk 166 of 178 extracted\n",
            "Provisional Start: 2023-09-07T00:00:00\n",
            "Provisional End: 2023-09-19T12:00:00\n"
          ]
        },
        {
          "output_type": "stream",
          "name": "stderr",
          "text": [
            "/usr/local/lib/python3.10/dist-packages/Historic_Crypto/HistoricalData.py:176: FutureWarning: The frame.append method is deprecated and will be removed from pandas in a future version. Use pandas.concat instead.\n",
            "  data = data.append(dataset)\n",
            "/usr/local/lib/python3.10/dist-packages/Historic_Crypto/HistoricalData.py:176: FutureWarning: The frame.append method is deprecated and will be removed from pandas in a future version. Use pandas.concat instead.\n",
            "  data = data.append(dataset)\n"
          ]
        },
        {
          "output_type": "stream",
          "name": "stdout",
          "text": [
            "Data for chunk 167 of 178 extracted\n",
            "Provisional Start: 2023-09-19T12:00:00\n",
            "Provisional End: 2023-10-02T00:00:00\n",
            "Data for chunk 168 of 178 extracted\n",
            "Provisional Start: 2023-10-02T00:00:00\n",
            "Provisional End: 2023-10-14T12:00:00\n"
          ]
        },
        {
          "output_type": "stream",
          "name": "stderr",
          "text": [
            "/usr/local/lib/python3.10/dist-packages/Historic_Crypto/HistoricalData.py:176: FutureWarning: The frame.append method is deprecated and will be removed from pandas in a future version. Use pandas.concat instead.\n",
            "  data = data.append(dataset)\n"
          ]
        },
        {
          "output_type": "stream",
          "name": "stdout",
          "text": [
            "Data for chunk 169 of 178 extracted\n",
            "Provisional Start: 2023-10-14T12:00:00\n",
            "Provisional End: 2023-10-27T00:00:00\n"
          ]
        },
        {
          "output_type": "stream",
          "name": "stderr",
          "text": [
            "/usr/local/lib/python3.10/dist-packages/Historic_Crypto/HistoricalData.py:176: FutureWarning: The frame.append method is deprecated and will be removed from pandas in a future version. Use pandas.concat instead.\n",
            "  data = data.append(dataset)\n"
          ]
        },
        {
          "output_type": "stream",
          "name": "stdout",
          "text": [
            "Data for chunk 170 of 178 extracted\n"
          ]
        },
        {
          "output_type": "stream",
          "name": "stderr",
          "text": [
            "/usr/local/lib/python3.10/dist-packages/Historic_Crypto/HistoricalData.py:176: FutureWarning: The frame.append method is deprecated and will be removed from pandas in a future version. Use pandas.concat instead.\n",
            "  data = data.append(dataset)\n"
          ]
        },
        {
          "output_type": "stream",
          "name": "stdout",
          "text": [
            "Provisional Start: 2023-10-27T00:00:00\n",
            "Provisional End: 2023-11-08T12:00:00\n",
            "Data for chunk 171 of 178 extracted\n"
          ]
        },
        {
          "output_type": "stream",
          "name": "stderr",
          "text": [
            "/usr/local/lib/python3.10/dist-packages/Historic_Crypto/HistoricalData.py:176: FutureWarning: The frame.append method is deprecated and will be removed from pandas in a future version. Use pandas.concat instead.\n",
            "  data = data.append(dataset)\n"
          ]
        },
        {
          "output_type": "stream",
          "name": "stdout",
          "text": [
            "Provisional Start: 2023-11-08T12:00:00\n",
            "Provisional End: 2023-11-21T00:00:00\n",
            "Data for chunk 172 of 178 extracted\n",
            "Provisional Start: 2023-11-21T00:00:00\n",
            "Provisional End: 2023-12-03T12:00:00\n"
          ]
        },
        {
          "output_type": "stream",
          "name": "stderr",
          "text": [
            "/usr/local/lib/python3.10/dist-packages/Historic_Crypto/HistoricalData.py:176: FutureWarning: The frame.append method is deprecated and will be removed from pandas in a future version. Use pandas.concat instead.\n",
            "  data = data.append(dataset)\n"
          ]
        },
        {
          "output_type": "stream",
          "name": "stdout",
          "text": [
            "Data for chunk 173 of 178 extracted\n"
          ]
        },
        {
          "output_type": "stream",
          "name": "stderr",
          "text": [
            "/usr/local/lib/python3.10/dist-packages/Historic_Crypto/HistoricalData.py:176: FutureWarning: The frame.append method is deprecated and will be removed from pandas in a future version. Use pandas.concat instead.\n",
            "  data = data.append(dataset)\n"
          ]
        },
        {
          "output_type": "stream",
          "name": "stdout",
          "text": [
            "Provisional Start: 2023-12-03T12:00:00\n",
            "Provisional End: 2023-12-16T00:00:00\n",
            "Data for chunk 174 of 178 extracted\n",
            "Provisional Start: 2023-12-16T00:00:00\n",
            "Provisional End: 2023-12-28T12:00:00\n"
          ]
        },
        {
          "output_type": "stream",
          "name": "stderr",
          "text": [
            "/usr/local/lib/python3.10/dist-packages/Historic_Crypto/HistoricalData.py:176: FutureWarning: The frame.append method is deprecated and will be removed from pandas in a future version. Use pandas.concat instead.\n",
            "  data = data.append(dataset)\n"
          ]
        },
        {
          "output_type": "stream",
          "name": "stdout",
          "text": [
            "Data for chunk 175 of 178 extracted\n",
            "Provisional Start: 2023-12-28T12:00:00\n",
            "Provisional End: 2024-01-10T00:00:00\n",
            "Data for chunk 176 of 178 extracted\n",
            "Provisional Start: 2024-01-10T00:00:00\n",
            "Provisional End: 2024-01-22T12:00:00\n"
          ]
        },
        {
          "output_type": "stream",
          "name": "stderr",
          "text": [
            "/usr/local/lib/python3.10/dist-packages/Historic_Crypto/HistoricalData.py:176: FutureWarning: The frame.append method is deprecated and will be removed from pandas in a future version. Use pandas.concat instead.\n",
            "  data = data.append(dataset)\n",
            "/usr/local/lib/python3.10/dist-packages/Historic_Crypto/HistoricalData.py:176: FutureWarning: The frame.append method is deprecated and will be removed from pandas in a future version. Use pandas.concat instead.\n",
            "  data = data.append(dataset)\n"
          ]
        },
        {
          "output_type": "stream",
          "name": "stdout",
          "text": [
            "Data for chunk 177 of 178 extracted\n",
            "Provisional Start: 2024-01-22T12:00:00\n",
            "Provisional End: 2024-02-04T00:00:00\n",
            "Data for chunk 178 of 178 extracted\n"
          ]
        },
        {
          "output_type": "stream",
          "name": "stderr",
          "text": [
            "/usr/local/lib/python3.10/dist-packages/Historic_Crypto/HistoricalData.py:176: FutureWarning: The frame.append method is deprecated and will be removed from pandas in a future version. Use pandas.concat instead.\n",
            "  data = data.append(dataset)\n",
            "/usr/local/lib/python3.10/dist-packages/Historic_Crypto/HistoricalData.py:176: FutureWarning: The frame.append method is deprecated and will be removed from pandas in a future version. Use pandas.concat instead.\n",
            "  data = data.append(dataset)\n"
          ]
        }
      ]
    },
    {
      "cell_type": "markdown",
      "source": [
        "Now, we have historical data of Bitcoin (BTC) from October 2015 to February 2024. Now, let's clean the data and store it"
      ],
      "metadata": {
        "id": "HKb2WJQ8-8Ti"
      }
    },
    {
      "cell_type": "code",
      "source": [
        "btc_historical.info()"
      ],
      "metadata": {
        "colab": {
          "base_uri": "https://localhost:8080/"
        },
        "id": "EgcoI00p6YKz",
        "outputId": "3019fbae-20aa-40c6-93f6-e1ef91a77aaa"
      },
      "execution_count": 5,
      "outputs": [
        {
          "output_type": "stream",
          "name": "stdout",
          "text": [
            "<class 'pandas.core.frame.DataFrame'>\n",
            "DatetimeIndex: 53272 entries, 2018-01-01 01:00:00 to 2024-01-31 00:00:00\n",
            "Data columns (total 5 columns):\n",
            " #   Column  Non-Null Count  Dtype  \n",
            "---  ------  --------------  -----  \n",
            " 0   low     53272 non-null  float64\n",
            " 1   high    53272 non-null  float64\n",
            " 2   open    53272 non-null  float64\n",
            " 3   close   53272 non-null  float64\n",
            " 4   volume  53272 non-null  float64\n",
            "dtypes: float64(5)\n",
            "memory usage: 2.4 MB\n"
          ]
        }
      ]
    },
    {
      "cell_type": "code",
      "source": [
        "btc_historical.tail()"
      ],
      "metadata": {
        "colab": {
          "base_uri": "https://localhost:8080/",
          "height": 237
        },
        "id": "0GysdiuAIUK9",
        "outputId": "22a1f6cd-d238-4edf-d0d8-14510ed475fb"
      },
      "execution_count": 6,
      "outputs": [
        {
          "output_type": "execute_result",
          "data": {
            "text/plain": [
              "                          low      high      open     close       volume\n",
              "time                                                                    \n",
              "2024-01-30 20:00:00  43491.95  43786.70  43545.29  43552.07  3872.055212\n",
              "2024-01-30 21:00:00  43483.53  43700.66  43561.06  43543.90   479.997941\n",
              "2024-01-30 22:00:00  43317.10  43586.10  43543.89  43329.94   297.475559\n",
              "2024-01-30 23:00:00  42680.20  43362.06  43327.67  42942.78   858.413340\n",
              "2024-01-31 00:00:00  42850.36  43116.79  42937.72  42931.91   510.008220"
            ],
            "text/html": [
              "\n",
              "  <div id=\"df-a3d8c380-15bc-46d3-9f22-52d66282216b\" class=\"colab-df-container\">\n",
              "    <div>\n",
              "<style scoped>\n",
              "    .dataframe tbody tr th:only-of-type {\n",
              "        vertical-align: middle;\n",
              "    }\n",
              "\n",
              "    .dataframe tbody tr th {\n",
              "        vertical-align: top;\n",
              "    }\n",
              "\n",
              "    .dataframe thead th {\n",
              "        text-align: right;\n",
              "    }\n",
              "</style>\n",
              "<table border=\"1\" class=\"dataframe\">\n",
              "  <thead>\n",
              "    <tr style=\"text-align: right;\">\n",
              "      <th></th>\n",
              "      <th>low</th>\n",
              "      <th>high</th>\n",
              "      <th>open</th>\n",
              "      <th>close</th>\n",
              "      <th>volume</th>\n",
              "    </tr>\n",
              "    <tr>\n",
              "      <th>time</th>\n",
              "      <th></th>\n",
              "      <th></th>\n",
              "      <th></th>\n",
              "      <th></th>\n",
              "      <th></th>\n",
              "    </tr>\n",
              "  </thead>\n",
              "  <tbody>\n",
              "    <tr>\n",
              "      <th>2024-01-30 20:00:00</th>\n",
              "      <td>43491.95</td>\n",
              "      <td>43786.70</td>\n",
              "      <td>43545.29</td>\n",
              "      <td>43552.07</td>\n",
              "      <td>3872.055212</td>\n",
              "    </tr>\n",
              "    <tr>\n",
              "      <th>2024-01-30 21:00:00</th>\n",
              "      <td>43483.53</td>\n",
              "      <td>43700.66</td>\n",
              "      <td>43561.06</td>\n",
              "      <td>43543.90</td>\n",
              "      <td>479.997941</td>\n",
              "    </tr>\n",
              "    <tr>\n",
              "      <th>2024-01-30 22:00:00</th>\n",
              "      <td>43317.10</td>\n",
              "      <td>43586.10</td>\n",
              "      <td>43543.89</td>\n",
              "      <td>43329.94</td>\n",
              "      <td>297.475559</td>\n",
              "    </tr>\n",
              "    <tr>\n",
              "      <th>2024-01-30 23:00:00</th>\n",
              "      <td>42680.20</td>\n",
              "      <td>43362.06</td>\n",
              "      <td>43327.67</td>\n",
              "      <td>42942.78</td>\n",
              "      <td>858.413340</td>\n",
              "    </tr>\n",
              "    <tr>\n",
              "      <th>2024-01-31 00:00:00</th>\n",
              "      <td>42850.36</td>\n",
              "      <td>43116.79</td>\n",
              "      <td>42937.72</td>\n",
              "      <td>42931.91</td>\n",
              "      <td>510.008220</td>\n",
              "    </tr>\n",
              "  </tbody>\n",
              "</table>\n",
              "</div>\n",
              "    <div class=\"colab-df-buttons\">\n",
              "\n",
              "  <div class=\"colab-df-container\">\n",
              "    <button class=\"colab-df-convert\" onclick=\"convertToInteractive('df-a3d8c380-15bc-46d3-9f22-52d66282216b')\"\n",
              "            title=\"Convert this dataframe to an interactive table.\"\n",
              "            style=\"display:none;\">\n",
              "\n",
              "  <svg xmlns=\"http://www.w3.org/2000/svg\" height=\"24px\" viewBox=\"0 -960 960 960\">\n",
              "    <path d=\"M120-120v-720h720v720H120Zm60-500h600v-160H180v160Zm220 220h160v-160H400v160Zm0 220h160v-160H400v160ZM180-400h160v-160H180v160Zm440 0h160v-160H620v160ZM180-180h160v-160H180v160Zm440 0h160v-160H620v160Z\"/>\n",
              "  </svg>\n",
              "    </button>\n",
              "\n",
              "  <style>\n",
              "    .colab-df-container {\n",
              "      display:flex;\n",
              "      gap: 12px;\n",
              "    }\n",
              "\n",
              "    .colab-df-convert {\n",
              "      background-color: #E8F0FE;\n",
              "      border: none;\n",
              "      border-radius: 50%;\n",
              "      cursor: pointer;\n",
              "      display: none;\n",
              "      fill: #1967D2;\n",
              "      height: 32px;\n",
              "      padding: 0 0 0 0;\n",
              "      width: 32px;\n",
              "    }\n",
              "\n",
              "    .colab-df-convert:hover {\n",
              "      background-color: #E2EBFA;\n",
              "      box-shadow: 0px 1px 2px rgba(60, 64, 67, 0.3), 0px 1px 3px 1px rgba(60, 64, 67, 0.15);\n",
              "      fill: #174EA6;\n",
              "    }\n",
              "\n",
              "    .colab-df-buttons div {\n",
              "      margin-bottom: 4px;\n",
              "    }\n",
              "\n",
              "    [theme=dark] .colab-df-convert {\n",
              "      background-color: #3B4455;\n",
              "      fill: #D2E3FC;\n",
              "    }\n",
              "\n",
              "    [theme=dark] .colab-df-convert:hover {\n",
              "      background-color: #434B5C;\n",
              "      box-shadow: 0px 1px 3px 1px rgba(0, 0, 0, 0.15);\n",
              "      filter: drop-shadow(0px 1px 2px rgba(0, 0, 0, 0.3));\n",
              "      fill: #FFFFFF;\n",
              "    }\n",
              "  </style>\n",
              "\n",
              "    <script>\n",
              "      const buttonEl =\n",
              "        document.querySelector('#df-a3d8c380-15bc-46d3-9f22-52d66282216b button.colab-df-convert');\n",
              "      buttonEl.style.display =\n",
              "        google.colab.kernel.accessAllowed ? 'block' : 'none';\n",
              "\n",
              "      async function convertToInteractive(key) {\n",
              "        const element = document.querySelector('#df-a3d8c380-15bc-46d3-9f22-52d66282216b');\n",
              "        const dataTable =\n",
              "          await google.colab.kernel.invokeFunction('convertToInteractive',\n",
              "                                                    [key], {});\n",
              "        if (!dataTable) return;\n",
              "\n",
              "        const docLinkHtml = 'Like what you see? Visit the ' +\n",
              "          '<a target=\"_blank\" href=https://colab.research.google.com/notebooks/data_table.ipynb>data table notebook</a>'\n",
              "          + ' to learn more about interactive tables.';\n",
              "        element.innerHTML = '';\n",
              "        dataTable['output_type'] = 'display_data';\n",
              "        await google.colab.output.renderOutput(dataTable, element);\n",
              "        const docLink = document.createElement('div');\n",
              "        docLink.innerHTML = docLinkHtml;\n",
              "        element.appendChild(docLink);\n",
              "      }\n",
              "    </script>\n",
              "  </div>\n",
              "\n",
              "\n",
              "<div id=\"df-a276e716-35a3-4e0a-b99a-f58b1ac2f342\">\n",
              "  <button class=\"colab-df-quickchart\" onclick=\"quickchart('df-a276e716-35a3-4e0a-b99a-f58b1ac2f342')\"\n",
              "            title=\"Suggest charts\"\n",
              "            style=\"display:none;\">\n",
              "\n",
              "<svg xmlns=\"http://www.w3.org/2000/svg\" height=\"24px\"viewBox=\"0 0 24 24\"\n",
              "     width=\"24px\">\n",
              "    <g>\n",
              "        <path d=\"M19 3H5c-1.1 0-2 .9-2 2v14c0 1.1.9 2 2 2h14c1.1 0 2-.9 2-2V5c0-1.1-.9-2-2-2zM9 17H7v-7h2v7zm4 0h-2V7h2v10zm4 0h-2v-4h2v4z\"/>\n",
              "    </g>\n",
              "</svg>\n",
              "  </button>\n",
              "\n",
              "<style>\n",
              "  .colab-df-quickchart {\n",
              "      --bg-color: #E8F0FE;\n",
              "      --fill-color: #1967D2;\n",
              "      --hover-bg-color: #E2EBFA;\n",
              "      --hover-fill-color: #174EA6;\n",
              "      --disabled-fill-color: #AAA;\n",
              "      --disabled-bg-color: #DDD;\n",
              "  }\n",
              "\n",
              "  [theme=dark] .colab-df-quickchart {\n",
              "      --bg-color: #3B4455;\n",
              "      --fill-color: #D2E3FC;\n",
              "      --hover-bg-color: #434B5C;\n",
              "      --hover-fill-color: #FFFFFF;\n",
              "      --disabled-bg-color: #3B4455;\n",
              "      --disabled-fill-color: #666;\n",
              "  }\n",
              "\n",
              "  .colab-df-quickchart {\n",
              "    background-color: var(--bg-color);\n",
              "    border: none;\n",
              "    border-radius: 50%;\n",
              "    cursor: pointer;\n",
              "    display: none;\n",
              "    fill: var(--fill-color);\n",
              "    height: 32px;\n",
              "    padding: 0;\n",
              "    width: 32px;\n",
              "  }\n",
              "\n",
              "  .colab-df-quickchart:hover {\n",
              "    background-color: var(--hover-bg-color);\n",
              "    box-shadow: 0 1px 2px rgba(60, 64, 67, 0.3), 0 1px 3px 1px rgba(60, 64, 67, 0.15);\n",
              "    fill: var(--button-hover-fill-color);\n",
              "  }\n",
              "\n",
              "  .colab-df-quickchart-complete:disabled,\n",
              "  .colab-df-quickchart-complete:disabled:hover {\n",
              "    background-color: var(--disabled-bg-color);\n",
              "    fill: var(--disabled-fill-color);\n",
              "    box-shadow: none;\n",
              "  }\n",
              "\n",
              "  .colab-df-spinner {\n",
              "    border: 2px solid var(--fill-color);\n",
              "    border-color: transparent;\n",
              "    border-bottom-color: var(--fill-color);\n",
              "    animation:\n",
              "      spin 1s steps(1) infinite;\n",
              "  }\n",
              "\n",
              "  @keyframes spin {\n",
              "    0% {\n",
              "      border-color: transparent;\n",
              "      border-bottom-color: var(--fill-color);\n",
              "      border-left-color: var(--fill-color);\n",
              "    }\n",
              "    20% {\n",
              "      border-color: transparent;\n",
              "      border-left-color: var(--fill-color);\n",
              "      border-top-color: var(--fill-color);\n",
              "    }\n",
              "    30% {\n",
              "      border-color: transparent;\n",
              "      border-left-color: var(--fill-color);\n",
              "      border-top-color: var(--fill-color);\n",
              "      border-right-color: var(--fill-color);\n",
              "    }\n",
              "    40% {\n",
              "      border-color: transparent;\n",
              "      border-right-color: var(--fill-color);\n",
              "      border-top-color: var(--fill-color);\n",
              "    }\n",
              "    60% {\n",
              "      border-color: transparent;\n",
              "      border-right-color: var(--fill-color);\n",
              "    }\n",
              "    80% {\n",
              "      border-color: transparent;\n",
              "      border-right-color: var(--fill-color);\n",
              "      border-bottom-color: var(--fill-color);\n",
              "    }\n",
              "    90% {\n",
              "      border-color: transparent;\n",
              "      border-bottom-color: var(--fill-color);\n",
              "    }\n",
              "  }\n",
              "</style>\n",
              "\n",
              "  <script>\n",
              "    async function quickchart(key) {\n",
              "      const quickchartButtonEl =\n",
              "        document.querySelector('#' + key + ' button');\n",
              "      quickchartButtonEl.disabled = true;  // To prevent multiple clicks.\n",
              "      quickchartButtonEl.classList.add('colab-df-spinner');\n",
              "      try {\n",
              "        const charts = await google.colab.kernel.invokeFunction(\n",
              "            'suggestCharts', [key], {});\n",
              "      } catch (error) {\n",
              "        console.error('Error during call to suggestCharts:', error);\n",
              "      }\n",
              "      quickchartButtonEl.classList.remove('colab-df-spinner');\n",
              "      quickchartButtonEl.classList.add('colab-df-quickchart-complete');\n",
              "    }\n",
              "    (() => {\n",
              "      let quickchartButtonEl =\n",
              "        document.querySelector('#df-a276e716-35a3-4e0a-b99a-f58b1ac2f342 button');\n",
              "      quickchartButtonEl.style.display =\n",
              "        google.colab.kernel.accessAllowed ? 'block' : 'none';\n",
              "    })();\n",
              "  </script>\n",
              "</div>\n",
              "\n",
              "    </div>\n",
              "  </div>\n"
            ]
          },
          "metadata": {},
          "execution_count": 6
        }
      ]
    },
    {
      "cell_type": "code",
      "source": [
        "btc_historical.describe"
      ],
      "metadata": {
        "colab": {
          "base_uri": "https://localhost:8080/"
        },
        "id": "wKlLIJONIYNP",
        "outputId": "94945b0a-9828-4eac-8d8f-752a6c873bf7"
      },
      "execution_count": 7,
      "outputs": [
        {
          "output_type": "execute_result",
          "data": {
            "text/plain": [
              "<bound method NDFrame.describe of                           low      high      open     close       volume\n",
              "time                                                                    \n",
              "2018-01-01 01:00:00  13332.11  13673.99  13588.00  13345.70   824.683393\n",
              "2018-01-01 02:00:00  13320.01  13488.99  13345.71  13438.00   520.569524\n",
              "2018-01-01 03:00:00  13400.57  13703.90  13438.00  13474.00   630.815491\n",
              "2018-01-01 04:00:00  13361.01  13649.00  13474.00  13620.00   475.273042\n",
              "2018-01-01 05:00:00  13462.71  13620.00  13620.00  13508.01   443.021985\n",
              "...                       ...       ...       ...       ...          ...\n",
              "2024-01-30 20:00:00  43491.95  43786.70  43545.29  43552.07  3872.055212\n",
              "2024-01-30 21:00:00  43483.53  43700.66  43561.06  43543.90   479.997941\n",
              "2024-01-30 22:00:00  43317.10  43586.10  43543.89  43329.94   297.475559\n",
              "2024-01-30 23:00:00  42680.20  43362.06  43327.67  42942.78   858.413340\n",
              "2024-01-31 00:00:00  42850.36  43116.79  42937.72  42931.91   510.008220\n",
              "\n",
              "[53272 rows x 5 columns]>"
            ]
          },
          "metadata": {},
          "execution_count": 7
        }
      ]
    },
    {
      "cell_type": "code",
      "source": [
        "btc_historical.dtypes"
      ],
      "metadata": {
        "colab": {
          "base_uri": "https://localhost:8080/"
        },
        "id": "p7qV3MIzIgj5",
        "outputId": "b56aa88a-9f48-4fb2-d32b-b8ddd889ea15"
      },
      "execution_count": 8,
      "outputs": [
        {
          "output_type": "execute_result",
          "data": {
            "text/plain": [
              "low       float64\n",
              "high      float64\n",
              "open      float64\n",
              "close     float64\n",
              "volume    float64\n",
              "dtype: object"
            ]
          },
          "metadata": {},
          "execution_count": 8
        }
      ]
    },
    {
      "cell_type": "code",
      "source": [
        "btc_historical = btc_historical.reset_index()"
      ],
      "metadata": {
        "id": "MOUVJSwWJIuh"
      },
      "execution_count": 9,
      "outputs": []
    },
    {
      "cell_type": "code",
      "source": [
        "btc_historical.dtypes"
      ],
      "metadata": {
        "colab": {
          "base_uri": "https://localhost:8080/"
        },
        "id": "pDOFTyUJJPdy",
        "outputId": "f5592ae4-ac8a-466c-b1a4-2701fdffcc03"
      },
      "execution_count": 10,
      "outputs": [
        {
          "output_type": "execute_result",
          "data": {
            "text/plain": [
              "time      datetime64[ns]\n",
              "low              float64\n",
              "high             float64\n",
              "open             float64\n",
              "close            float64\n",
              "volume           float64\n",
              "dtype: object"
            ]
          },
          "metadata": {},
          "execution_count": 10
        }
      ]
    },
    {
      "cell_type": "code",
      "source": [
        "import warnings\n",
        "warnings.filterwarnings('ignore')\n",
        "import os\n",
        "import pandas as pd\n",
        "import numpy as np\n",
        "import math\n",
        "import datetime as dt\n",
        "import matplotlib.pyplot as plt\n",
        "\n",
        "from sklearn.model_selection import train_test_split\n",
        "from sklearn.metrics import mean_squared_error, mean_absolute_error, explained_variance_score, r2_score\n",
        "from sklearn.metrics import mean_poisson_deviance, mean_gamma_deviance, accuracy_score\n",
        "from sklearn.preprocessing import MinMaxScaler\n",
        "\n",
        "from itertools import product\n",
        "import statsmodels.api as sm\n",
        "\n",
        "import tensorflow as tf\n",
        "from tensorflow import keras\n",
        "\n",
        "from keras.models import Sequential\n",
        "from keras.layers import Dense, Dropout\n",
        "from keras.layers import LSTM\n",
        "\n",
        "from itertools import cycle\n",
        "import plotly.offline as py\n",
        "import plotly.graph_objects as go\n",
        "import plotly.express as px\n",
        "from plotly.subplots import make_subplots\n",
        "\n",
        "plt.style.use('seaborn-darkgrid')"
      ],
      "metadata": {
        "id": "fXX0BsU5NSam"
      },
      "execution_count": 11,
      "outputs": []
    },
    {
      "cell_type": "code",
      "source": [
        "btc_historical.set_index(\"time\").close.plot(figsize=(24,7), title=\"Bitcoin Weighted Price\")"
      ],
      "metadata": {
        "colab": {
          "base_uri": "https://localhost:8080/",
          "height": 430
        },
        "id": "mHkwkECjN-7C",
        "outputId": "d952ccba-fd67-4c63-d455-637077ce6b76"
      },
      "execution_count": 12,
      "outputs": [
        {
          "output_type": "execute_result",
          "data": {
            "text/plain": [
              "<Axes: title={'center': 'Bitcoin Weighted Price'}, xlabel='time'>"
            ]
          },
          "metadata": {},
          "execution_count": 12
        },
        {
          "output_type": "display_data",
          "data": {
            "text/plain": [
              "<Figure size 2400x700 with 1 Axes>"
            ],
            "image/png": "[encoded data removed]"
          },
          "metadata": {}
        }
      ]
    },
    {
      "cell_type": "markdown",
      "source": [
        "#**Lag Plot**\n",
        "Lag plot are used to observe the autocorrelation. These are crucial when we try to correct the trend stationarity and we have to use smoothing functions. Lag plot helps us to understand the data better."
      ],
      "metadata": {
        "id": "_Hz290EHQmPn"
      }
    },
    {
      "cell_type": "code",
      "source": [
        "plt.figure(figsize=(15,12))\n",
        "plt.suptitle('Lag Plots', fontsize=22)\n",
        "\n",
        "plt.subplot(2,2,1)\n",
        "pd.plotting.lag_plot(btc_historical['close'], lag=1) #hourley lag\n",
        "plt.title('1-Hour Lag')\n",
        "\n",
        "plt.subplot(2,2,2)\n",
        "pd.plotting.lag_plot(btc_historical['close'], lag=24) #Daily lag\n",
        "plt.title('Daily Lag')\n",
        "\n",
        "plt.subplot(2,2,3)\n",
        "pd.plotting.lag_plot(btc_historical['close'], lag=24*7) #weekly lag\n",
        "plt.title('Weekly Lag')\n",
        "\n",
        "plt.subplot(2,2,4)\n",
        "pd.plotting.lag_plot(btc_historical['close'], lag=24*30) #month lag\n",
        "plt.title('1-Month Lag')\n",
        "\n",
        "plt.legend()\n",
        "plt.show()"
      ],
      "metadata": {
        "colab": {
          "base_uri": "https://localhost:8080/",
          "height": 1000
        },
        "id": "pYlHy5GJPkJ5",
        "outputId": "09e47201-d71b-417b-e128-2e9e66f5c6e8"
      },
      "execution_count": 13,
      "outputs": [
        {
          "output_type": "stream",
          "name": "stderr",
          "text": [
            "WARNING:matplotlib.legend:No artists with labels found to put in legend.  Note that artists whose label start with an underscore are ignored when legend() is called with no argument.\n"
          ]
        },
        {
          "output_type": "display_data",
          "data": {
            "text/plain": [
              "<Figure size 1500x1200 with 4 Axes>"
            ],
            "image/png": "[encoded data removed]"
          },
          "metadata": {}
        }
      ]
    },
    {
      "cell_type": "code",
      "source": [
        "btc_historical['day_of_week'] = btc_historical['time'].dt.dayofweek\n",
        "btc_historical['month'] = btc_historical['time'].dt.month\n",
        "btc_historical['hour_of_day'] = btc_historical['time'].dt.hour\n",
        "btc_historical['year'] = btc_historical['time'].dt.year\n"
      ],
      "metadata": {
        "id": "v6PjHa58RadI"
      },
      "execution_count": 14,
      "outputs": []
    },
    {
      "cell_type": "markdown",
      "source": [
        "##**Feature Engineering**\n",
        "\n"
      ],
      "metadata": {
        "id": "34numwBGrnRB"
      }
    },
    {
      "cell_type": "code",
      "source": [
        "# Lag features\n",
        "btc_historical['close_lag_1'] = btc_historical['close'].shift(1)\n",
        "btc_historical['close_lag_2'] = btc_historical['close'].shift(2)\n",
        "\n",
        "# Simple Moving Average (SMA), Exponential Moving Average (EMA)\n",
        "btc_historical['sma_5'] = btc_historical['close'].rolling(window=5).mean()\n",
        "btc_historical['ema_5'] = btc_historical['close'].ewm(span=5, adjust=False).mean()\n",
        "\n",
        "btc_historical['roc_1'] = btc_historical['close'].pct_change(24) * 100 # Rate of change (ROC) in 24 hrs\n",
        "\n",
        "# Moving Average Convergence Divergence (MACD)\n",
        "short_window = 12\n",
        "long_window = 26\n",
        "\n",
        "short_ema = btc_historical['close'].ewm(span=short_window, adjust=False).mean()\n",
        "long_ema = btc_historical['close'].ewm(span=long_window, adjust=False).mean()\n",
        "\n",
        "btc_historical['macd'] = short_ema - long_ema     # MACD\n",
        "\n",
        "# Relative Strength Index (RSI)\n",
        "window = 14\n",
        "delta = btc_historical['close'].diff()\n",
        "gain = delta.where(delta > 0, 0)\n",
        "loss = -delta.where(delta < 0, 0)\n",
        "\n",
        "avg_gain = gain.rolling(window=window).mean()\n",
        "avg_loss = loss.rolling(window=window).mean()\n",
        "\n",
        "rs = avg_gain / avg_loss\n",
        "btc_historical['rsi'] = 100 - (100 / (1 + rs))    # RSI\n"
      ],
      "metadata": {
        "id": "EzkccDmcRHvq"
      },
      "execution_count": 15,
      "outputs": []
    },
    {
      "cell_type": "code",
      "source": [
        "btc_historical.head(29)"
      ],
      "metadata": {
        "colab": {
          "base_uri": "https://localhost:8080/",
          "height": 1000
        },
        "id": "VODQltY-2Km3",
        "outputId": "1faa3550-eb11-4f7a-9309-0ca9b8009b04"
      },
      "execution_count": 16,
      "outputs": [
        {
          "output_type": "execute_result",
          "data": {
            "text/plain": [
              "                  time       low      high      open     close       volume  \\\n",
              "0  2018-01-01 01:00:00  13332.11  13673.99  13588.00  13345.70   824.683393   \n",
              "1  2018-01-01 02:00:00  13320.01  13488.99  13345.71  13438.00   520.569524   \n",
              "2  2018-01-01 03:00:00  13400.57  13703.90  13438.00  13474.00   630.815491   \n",
              "3  2018-01-01 04:00:00  13361.01  13649.00  13474.00  13620.00   475.273042   \n",
              "4  2018-01-01 05:00:00  13462.71  13620.00  13620.00  13508.01   443.021985   \n",
              "5  2018-01-01 06:00:00  13400.00  13800.00  13508.01  13797.99   504.204032   \n",
              "6  2018-01-01 07:00:00  13580.01  13889.00  13798.00  13601.27   444.906147   \n",
              "7  2018-01-01 08:00:00  13432.00  13700.00  13601.29  13474.97   412.920033   \n",
              "8  2018-01-01 09:00:00  13459.98  13650.00  13474.97  13596.95   138.057182   \n",
              "9  2018-01-01 10:00:00  13479.04  13600.01  13596.95  13576.48   117.801647   \n",
              "10 2018-01-01 11:00:00  13188.00  13576.48  13576.47  13279.99   445.090125   \n",
              "11 2018-01-01 12:00:00  13190.00  13339.99  13280.00  13234.45   259.130973   \n",
              "12 2018-01-01 13:00:00  13054.43  13262.39  13234.45  13115.95   537.391515   \n",
              "13 2018-01-01 14:00:00  12952.50  13277.73  13115.95  13271.98   804.673048   \n",
              "14 2018-01-01 15:00:00  13178.85  13399.00  13271.99  13255.29   531.692195   \n",
              "15 2018-01-01 16:00:00  13035.00  13272.38  13250.37  13093.10   527.287384   \n",
              "16 2018-01-01 17:00:00  13093.09  13248.60  13093.10  13138.11   380.269338   \n",
              "17 2018-01-01 18:00:00  13114.47  13321.23  13138.12  13189.98   552.892055   \n",
              "18 2018-01-01 19:00:00  13156.91  13350.00  13189.98  13345.47   453.701579   \n",
              "19 2018-01-01 20:00:00  13345.46  13544.24  13345.47  13469.01   575.894732   \n",
              "20 2018-01-01 21:00:00  13432.00  13772.59  13469.01  13565.00   827.499202   \n",
              "21 2018-01-01 22:00:00  13475.33  13688.00  13565.01  13538.11   453.651716   \n",
              "22 2018-01-01 23:00:00  13454.00  13538.11  13538.10  13480.01   458.243316   \n",
              "23 2018-01-02 00:00:00  13480.00  13999.00  13480.00  13830.32  1060.405716   \n",
              "24 2018-01-02 01:00:00  13631.00  13889.42  13839.32  13632.94  1207.724151   \n",
              "25 2018-01-02 02:00:00  13431.00  13713.27  13639.99  13550.01  1831.908835   \n",
              "26 2018-01-02 03:00:00  13310.66  13550.01  13550.00  13372.95   896.065948   \n",
              "27 2018-01-02 04:00:00  13005.00  13400.00  13372.96  13164.83  1315.371587   \n",
              "28 2018-01-02 05:00:00  13150.00  13250.00  13164.84  13194.02   469.466414   \n",
              "\n",
              "    day_of_week  month  hour_of_day  year  close_lag_1  close_lag_2  \\\n",
              "0             0      1            1  2018          NaN          NaN   \n",
              "1             0      1            2  2018     13345.70          NaN   \n",
              "2             0      1            3  2018     13438.00     13345.70   \n",
              "3             0      1            4  2018     13474.00     13438.00   \n",
              "4             0      1            5  2018     13620.00     13474.00   \n",
              "5             0      1            6  2018     13508.01     13620.00   \n",
              "6             0      1            7  2018     13797.99     13508.01   \n",
              "7             0      1            8  2018     13601.27     13797.99   \n",
              "8             0      1            9  2018     13474.97     13601.27   \n",
              "9             0      1           10  2018     13596.95     13474.97   \n",
              "10            0      1           11  2018     13576.48     13596.95   \n",
              "11            0      1           12  2018     13279.99     13576.48   \n",
              "12            0      1           13  2018     13234.45     13279.99   \n",
              "13            0      1           14  2018     13115.95     13234.45   \n",
              "14            0      1           15  2018     13271.98     13115.95   \n",
              "15            0      1           16  2018     13255.29     13271.98   \n",
              "16            0      1           17  2018     13093.10     13255.29   \n",
              "17            0      1           18  2018     13138.11     13093.10   \n",
              "18            0      1           19  2018     13189.98     13138.11   \n",
              "19            0      1           20  2018     13345.47     13189.98   \n",
              "20            0      1           21  2018     13469.01     13345.47   \n",
              "21            0      1           22  2018     13565.00     13469.01   \n",
              "22            0      1           23  2018     13538.11     13565.00   \n",
              "23            1      1            0  2018     13480.01     13538.11   \n",
              "24            1      1            1  2018     13830.32     13480.01   \n",
              "25            1      1            2  2018     13632.94     13830.32   \n",
              "26            1      1            3  2018     13550.01     13632.94   \n",
              "27            1      1            4  2018     13372.95     13550.01   \n",
              "28            1      1            5  2018     13164.83     13372.95   \n",
              "\n",
              "        sma_5         ema_5     roc_1       macd        rsi  \n",
              "0         NaN  13345.700000       NaN   0.000000        NaN  \n",
              "1         NaN  13376.466667       NaN   7.362963        NaN  \n",
              "2         NaN  13408.977778       NaN  15.919553        NaN  \n",
              "3         NaN  13479.318519       NaN  34.088738        NaN  \n",
              "4   13477.142  13488.882346       NaN  39.001703        NaN  \n",
              "5   13567.600  13591.918230       NaN  65.538737        NaN  \n",
              "6   13600.254  13595.035487       NaN  69.890216        NaN  \n",
              "7   13600.448  13555.013658       NaN  62.427811        NaN  \n",
              "8   13595.838  13568.992439       NaN  65.600368        NaN  \n",
              "9   13609.532  13571.488292       NaN  65.705473        NaN  \n",
              "10  13505.932  13474.322195       NaN  41.387415        NaN  \n",
              "11  13432.568  13394.364797       NaN  18.230334        NaN  \n",
              "12  13360.764  13301.559864       NaN  -9.573423        NaN  \n",
              "13  13295.770  13291.699910       NaN -18.801056  47.903657  \n",
              "14  13231.532  13279.563273       NaN -27.147823  47.453225  \n",
              "15  13194.154  13217.408849       NaN -46.316169  40.652509  \n",
              "16  13174.886  13190.975899       NaN -57.215743  40.940940  \n",
              "17  13189.692  13190.643933       NaN -60.965486  37.781857  \n",
              "18  13204.390  13242.252622       NaN -50.804795  45.493162  \n",
              "19  13247.134  13317.838415       NaN -32.410125  39.950636  \n",
              "20  13341.514  13400.225610       NaN  -9.971679  48.819405  \n",
              "21  13421.514  13446.187073       NaN   5.576867  52.197427  \n",
              "22  13479.520  13457.461382       NaN  13.060464  45.740822  \n",
              "23  13576.490  13581.747588       NaN  46.719801  57.454306  \n",
              "24  13609.276  13598.811725  2.152304  56.813244  61.005407  \n",
              "25  13606.278  13582.544484  0.833532  57.458270  59.615338  \n",
              "26  13573.246  13512.679656 -0.749963  43.184392  57.561136  \n",
              "27  13510.210  13396.729770 -3.341924  14.906859  46.941316  \n",
              "28  13382.950  13329.159847 -2.324473  -5.089235  48.263391  "
            ],
            "text/html": [
              "\n",
              "  <div id=\"df-e205278d-cb6f-427a-8db8-3cb00e7b9f65\" class=\"colab-df-container\">\n",
              "    <div>\n",
              "<style scoped>\n",
              "    .dataframe tbody tr th:only-of-type {\n",
              "        vertical-align: middle;\n",
              "    }\n",
              "\n",
              "    .dataframe tbody tr th {\n",
              "        vertical-align: top;\n",
              "    }\n",
              "\n",
              "    .dataframe thead th {\n",
              "        text-align: right;\n",
              "    }\n",
              "</style>\n",
              "<table border=\"1\" class=\"dataframe\">\n",
              "  <thead>\n",
              "    <tr style=\"text-align: right;\">\n",
              "      <th></th>\n",
              "      <th>time</th>\n",
              "      <th>low</th>\n",
              "      <th>high</th>\n",
              "      <th>open</th>\n",
              "      <th>close</th>\n",
              "      <th>volume</th>\n",
              "      <th>day_of_week</th>\n",
              "      <th>month</th>\n",
              "      <th>hour_of_day</th>\n",
              "      <th>year</th>\n",
              "      <th>close_lag_1</th>\n",
              "      <th>close_lag_2</th>\n",
              "      <th>sma_5</th>\n",
              "      <th>ema_5</th>\n",
              "      <th>roc_1</th>\n",
              "      <th>macd</th>\n",
              "      <th>rsi</th>\n",
              "    </tr>\n",
              "  </thead>\n",
              "  <tbody>\n",
              "    <tr>\n",
              "      <th>0</th>\n",
              "      <td>2018-01-01 01:00:00</td>\n",
              "      <td>13332.11</td>\n",
              "      <td>13673.99</td>\n",
              "      <td>13588.00</td>\n",
              "      <td>13345.70</td>\n",
              "      <td>824.683393</td>\n",
              "      <td>0</td>\n",
              "      <td>1</td>\n",
              "      <td>1</td>\n",
              "      <td>2018</td>\n",
              "      <td>NaN</td>\n",
              "      <td>NaN</td>\n",
              "      <td>NaN</td>\n",
              "      <td>13345.700000</td>\n",
              "      <td>NaN</td>\n",
              "      <td>0.000000</td>\n",
              "      <td>NaN</td>\n",
              "    </tr>\n",
              "    <tr>\n",
              "      <th>1</th>\n",
              "      <td>2018-01-01 02:00:00</td>\n",
              "      <td>13320.01</td>\n",
              "      <td>13488.99</td>\n",
              "      <td>13345.71</td>\n",
              "      <td>13438.00</td>\n",
              "      <td>520.569524</td>\n",
              "      <td>0</td>\n",
              "      <td>1</td>\n",
              "      <td>2</td>\n",
              "      <td>2018</td>\n",
              "      <td>13345.70</td>\n",
              "      <td>NaN</td>\n",
              "      <td>NaN</td>\n",
              "      <td>13376.466667</td>\n",
              "      <td>NaN</td>\n",
              "      <td>7.362963</td>\n",
              "      <td>NaN</td>\n",
              "    </tr>\n",
              "    <tr>\n",
              "      <th>2</th>\n",
              "      <td>2018-01-01 03:00:00</td>\n",
              "      <td>13400.57</td>\n",
              "      <td>13703.90</td>\n",
              "      <td>13438.00</td>\n",
              "      <td>13474.00</td>\n",
              "      <td>630.815491</td>\n",
              "      <td>0</td>\n",
              "      <td>1</td>\n",
              "      <td>3</td>\n",
              "      <td>2018</td>\n",
              "      <td>13438.00</td>\n",
              "      <td>13345.70</td>\n",
              "      <td>NaN</td>\n",
              "      <td>13408.977778</td>\n",
              "      <td>NaN</td>\n",
              "      <td>15.919553</td>\n",
              "      <td>NaN</td>\n",
              "    </tr>\n",
              "    <tr>\n",
              "      <th>3</th>\n",
              "      <td>2018-01-01 04:00:00</td>\n",
              "      <td>13361.01</td>\n",
              "      <td>13649.00</td>\n",
              "      <td>13474.00</td>\n",
              "      <td>13620.00</td>\n",
              "      <td>475.273042</td>\n",
              "      <td>0</td>\n",
              "      <td>1</td>\n",
              "      <td>4</td>\n",
              "      <td>2018</td>\n",
              "      <td>13474.00</td>\n",
              "      <td>13438.00</td>\n",
              "      <td>NaN</td>\n",
              "      <td>13479.318519</td>\n",
              "      <td>NaN</td>\n",
              "      <td>34.088738</td>\n",
              "      <td>NaN</td>\n",
              "    </tr>\n",
              "    <tr>\n",
              "      <th>4</th>\n",
              "      <td>2018-01-01 05:00:00</td>\n",
              "      <td>13462.71</td>\n",
              "      <td>13620.00</td>\n",
              "      <td>13620.00</td>\n",
              "      <td>13508.01</td>\n",
              "      <td>443.021985</td>\n",
              "      <td>0</td>\n",
              "      <td>1</td>\n",
              "      <td>5</td>\n",
              "      <td>2018</td>\n",
              "      <td>13620.00</td>\n",
              "      <td>13474.00</td>\n",
              "      <td>13477.142</td>\n",
              "      <td>13488.882346</td>\n",
              "      <td>NaN</td>\n",
              "      <td>39.001703</td>\n",
              "      <td>NaN</td>\n",
              "    </tr>\n",
              "    <tr>\n",
              "      <th>5</th>\n",
              "      <td>2018-01-01 06:00:00</td>\n",
              "      <td>13400.00</td>\n",
              "      <td>13800.00</td>\n",
              "      <td>13508.01</td>\n",
              "      <td>13797.99</td>\n",
              "      <td>504.204032</td>\n",
              "      <td>0</td>\n",
              "      <td>1</td>\n",
              "      <td>6</td>\n",
              "      <td>2018</td>\n",
              "      <td>13508.01</td>\n",
              "      <td>13620.00</td>\n",
              "      <td>13567.600</td>\n",
              "      <td>13591.918230</td>\n",
              "      <td>NaN</td>\n",
              "      <td>65.538737</td>\n",
              "      <td>NaN</td>\n",
              "    </tr>\n",
              "    <tr>\n",
              "      <th>6</th>\n",
              "      <td>2018-01-01 07:00:00</td>\n",
              "      <td>13580.01</td>\n",
              "      <td>13889.00</td>\n",
              "      <td>13798.00</td>\n",
              "      <td>13601.27</td>\n",
              "      <td>444.906147</td>\n",
              "      <td>0</td>\n",
              "      <td>1</td>\n",
              "      <td>7</td>\n",
              "      <td>2018</td>\n",
              "      <td>13797.99</td>\n",
              "      <td>13508.01</td>\n",
              "      <td>13600.254</td>\n",
              "      <td>13595.035487</td>\n",
              "      <td>NaN</td>\n",
              "      <td>69.890216</td>\n",
              "      <td>NaN</td>\n",
              "    </tr>\n",
              "    <tr>\n",
              "      <th>7</th>\n",
              "      <td>2018-01-01 08:00:00</td>\n",
              "      <td>13432.00</td>\n",
              "      <td>13700.00</td>\n",
              "      <td>13601.29</td>\n",
              "      <td>13474.97</td>\n",
              "      <td>412.920033</td>\n",
              "      <td>0</td>\n",
              "      <td>1</td>\n",
              "      <td>8</td>\n",
              "      <td>2018</td>\n",
              "      <td>13601.27</td>\n",
              "      <td>13797.99</td>\n",
              "      <td>13600.448</td>\n",
              "      <td>13555.013658</td>\n",
              "      <td>NaN</td>\n",
              "      <td>62.427811</td>\n",
              "      <td>NaN</td>\n",
              "    </tr>\n",
              "    <tr>\n",
              "      <th>8</th>\n",
              "      <td>2018-01-01 09:00:00</td>\n",
              "      <td>13459.98</td>\n",
              "      <td>13650.00</td>\n",
              "      <td>13474.97</td>\n",
              "      <td>13596.95</td>\n",
              "      <td>138.057182</td>\n",
              "      <td>0</td>\n",
              "      <td>1</td>\n",
              "      <td>9</td>\n",
              "      <td>2018</td>\n",
              "      <td>13474.97</td>\n",
              "      <td>13601.27</td>\n",
              "      <td>13595.838</td>\n",
              "      <td>13568.992439</td>\n",
              "      <td>NaN</td>\n",
              "      <td>65.600368</td>\n",
              "      <td>NaN</td>\n",
              "    </tr>\n",
              "    <tr>\n",
              "      <th>9</th>\n",
              "      <td>2018-01-01 10:00:00</td>\n",
              "      <td>13479.04</td>\n",
              "      <td>13600.01</td>\n",
              "      <td>13596.95</td>\n",
              "      <td>13576.48</td>\n",
              "      <td>117.801647</td>\n",
              "      <td>0</td>\n",
              "      <td>1</td>\n",
              "      <td>10</td>\n",
              "      <td>2018</td>\n",
              "      <td>13596.95</td>\n",
              "      <td>13474.97</td>\n",
              "      <td>13609.532</td>\n",
              "      <td>13571.488292</td>\n",
              "      <td>NaN</td>\n",
              "      <td>65.705473</td>\n",
              "      <td>NaN</td>\n",
              "    </tr>\n",
              "    <tr>\n",
              "      <th>10</th>\n",
              "      <td>2018-01-01 11:00:00</td>\n",
              "      <td>13188.00</td>\n",
              "      <td>13576.48</td>\n",
              "      <td>13576.47</td>\n",
              "      <td>13279.99</td>\n",
              "      <td>445.090125</td>\n",
              "      <td>0</td>\n",
              "      <td>1</td>\n",
              "      <td>11</td>\n",
              "      <td>2018</td>\n",
              "      <td>13576.48</td>\n",
              "      <td>13596.95</td>\n",
              "      <td>13505.932</td>\n",
              "      <td>13474.322195</td>\n",
              "      <td>NaN</td>\n",
              "      <td>41.387415</td>\n",
              "      <td>NaN</td>\n",
              "    </tr>\n",
              "    <tr>\n",
              "      <th>11</th>\n",
              "      <td>2018-01-01 12:00:00</td>\n",
              "      <td>13190.00</td>\n",
              "      <td>13339.99</td>\n",
              "      <td>13280.00</td>\n",
              "      <td>13234.45</td>\n",
              "      <td>259.130973</td>\n",
              "      <td>0</td>\n",
              "      <td>1</td>\n",
              "      <td>12</td>\n",
              "      <td>2018</td>\n",
              "      <td>13279.99</td>\n",
              "      <td>13576.48</td>\n",
              "      <td>13432.568</td>\n",
              "      <td>13394.364797</td>\n",
              "      <td>NaN</td>\n",
              "      <td>18.230334</td>\n",
              "      <td>NaN</td>\n",
              "    </tr>\n",
              "    <tr>\n",
              "      <th>12</th>\n",
              "      <td>2018-01-01 13:00:00</td>\n",
              "      <td>13054.43</td>\n",
              "      <td>13262.39</td>\n",
              "      <td>13234.45</td>\n",
              "      <td>13115.95</td>\n",
              "      <td>537.391515</td>\n",
              "      <td>0</td>\n",
              "      <td>1</td>\n",
              "      <td>13</td>\n",
              "      <td>2018</td>\n",
              "      <td>13234.45</td>\n",
              "      <td>13279.99</td>\n",
              "      <td>13360.764</td>\n",
              "      <td>13301.559864</td>\n",
              "      <td>NaN</td>\n",
              "      <td>-9.573423</td>\n",
              "      <td>NaN</td>\n",
              "    </tr>\n",
              "    <tr>\n",
              "      <th>13</th>\n",
              "      <td>2018-01-01 14:00:00</td>\n",
              "      <td>12952.50</td>\n",
              "      <td>13277.73</td>\n",
              "      <td>13115.95</td>\n",
              "      <td>13271.98</td>\n",
              "      <td>804.673048</td>\n",
              "      <td>0</td>\n",
              "      <td>1</td>\n",
              "      <td>14</td>\n",
              "      <td>2018</td>\n",
              "      <td>13115.95</td>\n",
              "      <td>13234.45</td>\n",
              "      <td>13295.770</td>\n",
              "      <td>13291.699910</td>\n",
              "      <td>NaN</td>\n",
              "      <td>-18.801056</td>\n",
              "      <td>47.903657</td>\n",
              "    </tr>\n",
              "    <tr>\n",
              "      <th>14</th>\n",
              "      <td>2018-01-01 15:00:00</td>\n",
              "      <td>13178.85</td>\n",
              "      <td>13399.00</td>\n",
              "      <td>13271.99</td>\n",
              "      <td>13255.29</td>\n",
              "      <td>531.692195</td>\n",
              "      <td>0</td>\n",
              "      <td>1</td>\n",
              "      <td>15</td>\n",
              "      <td>2018</td>\n",
              "      <td>13271.98</td>\n",
              "      <td>13115.95</td>\n",
              "      <td>13231.532</td>\n",
              "      <td>13279.563273</td>\n",
              "      <td>NaN</td>\n",
              "      <td>-27.147823</td>\n",
              "      <td>47.453225</td>\n",
              "    </tr>\n",
              "    <tr>\n",
              "      <th>15</th>\n",
              "      <td>2018-01-01 16:00:00</td>\n",
              "      <td>13035.00</td>\n",
              "      <td>13272.38</td>\n",
              "      <td>13250.37</td>\n",
              "      <td>13093.10</td>\n",
              "      <td>527.287384</td>\n",
              "      <td>0</td>\n",
              "      <td>1</td>\n",
              "      <td>16</td>\n",
              "      <td>2018</td>\n",
              "      <td>13255.29</td>\n",
              "      <td>13271.98</td>\n",
              "      <td>13194.154</td>\n",
              "      <td>13217.408849</td>\n",
              "      <td>NaN</td>\n",
              "      <td>-46.316169</td>\n",
              "      <td>40.652509</td>\n",
              "    </tr>\n",
              "    <tr>\n",
              "      <th>16</th>\n",
              "      <td>2018-01-01 17:00:00</td>\n",
              "      <td>13093.09</td>\n",
              "      <td>13248.60</td>\n",
              "      <td>13093.10</td>\n",
              "      <td>13138.11</td>\n",
              "      <td>380.269338</td>\n",
              "      <td>0</td>\n",
              "      <td>1</td>\n",
              "      <td>17</td>\n",
              "      <td>2018</td>\n",
              "      <td>13093.10</td>\n",
              "      <td>13255.29</td>\n",
              "      <td>13174.886</td>\n",
              "      <td>13190.975899</td>\n",
              "      <td>NaN</td>\n",
              "      <td>-57.215743</td>\n",
              "      <td>40.940940</td>\n",
              "    </tr>\n",
              "    <tr>\n",
              "      <th>17</th>\n",
              "      <td>2018-01-01 18:00:00</td>\n",
              "      <td>13114.47</td>\n",
              "      <td>13321.23</td>\n",
              "      <td>13138.12</td>\n",
              "      <td>13189.98</td>\n",
              "      <td>552.892055</td>\n",
              "      <td>0</td>\n",
              "      <td>1</td>\n",
              "      <td>18</td>\n",
              "      <td>2018</td>\n",
              "      <td>13138.11</td>\n",
              "      <td>13093.10</td>\n",
              "      <td>13189.692</td>\n",
              "      <td>13190.643933</td>\n",
              "      <td>NaN</td>\n",
              "      <td>-60.965486</td>\n",
              "      <td>37.781857</td>\n",
              "    </tr>\n",
              "    <tr>\n",
              "      <th>18</th>\n",
              "      <td>2018-01-01 19:00:00</td>\n",
              "      <td>13156.91</td>\n",
              "      <td>13350.00</td>\n",
              "      <td>13189.98</td>\n",
              "      <td>13345.47</td>\n",
              "      <td>453.701579</td>\n",
              "      <td>0</td>\n",
              "      <td>1</td>\n",
              "      <td>19</td>\n",
              "      <td>2018</td>\n",
              "      <td>13189.98</td>\n",
              "      <td>13138.11</td>\n",
              "      <td>13204.390</td>\n",
              "      <td>13242.252622</td>\n",
              "      <td>NaN</td>\n",
              "      <td>-50.804795</td>\n",
              "      <td>45.493162</td>\n",
              "    </tr>\n",
              "    <tr>\n",
              "      <th>19</th>\n",
              "      <td>2018-01-01 20:00:00</td>\n",
              "      <td>13345.46</td>\n",
              "      <td>13544.24</td>\n",
              "      <td>13345.47</td>\n",
              "      <td>13469.01</td>\n",
              "      <td>575.894732</td>\n",
              "      <td>0</td>\n",
              "      <td>1</td>\n",
              "      <td>20</td>\n",
              "      <td>2018</td>\n",
              "      <td>13345.47</td>\n",
              "      <td>13189.98</td>\n",
              "      <td>13247.134</td>\n",
              "      <td>13317.838415</td>\n",
              "      <td>NaN</td>\n",
              "      <td>-32.410125</td>\n",
              "      <td>39.950636</td>\n",
              "    </tr>\n",
              "    <tr>\n",
              "      <th>20</th>\n",
              "      <td>2018-01-01 21:00:00</td>\n",
              "      <td>13432.00</td>\n",
              "      <td>13772.59</td>\n",
              "      <td>13469.01</td>\n",
              "      <td>13565.00</td>\n",
              "      <td>827.499202</td>\n",
              "      <td>0</td>\n",
              "      <td>1</td>\n",
              "      <td>21</td>\n",
              "      <td>2018</td>\n",
              "      <td>13469.01</td>\n",
              "      <td>13345.47</td>\n",
              "      <td>13341.514</td>\n",
              "      <td>13400.225610</td>\n",
              "      <td>NaN</td>\n",
              "      <td>-9.971679</td>\n",
              "      <td>48.819405</td>\n",
              "    </tr>\n",
              "    <tr>\n",
              "      <th>21</th>\n",
              "      <td>2018-01-01 22:00:00</td>\n",
              "      <td>13475.33</td>\n",
              "      <td>13688.00</td>\n",
              "      <td>13565.01</td>\n",
              "      <td>13538.11</td>\n",
              "      <td>453.651716</td>\n",
              "      <td>0</td>\n",
              "      <td>1</td>\n",
              "      <td>22</td>\n",
              "      <td>2018</td>\n",
              "      <td>13565.00</td>\n",
              "      <td>13469.01</td>\n",
              "      <td>13421.514</td>\n",
              "      <td>13446.187073</td>\n",
              "      <td>NaN</td>\n",
              "      <td>5.576867</td>\n",
              "      <td>52.197427</td>\n",
              "    </tr>\n",
              "    <tr>\n",
              "      <th>22</th>\n",
              "      <td>2018-01-01 23:00:00</td>\n",
              "      <td>13454.00</td>\n",
              "      <td>13538.11</td>\n",
              "      <td>13538.10</td>\n",
              "      <td>13480.01</td>\n",
              "      <td>458.243316</td>\n",
              "      <td>0</td>\n",
              "      <td>1</td>\n",
              "      <td>23</td>\n",
              "      <td>2018</td>\n",
              "      <td>13538.11</td>\n",
              "      <td>13565.00</td>\n",
              "      <td>13479.520</td>\n",
              "      <td>13457.461382</td>\n",
              "      <td>NaN</td>\n",
              "      <td>13.060464</td>\n",
              "      <td>45.740822</td>\n",
              "    </tr>\n",
              "    <tr>\n",
              "      <th>23</th>\n",
              "      <td>2018-01-02 00:00:00</td>\n",
              "      <td>13480.00</td>\n",
              "      <td>13999.00</td>\n",
              "      <td>13480.00</td>\n",
              "      <td>13830.32</td>\n",
              "      <td>1060.405716</td>\n",
              "      <td>1</td>\n",
              "      <td>1</td>\n",
              "      <td>0</td>\n",
              "      <td>2018</td>\n",
              "      <td>13480.01</td>\n",
              "      <td>13538.11</td>\n",
              "      <td>13576.490</td>\n",
              "      <td>13581.747588</td>\n",
              "      <td>NaN</td>\n",
              "      <td>46.719801</td>\n",
              "      <td>57.454306</td>\n",
              "    </tr>\n",
              "    <tr>\n",
              "      <th>24</th>\n",
              "      <td>2018-01-02 01:00:00</td>\n",
              "      <td>13631.00</td>\n",
              "      <td>13889.42</td>\n",
              "      <td>13839.32</td>\n",
              "      <td>13632.94</td>\n",
              "      <td>1207.724151</td>\n",
              "      <td>1</td>\n",
              "      <td>1</td>\n",
              "      <td>1</td>\n",
              "      <td>2018</td>\n",
              "      <td>13830.32</td>\n",
              "      <td>13480.01</td>\n",
              "      <td>13609.276</td>\n",
              "      <td>13598.811725</td>\n",
              "      <td>2.152304</td>\n",
              "      <td>56.813244</td>\n",
              "      <td>61.005407</td>\n",
              "    </tr>\n",
              "    <tr>\n",
              "      <th>25</th>\n",
              "      <td>2018-01-02 02:00:00</td>\n",
              "      <td>13431.00</td>\n",
              "      <td>13713.27</td>\n",
              "      <td>13639.99</td>\n",
              "      <td>13550.01</td>\n",
              "      <td>1831.908835</td>\n",
              "      <td>1</td>\n",
              "      <td>1</td>\n",
              "      <td>2</td>\n",
              "      <td>2018</td>\n",
              "      <td>13632.94</td>\n",
              "      <td>13830.32</td>\n",
              "      <td>13606.278</td>\n",
              "      <td>13582.544484</td>\n",
              "      <td>0.833532</td>\n",
              "      <td>57.458270</td>\n",
              "      <td>59.615338</td>\n",
              "    </tr>\n",
              "    <tr>\n",
              "      <th>26</th>\n",
              "      <td>2018-01-02 03:00:00</td>\n",
              "      <td>13310.66</td>\n",
              "      <td>13550.01</td>\n",
              "      <td>13550.00</td>\n",
              "      <td>13372.95</td>\n",
              "      <td>896.065948</td>\n",
              "      <td>1</td>\n",
              "      <td>1</td>\n",
              "      <td>3</td>\n",
              "      <td>2018</td>\n",
              "      <td>13550.01</td>\n",
              "      <td>13632.94</td>\n",
              "      <td>13573.246</td>\n",
              "      <td>13512.679656</td>\n",
              "      <td>-0.749963</td>\n",
              "      <td>43.184392</td>\n",
              "      <td>57.561136</td>\n",
              "    </tr>\n",
              "    <tr>\n",
              "      <th>27</th>\n",
              "      <td>2018-01-02 04:00:00</td>\n",
              "      <td>13005.00</td>\n",
              "      <td>13400.00</td>\n",
              "      <td>13372.96</td>\n",
              "      <td>13164.83</td>\n",
              "      <td>1315.371587</td>\n",
              "      <td>1</td>\n",
              "      <td>1</td>\n",
              "      <td>4</td>\n",
              "      <td>2018</td>\n",
              "      <td>13372.95</td>\n",
              "      <td>13550.01</td>\n",
              "      <td>13510.210</td>\n",
              "      <td>13396.729770</td>\n",
              "      <td>-3.341924</td>\n",
              "      <td>14.906859</td>\n",
              "      <td>46.941316</td>\n",
              "    </tr>\n",
              "    <tr>\n",
              "      <th>28</th>\n",
              "      <td>2018-01-02 05:00:00</td>\n",
              "      <td>13150.00</td>\n",
              "      <td>13250.00</td>\n",
              "      <td>13164.84</td>\n",
              "      <td>13194.02</td>\n",
              "      <td>469.466414</td>\n",
              "      <td>1</td>\n",
              "      <td>1</td>\n",
              "      <td>5</td>\n",
              "      <td>2018</td>\n",
              "      <td>13164.83</td>\n",
              "      <td>13372.95</td>\n",
              "      <td>13382.950</td>\n",
              "      <td>13329.159847</td>\n",
              "      <td>-2.324473</td>\n",
              "      <td>-5.089235</td>\n",
              "      <td>48.263391</td>\n",
              "    </tr>\n",
              "  </tbody>\n",
              "</table>\n",
              "</div>\n",
              "    <div class=\"colab-df-buttons\">\n",
              "\n",
              "  <div class=\"colab-df-container\">\n",
              "    <button class=\"colab-df-convert\" onclick=\"convertToInteractive('df-e205278d-cb6f-427a-8db8-3cb00e7b9f65')\"\n",
              "            title=\"Convert this dataframe to an interactive table.\"\n",
              "            style=\"display:none;\">\n",
              "\n",
              "  <svg xmlns=\"http://www.w3.org/2000/svg\" height=\"24px\" viewBox=\"0 -960 960 960\">\n",
              "    <path d=\"M120-120v-720h720v720H120Zm60-500h600v-160H180v160Zm220 220h160v-160H400v160Zm0 220h160v-160H400v160ZM180-400h160v-160H180v160Zm440 0h160v-160H620v160ZM180-180h160v-160H180v160Zm440 0h160v-160H620v160Z\"/>\n",
              "  </svg>\n",
              "    </button>\n",
              "\n",
              "  <style>\n",
              "    .colab-df-container {\n",
              "      display:flex;\n",
              "      gap: 12px;\n",
              "    }\n",
              "\n",
              "    .colab-df-convert {\n",
              "      background-color: #E8F0FE;\n",
              "      border: none;\n",
              "      border-radius: 50%;\n",
              "      cursor: pointer;\n",
              "      display: none;\n",
              "      fill: #1967D2;\n",
              "      height: 32px;\n",
              "      padding: 0 0 0 0;\n",
              "      width: 32px;\n",
              "    }\n",
              "\n",
              "    .colab-df-convert:hover {\n",
              "      background-color: #E2EBFA;\n",
              "      box-shadow: 0px 1px 2px rgba(60, 64, 67, 0.3), 0px 1px 3px 1px rgba(60, 64, 67, 0.15);\n",
              "      fill: #174EA6;\n",
              "    }\n",
              "\n",
              "    .colab-df-buttons div {\n",
              "      margin-bottom: 4px;\n",
              "    }\n",
              "\n",
              "    [theme=dark] .colab-df-convert {\n",
              "      background-color: #3B4455;\n",
              "      fill: #D2E3FC;\n",
              "    }\n",
              "\n",
              "    [theme=dark] .colab-df-convert:hover {\n",
              "      background-color: #434B5C;\n",
              "      box-shadow: 0px 1px 3px 1px rgba(0, 0, 0, 0.15);\n",
              "      filter: drop-shadow(0px 1px 2px rgba(0, 0, 0, 0.3));\n",
              "      fill: #FFFFFF;\n",
              "    }\n",
              "  </style>\n",
              "\n",
              "    <script>\n",
              "      const buttonEl =\n",
              "        document.querySelector('#df-e205278d-cb6f-427a-8db8-3cb00e7b9f65 button.colab-df-convert');\n",
              "      buttonEl.style.display =\n",
              "        google.colab.kernel.accessAllowed ? 'block' : 'none';\n",
              "\n",
              "      async function convertToInteractive(key) {\n",
              "        const element = document.querySelector('#df-e205278d-cb6f-427a-8db8-3cb00e7b9f65');\n",
              "        const dataTable =\n",
              "          await google.colab.kernel.invokeFunction('convertToInteractive',\n",
              "                                                    [key], {});\n",
              "        if (!dataTable) return;\n",
              "\n",
              "        const docLinkHtml = 'Like what you see? Visit the ' +\n",
              "          '<a target=\"_blank\" href=https://colab.research.google.com/notebooks/data_table.ipynb>data table notebook</a>'\n",
              "          + ' to learn more about interactive tables.';\n",
              "        element.innerHTML = '';\n",
              "        dataTable['output_type'] = 'display_data';\n",
              "        await google.colab.output.renderOutput(dataTable, element);\n",
              "        const docLink = document.createElement('div');\n",
              "        docLink.innerHTML = docLinkHtml;\n",
              "        element.appendChild(docLink);\n",
              "      }\n",
              "    </script>\n",
              "  </div>\n",
              "\n",
              "\n",
              "<div id=\"df-07a00139-f1a6-4336-8740-3a53ef2f94b2\">\n",
              "  <button class=\"colab-df-quickchart\" onclick=\"quickchart('df-07a00139-f1a6-4336-8740-3a53ef2f94b2')\"\n",
              "            title=\"Suggest charts\"\n",
              "            style=\"display:none;\">\n",
              "\n",
              "<svg xmlns=\"http://www.w3.org/2000/svg\" height=\"24px\"viewBox=\"0 0 24 24\"\n",
              "     width=\"24px\">\n",
              "    <g>\n",
              "        <path d=\"M19 3H5c-1.1 0-2 .9-2 2v14c0 1.1.9 2 2 2h14c1.1 0 2-.9 2-2V5c0-1.1-.9-2-2-2zM9 17H7v-7h2v7zm4 0h-2V7h2v10zm4 0h-2v-4h2v4z\"/>\n",
              "    </g>\n",
              "</svg>\n",
              "  </button>\n",
              "\n",
              "<style>\n",
              "  .colab-df-quickchart {\n",
              "      --bg-color: #E8F0FE;\n",
              "      --fill-color: #1967D2;\n",
              "      --hover-bg-color: #E2EBFA;\n",
              "      --hover-fill-color: #174EA6;\n",
              "      --disabled-fill-color: #AAA;\n",
              "      --disabled-bg-color: #DDD;\n",
              "  }\n",
              "\n",
              "  [theme=dark] .colab-df-quickchart {\n",
              "      --bg-color: #3B4455;\n",
              "      --fill-color: #D2E3FC;\n",
              "      --hover-bg-color: #434B5C;\n",
              "      --hover-fill-color: #FFFFFF;\n",
              "      --disabled-bg-color: #3B4455;\n",
              "      --disabled-fill-color: #666;\n",
              "  }\n",
              "\n",
              "  .colab-df-quickchart {\n",
              "    background-color: var(--bg-color);\n",
              "    border: none;\n",
              "    border-radius: 50%;\n",
              "    cursor: pointer;\n",
              "    display: none;\n",
              "    fill: var(--fill-color);\n",
              "    height: 32px;\n",
              "    padding: 0;\n",
              "    width: 32px;\n",
              "  }\n",
              "\n",
              "  .colab-df-quickchart:hover {\n",
              "    background-color: var(--hover-bg-color);\n",
              "    box-shadow: 0 1px 2px rgba(60, 64, 67, 0.3), 0 1px 3px 1px rgba(60, 64, 67, 0.15);\n",
              "    fill: var(--button-hover-fill-color);\n",
              "  }\n",
              "\n",
              "  .colab-df-quickchart-complete:disabled,\n",
              "  .colab-df-quickchart-complete:disabled:hover {\n",
              "    background-color: var(--disabled-bg-color);\n",
              "    fill: var(--disabled-fill-color);\n",
              "    box-shadow: none;\n",
              "  }\n",
              "\n",
              "  .colab-df-spinner {\n",
              "    border: 2px solid var(--fill-color);\n",
              "    border-color: transparent;\n",
              "    border-bottom-color: var(--fill-color);\n",
              "    animation:\n",
              "      spin 1s steps(1) infinite;\n",
              "  }\n",
              "\n",
              "  @keyframes spin {\n",
              "    0% {\n",
              "      border-color: transparent;\n",
              "      border-bottom-color: var(--fill-color);\n",
              "      border-left-color: var(--fill-color);\n",
              "    }\n",
              "    20% {\n",
              "      border-color: transparent;\n",
              "      border-left-color: var(--fill-color);\n",
              "      border-top-color: var(--fill-color);\n",
              "    }\n",
              "    30% {\n",
              "      border-color: transparent;\n",
              "      border-left-color: var(--fill-color);\n",
              "      border-top-color: var(--fill-color);\n",
              "      border-right-color: var(--fill-color);\n",
              "    }\n",
              "    40% {\n",
              "      border-color: transparent;\n",
              "      border-right-color: var(--fill-color);\n",
              "      border-top-color: var(--fill-color);\n",
              "    }\n",
              "    60% {\n",
              "      border-color: transparent;\n",
              "      border-right-color: var(--fill-color);\n",
              "    }\n",
              "    80% {\n",
              "      border-color: transparent;\n",
              "      border-right-color: var(--fill-color);\n",
              "      border-bottom-color: var(--fill-color);\n",
              "    }\n",
              "    90% {\n",
              "      border-color: transparent;\n",
              "      border-bottom-color: var(--fill-color);\n",
              "    }\n",
              "  }\n",
              "</style>\n",
              "\n",
              "  <script>\n",
              "    async function quickchart(key) {\n",
              "      const quickchartButtonEl =\n",
              "        document.querySelector('#' + key + ' button');\n",
              "      quickchartButtonEl.disabled = true;  // To prevent multiple clicks.\n",
              "      quickchartButtonEl.classList.add('colab-df-spinner');\n",
              "      try {\n",
              "        const charts = await google.colab.kernel.invokeFunction(\n",
              "            'suggestCharts', [key], {});\n",
              "      } catch (error) {\n",
              "        console.error('Error during call to suggestCharts:', error);\n",
              "      }\n",
              "      quickchartButtonEl.classList.remove('colab-df-spinner');\n",
              "      quickchartButtonEl.classList.add('colab-df-quickchart-complete');\n",
              "    }\n",
              "    (() => {\n",
              "      let quickchartButtonEl =\n",
              "        document.querySelector('#df-07a00139-f1a6-4336-8740-3a53ef2f94b2 button');\n",
              "      quickchartButtonEl.style.display =\n",
              "        google.colab.kernel.accessAllowed ? 'block' : 'none';\n",
              "    })();\n",
              "  </script>\n",
              "</div>\n",
              "\n",
              "    </div>\n",
              "  </div>\n"
            ]
          },
          "metadata": {},
          "execution_count": 16
        }
      ]
    },
    {
      "cell_type": "code",
      "source": [
        "btc_historical.columns"
      ],
      "metadata": {
        "colab": {
          "base_uri": "https://localhost:8080/"
        },
        "id": "o8MRO78STGlJ",
        "outputId": "9636c6c6-70ad-4e13-c824-4a472574fdf8"
      },
      "execution_count": 17,
      "outputs": [
        {
          "output_type": "execute_result",
          "data": {
            "text/plain": [
              "Index(['time', 'low', 'high', 'open', 'close', 'volume', 'day_of_week',\n",
              "       'month', 'hour_of_day', 'year', 'close_lag_1', 'close_lag_2', 'sma_5',\n",
              "       'ema_5', 'roc_1', 'macd', 'rsi'],\n",
              "      dtype='object')"
            ]
          },
          "metadata": {},
          "execution_count": 17
        }
      ]
    },
    {
      "cell_type": "markdown",
      "source": [
        "Defining Features and Target"
      ],
      "metadata": {
        "id": "jk24NmH-1Dld"
      }
    },
    {
      "cell_type": "code",
      "source": [
        "features = ['day_of_week', 'month', 'hour_of_day', 'year','close_lag_1', 'close_lag_2', 'sma_5', 'ema_5', 'roc_1', 'macd', 'rsi']\n",
        "target = 'close'\n",
        "n_rows_to_exclude = 24\n",
        "\n",
        "X = btc_historical.iloc[n_rows_to_exclude:][features]\n",
        "y = btc_historical.iloc[n_rows_to_exclude:][target]"
      ],
      "metadata": {
        "id": "G2UZbfiv1JU_"
      },
      "execution_count": 18,
      "outputs": []
    },
    {
      "cell_type": "code",
      "source": [
        "# Check for NaN values in the entire DataFrame\n",
        "nan_check = X.isnull().sum()\n",
        "\n",
        "# Print columns with NaN values and their counts\n",
        "print(\"Columns with NaN values:\")\n",
        "print(nan_check[nan_check > 0])"
      ],
      "metadata": {
        "colab": {
          "base_uri": "https://localhost:8080/"
        },
        "id": "EfxdqCBzCOww",
        "outputId": "a038573b-6a24-458e-e095-d74ae237ee41"
      },
      "execution_count": 19,
      "outputs": [
        {
          "output_type": "stream",
          "name": "stdout",
          "text": [
            "Columns with NaN values:\n",
            "Series([], dtype: int64)\n"
          ]
        }
      ]
    },
    {
      "cell_type": "code",
      "source": [
        "# Normalize features using MinMaxScaler\n",
        "scaler = MinMaxScaler()\n",
        "X_scaled = scaler.fit_transform(X)\n",
        "\n",
        "# Reshape data for LSTM input\n",
        "X_reshaped = X_scaled.reshape((X_scaled.shape[0], 1, X_scaled.shape[1]))"
      ],
      "metadata": {
        "id": "BT6ydm5g4NJg"
      },
      "execution_count": 21,
      "outputs": []
    },
    {
      "cell_type": "markdown",
      "source": [
        "##Test Train Split"
      ],
      "metadata": {
        "id": "YmtF6AEwVT67"
      }
    },
    {
      "cell_type": "code",
      "source": [
        "X_train, X_test, y_train, y_test = train_test_split(X_reshaped, y, test_size=0.1, random_state=19)"
      ],
      "metadata": {
        "id": "zbwoXObsTQzr"
      },
      "execution_count": 22,
      "outputs": []
    },
    {
      "cell_type": "code",
      "source": [
        "X_test.shape"
      ],
      "metadata": {
        "colab": {
          "base_uri": "https://localhost:8080/"
        },
        "id": "G-ER0zgBUiYE",
        "outputId": "60460751-42a7-4952-cd6f-086b481c694a"
      },
      "execution_count": 23,
      "outputs": [
        {
          "output_type": "execute_result",
          "data": {
            "text/plain": [
              "(5325, 1, 11)"
            ]
          },
          "metadata": {},
          "execution_count": 23
        }
      ]
    },
    {
      "cell_type": "code",
      "source": [
        "X_train.shape"
      ],
      "metadata": {
        "colab": {
          "base_uri": "https://localhost:8080/"
        },
        "id": "Bh_MF2DKW_g-",
        "outputId": "7dcf4107-2c7f-4923-85b2-35868d825251"
      },
      "execution_count": 24,
      "outputs": [
        {
          "output_type": "execute_result",
          "data": {
            "text/plain": [
              "(47923, 1, 11)"
            ]
          },
          "metadata": {},
          "execution_count": 24
        }
      ]
    },
    {
      "cell_type": "markdown",
      "source": [
        "#**LSTM training**- Keras API"
      ],
      "metadata": {
        "id": "h7kwdY3t7OoX"
      }
    },
    {
      "cell_type": "code",
      "source": [
        "# Build an LSTM model using TensorFlow's Keras API\n",
        "model = Sequential()\n",
        "model.add(LSTM(50, input_shape=(X_train.shape[1], X_train.shape[2]), activation='relu'))\n",
        "model.add(Dense(1))"
      ],
      "metadata": {
        "id": "HQSgUJbiXGQg"
      },
      "execution_count": 25,
      "outputs": []
    },
    {
      "cell_type": "code",
      "source": [
        "# Compile the model\n",
        "model.compile(optimizer='adam', loss='mean_squared_error')\n",
        "\n",
        "# Train the model\n",
        "model.fit(X_train, y_train, epochs=100, batch_size=32, validation_data=(X_test, y_test), verbose=1)"
      ],
      "metadata": {
        "id": "WXGfBi53XM0_",
        "colab": {
          "base_uri": "https://localhost:8080/"
        },
        "outputId": "a7aba519-0674-4eea-d09e-c1189e0b30bc"
      },
      "execution_count": 27,
      "outputs": [
        {
          "output_type": "stream",
          "name": "stdout",
          "text": [
            "Epoch 1/100\n",
            "1498/1498 [==============================] - 6s 3ms/step - loss: 27373.1777 - val_loss: 28059.5234\n",
            "Epoch 2/100\n",
            "1498/1498 [==============================] - 5s 3ms/step - loss: 27437.3242 - val_loss: 28383.3516\n",
            "Epoch 3/100\n",
            "1498/1498 [==============================] - 4s 3ms/step - loss: 27330.4082 - val_loss: 27408.2246\n",
            "Epoch 4/100\n",
            "1498/1498 [==============================] - 4s 3ms/step - loss: 27377.4160 - val_loss: 27450.4746\n",
            "Epoch 5/100\n",
            "1498/1498 [==============================] - 5s 3ms/step - loss: 27331.7812 - val_loss: 27538.9141\n",
            "Epoch 6/100\n",
            "1498/1498 [==============================] - 4s 3ms/step - loss: 27316.3008 - val_loss: 27716.0723\n",
            "Epoch 7/100\n",
            "1498/1498 [==============================] - 5s 3ms/step - loss: 27266.0566 - val_loss: 27554.0859\n",
            "Epoch 8/100\n",
            "1498/1498 [==============================] - 4s 3ms/step - loss: 27253.2441 - val_loss: 27885.0547\n",
            "Epoch 9/100\n",
            "1498/1498 [==============================] - 4s 3ms/step - loss: 27233.8750 - val_loss: 28073.2246\n",
            "Epoch 10/100\n",
            "1498/1498 [==============================] - 5s 3ms/step - loss: 27182.2363 - val_loss: 27486.6953\n",
            "Epoch 11/100\n",
            "1498/1498 [==============================] - 4s 3ms/step - loss: 27176.0488 - val_loss: 28485.8027\n",
            "Epoch 12/100\n",
            "1498/1498 [==============================] - 4s 3ms/step - loss: 27073.5957 - val_loss: 27539.4336\n",
            "Epoch 13/100\n",
            "1498/1498 [==============================] - 5s 3ms/step - loss: 27115.0723 - val_loss: 27027.9004\n",
            "Epoch 14/100\n",
            "1498/1498 [==============================] - 4s 3ms/step - loss: 27067.6777 - val_loss: 27473.3242\n",
            "Epoch 15/100\n",
            "1498/1498 [==============================] - 4s 3ms/step - loss: 27051.2461 - val_loss: 27569.1934\n",
            "Epoch 16/100\n",
            "1498/1498 [==============================] - 5s 3ms/step - loss: 27068.6152 - val_loss: 27327.9902\n",
            "Epoch 17/100\n",
            "1498/1498 [==============================] - 4s 3ms/step - loss: 26998.1230 - val_loss: 27298.3320\n",
            "Epoch 18/100\n",
            "1498/1498 [==============================] - 4s 3ms/step - loss: 26950.0371 - val_loss: 26926.9492\n",
            "Epoch 19/100\n",
            "1498/1498 [==============================] - 5s 3ms/step - loss: 26969.2500 - val_loss: 26986.6094\n",
            "Epoch 20/100\n",
            "1498/1498 [==============================] - 4s 3ms/step - loss: 26916.7754 - val_loss: 27425.7539\n",
            "Epoch 21/100\n",
            "1498/1498 [==============================] - 5s 3ms/step - loss: 26941.2480 - val_loss: 27291.4023\n",
            "Epoch 22/100\n",
            "1498/1498 [==============================] - 5s 3ms/step - loss: 26886.4980 - val_loss: 27471.1582\n",
            "Epoch 23/100\n",
            "1498/1498 [==============================] - 4s 3ms/step - loss: 26848.8320 - val_loss: 26720.6094\n",
            "Epoch 24/100\n",
            "1498/1498 [==============================] - 5s 3ms/step - loss: 26824.8340 - val_loss: 27039.3262\n",
            "Epoch 25/100\n",
            "1498/1498 [==============================] - 4s 3ms/step - loss: 26757.0605 - val_loss: 27641.8438\n",
            "Epoch 26/100\n",
            "1498/1498 [==============================] - 4s 3ms/step - loss: 26836.8984 - val_loss: 26621.9590\n",
            "Epoch 27/100\n",
            "1498/1498 [==============================] - 5s 3ms/step - loss: 26830.4863 - val_loss: 26764.1387\n",
            "Epoch 28/100\n",
            "1498/1498 [==============================] - 4s 3ms/step - loss: 26745.1406 - val_loss: 26867.4863\n",
            "Epoch 29/100\n",
            "1498/1498 [==============================] - 4s 3ms/step - loss: 26705.8105 - val_loss: 26770.2891\n",
            "Epoch 30/100\n",
            "1498/1498 [==============================] - 5s 3ms/step - loss: 26668.3457 - val_loss: 26867.4277\n",
            "Epoch 31/100\n",
            "1498/1498 [==============================] - 4s 3ms/step - loss: 26629.9277 - val_loss: 26520.6289\n",
            "Epoch 32/100\n",
            "1498/1498 [==============================] - 5s 3ms/step - loss: 26610.6660 - val_loss: 26735.1289\n",
            "Epoch 33/100\n",
            "1498/1498 [==============================] - 5s 3ms/step - loss: 26610.3359 - val_loss: 26537.2578\n",
            "Epoch 34/100\n",
            "1498/1498 [==============================] - 4s 3ms/step - loss: 26514.6719 - val_loss: 27189.8086\n",
            "Epoch 35/100\n",
            "1498/1498 [==============================] - 5s 3ms/step - loss: 26567.3418 - val_loss: 26686.1094\n",
            "Epoch 36/100\n",
            "1498/1498 [==============================] - 4s 3ms/step - loss: 26592.9160 - val_loss: 26607.5996\n",
            "Epoch 37/100\n",
            "1498/1498 [==============================] - 4s 3ms/step - loss: 26536.2754 - val_loss: 27113.3301\n",
            "Epoch 38/100\n",
            "1498/1498 [==============================] - 5s 3ms/step - loss: 26524.1328 - val_loss: 26458.2871\n",
            "Epoch 39/100\n",
            "1498/1498 [==============================] - 4s 3ms/step - loss: 26493.7637 - val_loss: 26328.8105\n",
            "Epoch 40/100\n",
            "1498/1498 [==============================] - 4s 3ms/step - loss: 26476.8340 - val_loss: 26280.4766\n",
            "Epoch 41/100\n",
            "1498/1498 [==============================] - 5s 3ms/step - loss: 26464.1699 - val_loss: 26775.6895\n",
            "Epoch 42/100\n",
            "1498/1498 [==============================] - 4s 3ms/step - loss: 26462.3652 - val_loss: 26975.0293\n",
            "Epoch 43/100\n",
            "1498/1498 [==============================] - 4s 3ms/step - loss: 26441.8535 - val_loss: 26871.8418\n",
            "Epoch 44/100\n",
            "1498/1498 [==============================] - 5s 3ms/step - loss: 26429.5312 - val_loss: 26184.3359\n",
            "Epoch 45/100\n",
            "1498/1498 [==============================] - 4s 3ms/step - loss: 26376.4395 - val_loss: 26363.0508\n",
            "Epoch 46/100\n",
            "1498/1498 [==============================] - 5s 3ms/step - loss: 26327.1133 - val_loss: 26204.7363\n",
            "Epoch 47/100\n",
            "1498/1498 [==============================] - 4s 3ms/step - loss: 26341.1934 - val_loss: 26424.5234\n",
            "Epoch 48/100\n",
            "1498/1498 [==============================] - 4s 3ms/step - loss: 26247.3594 - val_loss: 26656.9375\n",
            "Epoch 49/100\n",
            "1498/1498 [==============================] - 5s 3ms/step - loss: 26220.3203 - val_loss: 26199.7012\n",
            "Epoch 50/100\n",
            "1498/1498 [==============================] - 4s 3ms/step - loss: 26242.8418 - val_loss: 26885.8145\n",
            "Epoch 51/100\n",
            "1498/1498 [==============================] - 4s 3ms/step - loss: 26151.8203 - val_loss: 26463.8281\n",
            "Epoch 52/100\n",
            "1498/1498 [==============================] - 5s 3ms/step - loss: 26233.9414 - val_loss: 26359.6133\n",
            "Epoch 53/100\n",
            "1498/1498 [==============================] - 4s 3ms/step - loss: 26120.1914 - val_loss: 26242.6777\n",
            "Epoch 54/100\n",
            "1498/1498 [==============================] - 4s 3ms/step - loss: 26141.4375 - val_loss: 25995.1113\n",
            "Epoch 55/100\n",
            "1498/1498 [==============================] - 5s 3ms/step - loss: 26168.4004 - val_loss: 26246.1680\n",
            "Epoch 56/100\n",
            "1498/1498 [==============================] - 4s 3ms/step - loss: 26132.9824 - val_loss: 26353.9355\n",
            "Epoch 57/100\n",
            "1498/1498 [==============================] - 4s 3ms/step - loss: 26067.1758 - val_loss: 26232.7910\n",
            "Epoch 58/100\n",
            "1498/1498 [==============================] - 5s 3ms/step - loss: 26047.6680 - val_loss: 26413.6465\n",
            "Epoch 59/100\n",
            "1498/1498 [==============================] - 4s 3ms/step - loss: 26050.7227 - val_loss: 26713.2637\n",
            "Epoch 60/100\n",
            "1498/1498 [==============================] - 5s 3ms/step - loss: 26088.0176 - val_loss: 25980.7363\n",
            "Epoch 61/100\n",
            "1498/1498 [==============================] - 4s 3ms/step - loss: 25940.1191 - val_loss: 26580.5430\n",
            "Epoch 62/100\n",
            "1498/1498 [==============================] - 4s 3ms/step - loss: 25954.2676 - val_loss: 25967.1523\n",
            "Epoch 63/100\n",
            "1498/1498 [==============================] - 5s 3ms/step - loss: 25956.5957 - val_loss: 25987.1582\n",
            "Epoch 64/100\n",
            "1498/1498 [==============================] - 4s 3ms/step - loss: 25953.8984 - val_loss: 25940.9727\n",
            "Epoch 65/100\n",
            "1498/1498 [==============================] - 4s 3ms/step - loss: 25950.8770 - val_loss: 25940.6777\n",
            "Epoch 66/100\n",
            "1498/1498 [==============================] - 5s 3ms/step - loss: 25883.3672 - val_loss: 25960.9180\n",
            "Epoch 67/100\n",
            "1498/1498 [==============================] - 4s 3ms/step - loss: 25869.3809 - val_loss: 25620.4805\n",
            "Epoch 68/100\n",
            "1498/1498 [==============================] - 4s 3ms/step - loss: 25849.6289 - val_loss: 26095.4961\n",
            "Epoch 69/100\n",
            "1498/1498 [==============================] - 5s 3ms/step - loss: 25822.0312 - val_loss: 25915.6035\n",
            "Epoch 70/100\n",
            "1498/1498 [==============================] - 4s 3ms/step - loss: 25796.1113 - val_loss: 26153.7383\n",
            "Epoch 71/100\n",
            "1498/1498 [==============================] - 5s 3ms/step - loss: 25790.9199 - val_loss: 25965.9277\n",
            "Epoch 72/100\n",
            "1498/1498 [==============================] - 4s 3ms/step - loss: 25768.6172 - val_loss: 25961.5586\n",
            "Epoch 73/100\n",
            "1498/1498 [==============================] - 4s 3ms/step - loss: 25752.1797 - val_loss: 25735.4609\n",
            "Epoch 74/100\n",
            "1498/1498 [==============================] - 5s 3ms/step - loss: 25713.5820 - val_loss: 27267.9688\n",
            "Epoch 75/100\n",
            "1498/1498 [==============================] - 4s 3ms/step - loss: 25772.8672 - val_loss: 26335.7539\n",
            "Epoch 76/100\n",
            "1498/1498 [==============================] - 4s 3ms/step - loss: 25711.4297 - val_loss: 25847.7852\n",
            "Epoch 77/100\n",
            "1498/1498 [==============================] - 5s 3ms/step - loss: 25634.5996 - val_loss: 25872.0879\n",
            "Epoch 78/100\n",
            "1498/1498 [==============================] - 4s 3ms/step - loss: 25671.8320 - val_loss: 25794.8789\n",
            "Epoch 79/100\n",
            "1498/1498 [==============================] - 4s 3ms/step - loss: 25692.1348 - val_loss: 25981.3105\n",
            "Epoch 80/100\n",
            "1498/1498 [==============================] - 5s 3ms/step - loss: 25630.8848 - val_loss: 26159.3906\n",
            "Epoch 81/100\n",
            "1498/1498 [==============================] - 4s 3ms/step - loss: 25666.8594 - val_loss: 25845.2129\n",
            "Epoch 82/100\n",
            "1498/1498 [==============================] - 4s 3ms/step - loss: 25617.1055 - val_loss: 26312.6660\n",
            "Epoch 83/100\n",
            "1498/1498 [==============================] - 5s 3ms/step - loss: 25494.8770 - val_loss: 26588.7188\n",
            "Epoch 84/100\n",
            "1498/1498 [==============================] - 4s 3ms/step - loss: 25607.7832 - val_loss: 26124.3945\n",
            "Epoch 85/100\n",
            "1498/1498 [==============================] - 5s 4ms/step - loss: 25544.6953 - val_loss: 26201.1016\n",
            "Epoch 86/100\n",
            "1498/1498 [==============================] - 4s 3ms/step - loss: 25510.6172 - val_loss: 25697.6758\n",
            "Epoch 87/100\n",
            "1498/1498 [==============================] - 4s 3ms/step - loss: 25521.9355 - val_loss: 26036.5801\n",
            "Epoch 88/100\n",
            "1498/1498 [==============================] - 5s 3ms/step - loss: 25511.0703 - val_loss: 25616.7324\n",
            "Epoch 89/100\n",
            "1498/1498 [==============================] - 4s 3ms/step - loss: 25457.7695 - val_loss: 25694.4375\n",
            "Epoch 90/100\n",
            "1498/1498 [==============================] - 4s 3ms/step - loss: 25462.0879 - val_loss: 25391.5488\n",
            "Epoch 91/100\n",
            "1498/1498 [==============================] - 5s 3ms/step - loss: 25463.0234 - val_loss: 27070.0469\n",
            "Epoch 92/100\n",
            "1498/1498 [==============================] - 4s 3ms/step - loss: 25384.9863 - val_loss: 25962.1699\n",
            "Epoch 93/100\n",
            "1498/1498 [==============================] - 5s 3ms/step - loss: 25407.0898 - val_loss: 25983.9277\n",
            "Epoch 94/100\n",
            "1498/1498 [==============================] - 5s 3ms/step - loss: 25414.7266 - val_loss: 25738.4316\n",
            "Epoch 95/100\n",
            "1498/1498 [==============================] - 4s 3ms/step - loss: 25330.9824 - val_loss: 25341.2891\n",
            "Epoch 96/100\n",
            "1498/1498 [==============================] - 5s 4ms/step - loss: 25380.0312 - val_loss: 25384.0684\n",
            "Epoch 97/100\n",
            "1498/1498 [==============================] - 4s 3ms/step - loss: 25369.7070 - val_loss: 25877.7695\n",
            "Epoch 98/100\n",
            "1498/1498 [==============================] - 4s 3ms/step - loss: 25380.8105 - val_loss: 25390.9297\n",
            "Epoch 99/100\n",
            "1498/1498 [==============================] - 5s 4ms/step - loss: 25315.4844 - val_loss: 26022.6465\n",
            "Epoch 100/100\n",
            "1498/1498 [==============================] - 4s 3ms/step - loss: 25289.8594 - val_loss: 25393.2832\n"
          ]
        },
        {
          "output_type": "execute_result",
          "data": {
            "text/plain": [
              "<keras.src.callbacks.History at 0x7de1810ccfa0>"
            ]
          },
          "metadata": {},
          "execution_count": 27
        }
      ]
    },
    {
      "cell_type": "markdown",
      "source": [
        "## Test the Model"
      ],
      "metadata": {
        "id": "HW9XuADdYjtW"
      }
    },
    {
      "cell_type": "code",
      "source": [
        "# Evaluate the model on the test set\n",
        "test_predictions = model.predict(X_test)\n",
        "\n",
        "# Calculate Root Mean Squared Error (RMSE) ignoring NaN values\n",
        "valid_indices = ~np.isnan(y_test) & ~np.isnan(test_predictions.flatten())\n",
        "test_rmse = np.sqrt(np.nanmean((y_test[valid_indices] - test_predictions.flatten()[valid_indices])**2))\n",
        "print(f'Test RMSE: {test_rmse}')\n",
        "\n",
        "# Calculate Mean Absolute Percentage Error (MAPE)\n",
        "mape = np.mean(np.abs((y_test - test_predictions.flatten()) / y_test)) * 100\n",
        "print(f'Mean Absolute Percentage Error (MAPE): {mape:.2f}%')\n"
      ],
      "metadata": {
        "colab": {
          "base_uri": "https://localhost:8080/"
        },
        "id": "E0iDoDrVYkSX",
        "outputId": "dbef7347-f9b5-471c-a65e-5d9067baca81"
      },
      "execution_count": 28,
      "outputs": [
        {
          "output_type": "stream",
          "name": "stdout",
          "text": [
            "167/167 [==============================] - 1s 2ms/step\n",
            "Test RMSE: 159.35271451194197\n",
            "Mean Absolute Percentage Error (MAPE): 0.38%\n"
          ]
        }
      ]
    },
    {
      "cell_type": "code",
      "source": [
        "X_test.shape"
      ],
      "metadata": {
        "colab": {
          "base_uri": "https://localhost:8080/"
        },
        "id": "6MjVwMXVYSu6",
        "outputId": "db906059-14cb-4d3b-8a9b-300303027cae"
      },
      "execution_count": 52,
      "outputs": [
        {
          "output_type": "execute_result",
          "data": {
            "text/plain": [
              "(5325, 1, 11)"
            ]
          },
          "metadata": {},
          "execution_count": 52
        }
      ]
    },
    {
      "cell_type": "code",
      "source": [],
      "metadata": {
        "id": "HDKTvwDFYWVG"
      },
      "execution_count": 73,
      "outputs": []
    },
    {
      "cell_type": "code",
      "source": [
        "# Exract the last 'time_steps' data points from the historical data\n",
        "time_steps = 10*24  # Assuming 10 days with hourly data\n",
        "\n",
        "# Exract the last 'time_steps' data points for the selected features\n",
        "last_sequence = btc_historical[features].values[-time_steps:]\n",
        "\n",
        "# Normalize the last sequence using the same scaler used during training\n",
        "last_sequence_scaled = scaler.transform(last_sequence)\n",
        "last_sequence_reshaped = last_sequence_scaled.reshape((time_steps, 1, len(features)))\n",
        "\n",
        "# Predict the last 5 days\n",
        "predicted_values = []\n",
        "\n",
        "for _ in range(10):\n",
        "    # Use the model to predict the next value in the sequence based on the current state\n",
        "    next_value = model.predict(last_sequence_reshaped)\n",
        "\n",
        "    # Extract the predicted scalar value and append it to the list of predicted values\n",
        "    predicted_values.append(next_value[0, 0])\n",
        "\n",
        "    # Shift the existing values in the sequence to the left, discarding the oldest value\n",
        "    last_sequence_reshaped = np.roll(last_sequence_reshaped, -1, axis=0)\n",
        "\n",
        "    # Update the last values in the sequence with the most recent predicted value\n",
        "    last_sequence_reshaped[-1, :] = next_value[0, 0]\n",
        "\n",
        "    for _ in range(23):\n",
        "        # Shift the existing values in the sequence to the left, discarding the oldest value\n",
        "        last_sequence_reshaped = np.roll(last_sequence_reshaped, -1, axis=0)\n",
        "\n",
        "        # Update the last values in the sequence with the most recent predicted value\n",
        "        last_sequence_reshaped[-1, :] = next_value[0, 0]\n",
        "\n",
        "# Print or use the predicted values for the next 5 days\n",
        "print(predicted_values)"
      ],
      "metadata": {
        "colab": {
          "base_uri": "https://localhost:8080/"
        },
        "id": "w9TCQ8DMaVYN",
        "outputId": "fe969f5b-f19d-49d6-f0a1-102dce90a9da"
      },
      "execution_count": 80,
      "outputs": [
        {
          "output_type": "stream",
          "name": "stdout",
          "text": [
            "8/8 [==============================] - 0s 2ms/step\n",
            "8/8 [==============================] - 0s 2ms/step\n",
            "8/8 [==============================] - 0s 3ms/step\n",
            "8/8 [==============================] - 0s 2ms/step\n",
            "8/8 [==============================] - 0s 2ms/step\n",
            "8/8 [==============================] - 0s 2ms/step\n",
            "8/8 [==============================] - 0s 2ms/step\n",
            "8/8 [==============================] - 0s 2ms/step\n",
            "8/8 [==============================] - 0s 3ms/step\n",
            "8/8 [==============================] - 0s 2ms/step\n",
            "[41615.83, 41466.312, 39697.785, 40016.047, 40014.613, 39862.203, 41774.56, 42063.137, 42015.684, 43360.18]\n"
          ]
        }
      ]
    },
    {
      "cell_type": "code",
      "source": [],
      "metadata": {
        "id": "RCkfW9eauNwI"
      },
      "execution_count": null,
      "outputs": []
    }
  ]
}